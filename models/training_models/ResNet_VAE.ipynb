{
 "cells": [
  {
   "cell_type": "code",
   "execution_count": 1,
   "metadata": {},
   "outputs": [],
   "source": [
    "from models.definitions.resnet_vae import ResnetVAE\n",
    "from utils.dataloaders.dataloader_cifar10_single import DataLoaderCIFAR10\n",
    "\n",
    "from torchvision import transforms\n",
    "import torch\n",
    "from torch.optim import Adam\n",
    "\n",
    "import sys\n",
    "# Add sys path for importing project modules\n",
    "sys.path.append('../')\n"
   ]
  },
  {
   "cell_type": "code",
   "execution_count": 9,
   "metadata": {},
   "outputs": [
    {
     "name": "stdout",
     "output_type": "stream",
     "text": [
      "mps\n"
     ]
    },
    {
     "data": {
      "text/plain": [
       "<torch._C.Generator at 0x7fa56061f850>"
      ]
     },
     "execution_count": 9,
     "metadata": {},
     "output_type": "execute_result"
    }
   ],
   "source": [
    "config = {\n",
    "    'model_name': 'VAE',\n",
    "    'dataset': 'CIFAR10',\n",
    "    'seed': 4,\n",
    "    # Model setup \n",
    "    'in_chan': 3,\n",
    "    'latent_dim': 16,\n",
    "    # Training setup\n",
    "    'batch_size': 256,\n",
    "    'num_epochs': 15,\n",
    "    'learning_rate': 0.0002,\n",
    "    'latent_dim': 16\n",
    "}\n",
    "\n",
    "# DEVICE for Mac for Windows use CUDA\n",
    "DEVICE = torch.device(\"mps\")\n",
    "print(DEVICE)\n",
    "\n",
    "# Set the seed\n",
    "torch.manual_seed(config['seed'])"
   ]
  },
  {
   "cell_type": "code",
   "execution_count": 3,
   "metadata": {},
   "outputs": [],
   "source": [
    "transform = [transforms.ToTensor(),transforms.Normalize((0.5, 0.5, 0.5), (0.5, 0.5, 0.5))]\n"
   ]
  },
  {
   "cell_type": "code",
   "execution_count": 4,
   "metadata": {},
   "outputs": [
    {
     "name": "stdout",
     "output_type": "stream",
     "text": [
      "Files already downloaded and verified\n",
      "Files already downloaded and verified\n"
     ]
    }
   ],
   "source": [
    "dataloader = DataLoaderCIFAR10(batch_size=32, transformation=transform)\n",
    "\n",
    "test_loader = dataloader.get_test_loader()\n",
    "train_loader = dataloader.get_train_loader()"
   ]
  },
  {
   "cell_type": "code",
   "execution_count": 5,
   "metadata": {},
   "outputs": [],
   "source": [
    "# Model Initialization\n",
    "model = ResnetVAE(config['latent_dim'], config['in_chan']).to(DEVICE)"
   ]
  },
  {
   "cell_type": "code",
   "execution_count": 11,
   "metadata": {},
   "outputs": [],
   "source": [
    "optimizer = Adam(model.parameters(), lr=config['learning_rate'])\n",
    "\n",
    "def train(model, train_loader, config):\n",
    "    model.train()\n",
    "    for epoch in range(config['num_epochs']):\n",
    "        overall_loss = 0\n",
    "        for batch_idx, (x, _) in enumerate(train_loader):\n",
    "            x = x.to(DEVICE)\n",
    "            optimizer.zero_grad()\n",
    "            x_hat, mean, log_var = model(x)\n",
    "            loss = model.loss_function(x, x_hat, mean, log_var)\n",
    "            overall_loss += loss.item()\n",
    "            loss.backward()\n",
    "            optimizer.step()\n",
    "            if batch_idx % 100 == 0:\n",
    "                print(\"\\tEpoch\", epoch + 1, \"complete!\", \"\\tBatch\", batch_idx, \"complete!\", \"\\tLoss:\", loss.item())\n",
    "        print(\"\\tEpoch\", epoch + 1, \"complete!\", \"\\tAverage Loss: \", overall_loss / (batch_idx*config['batch_size']))\n",
    "    print(\"Finish!!\")\n",
    "\n",
    "\n"
   ]
  },
  {
   "cell_type": "code",
   "execution_count": 12,
   "metadata": {},
   "outputs": [
    {
     "name": "stdout",
     "output_type": "stream",
     "text": [
      "Number of parameters: 1016019\n"
     ]
    }
   ],
   "source": [
    "# Check how many parameters in the model\n",
    "num_params = sum(p.numel() for p in model.parameters())\n",
    "print('Number of parameters: %d' % num_params)"
   ]
  },
  {
   "cell_type": "code",
   "execution_count": null,
   "metadata": {},
   "outputs": [],
   "source": []
  }
 ],
 "metadata": {
  "kernelspec": {
   "display_name": "relreps",
   "language": "python",
   "name": "python3"
  },
  "language_info": {
   "codemirror_mode": {
    "name": "ipython",
    "version": 3
   },
   "file_extension": ".py",
   "mimetype": "text/x-python",
   "name": "python",
   "nbconvert_exporter": "python",
   "pygments_lexer": "ipython3",
   "version": "3.8.19"
  }
 },
 "nbformat": 4,
 "nbformat_minor": 2
}
