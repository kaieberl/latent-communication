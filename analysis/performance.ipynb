{
 "cells": [
  {
   "cell_type": "markdown",
   "metadata": {},
   "source": [
    "This notebook evaluates the models performance on different levels. This is necessary to see if we can hold the performance or even \n",
    "outperform the reconstruction via stitching."
   ]
  },
  {
   "cell_type": "code",
   "execution_count": 11,
   "metadata": {},
   "outputs": [],
   "source": [
    "import os \n",
    "import sys\n",
    "sys.path.append('../')\n",
    "import torchvision.transforms as transforms\n",
    "import torchvision\n",
    "import torch\n",
    "\n",
    "# Import the model definition \n",
    "#TODO: Add all models here\n",
    "from models.definitions.vae import VAE\n",
    "\n",
    "# Import the dataset\n",
    "from utils.dataloaders.dataloader_mnist_single import *\n",
    "\n"
   ]
  },
  {
   "cell_type": "code",
   "execution_count": 21,
   "metadata": {},
   "outputs": [],
   "source": [
    "# Define transformation\n",
    "transformations_vae= [transforms.ToTensor(), \n",
    "                                # Normalize between -1 and 1\n",
    "                                transforms.Normalize((0.5,), (0.5,)),\n",
    "                                # Flatten the Image to a vector\n",
    "                                transforms.Lambda(lambda x: x.view(-1) )\n",
    "                                ]"
   ]
  },
  {
   "cell_type": "markdown",
   "metadata": {},
   "source": [
    "# Simple Performance\n",
    "The performance is meassured for models for different seeds"
   ]
  },
  {
   "cell_type": "code",
   "execution_count": 38,
   "metadata": {},
   "outputs": [],
   "source": [
    "device = torch.device('mps')\n",
    "# Load model\n",
    "model = VAE(in_dim=784, dims=[256, 128, 64, 32], distribution_dim=16).to(device)\n",
    "# Load checkpoint\n",
    "checkpoint = torch.load('../models/checkpoints/VAE/MNIST/MNIST_VAE_3_10.pth', map_location=device)\n",
    "model.load_state_dict(checkpoint)\n",
    "\n",
    "# Load data\n",
    "dataloader = DataLoaderMNIST(128, transformations_vae)\n",
    "train_loader = dataloader.get_train_loader()\n",
    "test_loader = dataloader.get_test_loader()\n",
    "\n",
    "\n",
    "\n",
    "\n"
   ]
  },
  {
   "cell_type": "code",
   "execution_count": 40,
   "metadata": {},
   "outputs": [
    {
     "name": "stdout",
     "output_type": "stream",
     "text": [
      "Average Reconstruction Loss:  108.470461831164\n"
     ]
    }
   ],
   "source": [
    "# Average Reconstruction Loss \n",
    "\n",
    "def average_reconstruction_loss(model, dataloader):\n",
    "    model.eval()\n",
    "    loss = 0\n",
    "    with torch.no_grad():\n",
    "        for i, (data, _) in enumerate(dataloader):\n",
    "            data = data.to(device)\n",
    "            recon_batch, mu, logvar = model(data)\n",
    "            # Reconstruction loss\n",
    "            loss += model.loss_function(recon_batch, data, mu, logvar).item()\n",
    "    return loss/ (len(dataloader ) * dataloader.batch_size)\n",
    "\n",
    "# Print the average reconstruction loss\n",
    "print(\"Average Reconstruction Loss: \", average_reconstruction_loss(model, train_loader))\n",
    "\n",
    "\n",
    "\n",
    "# Show Reconstruction \n",
    "import matplotlib.pyplot as plt\n",
    "import numpy as np\n",
    "\n",
    "def show_reconstruction(model, dataloader):\n",
    "    model.eval()\n",
    "    with torch.no_grad():\n",
    "        for i, (data, _) in enumerate(dataloader):\n",
    "            data = data.to(device)\n",
    "            recon_batch, _, _ = model(data)\n",
    "            for j in range(5):\n",
    "                plt.subplot(2, 5, j+1)\n",
    "                plt.imshow(data[j].cpu().view(28, 28).numpy(), cmap='gray')\n",
    "                plt.title('Original')\n",
    "                plt.subplot(2, 5, j+6)\n",
    "                plt.imshow(recon_batch[j].cpu().view(28, 28).numpy(), cmap='gray')\n",
    "                plt.title('Reconstr.')\n",
    "            plt.show()\n",
    "            break\n",
    "#show_reconstruction(model, test_loader)"
   ]
  },
  {
   "cell_type": "code",
   "execution_count": 42,
   "metadata": {},
   "outputs": [
    {
     "name": "stdout",
     "output_type": "stream",
     "text": [
      "Class Distribution:  {3: 6131, 6: 5918, 0: 5923, 2: 5958, 5: 5421, 8: 5851, 1: 6742, 9: 5949, 7: 6265, 4: 5842}\n"
     ]
    }
   ],
   "source": [
    "# Performance for each class \n",
    "\n",
    "# Get from train loader the class distribution\n",
    "def get_class_distribution(dataloader):\n",
    "    class_distribution = {}\n",
    "    for i, (data, labels) in enumerate(dataloader):\n",
    "        for j in range(len(labels)):\n",
    "            label = labels[j].item()\n",
    "            if label in class_distribution:\n",
    "                class_distribution[label] += 1\n",
    "            else:\n",
    "                class_distribution[label] = 1\n",
    "    return class_distribution\n",
    "\n",
    "# Get the class distribution\n",
    "class_distribution = get_class_distribution(train_loader)\n",
    "\n",
    "print(\"Class Distribution: \", class_distribution)"
   ]
  },
  {
   "cell_type": "code",
   "execution_count": 49,
   "metadata": {},
   "outputs": [
    {
     "name": "stdout",
     "output_type": "stream",
     "text": [
      "Loss per class:  {3: 108.53947883149263, 6: 108.52035177217299, 0: 108.53713575778892, 2: 108.75738364428072, 5: 108.65342977552304, 8: 108.68657753826552, 1: 108.00412598154163, 9: 108.44291598778008, 7: 108.44660001421393, 4: 108.47926303010736}\n"
     ]
    },
    {
     "data": {
      "text/plain": [
       "<BarContainer object of 10 artists>"
      ]
     },
     "execution_count": 49,
     "metadata": {},
     "output_type": "execute_result"
    },
    {
     "data": {
      "image/png": "[encoded data removed]",
      "text/plain": [
       "<Figure size 640x480 with 1 Axes>"
      ]
     },
     "metadata": {},
     "output_type": "display_data"
    }
   ],
   "source": [
    "# Get Reconstruction Loss per class\n",
    "def average_loss_per_class(model, dataloader):\n",
    "    model.eval()\n",
    "    class_distribution = get_class_distribution(dataloader)\n",
    "    loss_per_class = {}\n",
    "    with torch.no_grad():\n",
    "        for i, (data, labels) in enumerate(dataloader):\n",
    "            data = data.to(device)\n",
    "            recon_batch, mu, logvar = model(data)\n",
    "            # Reconstruction loss\n",
    "            loss = model.loss_function(recon_batch, data, mu, logvar).item()\n",
    "            for j in range(len(labels)):\n",
    "                label = labels[j].item()\n",
    "                if label in loss_per_class:\n",
    "                    loss_per_class[label] += loss\n",
    "                else:\n",
    "                    loss_per_class[label] = loss\n",
    "    for key in loss_per_class:\n",
    "        loss_per_class[key] /= class_distribution[key] * dataloader.batch_size\n",
    "    print(\"Loss per class: \", loss_per_class)\n",
    "\n",
    "    return loss_per_class\n",
    "average_per_class = average_loss_per_class(model, train_loader)\n",
    "\n",
    "# Histogram of the reconstruction loss per class\n",
    "plt.bar(average_per_class.keys(), average_per_class.values())\n",
    "\n",
    "\n",
    "\n",
    "\n"
   ]
  },
  {
   "cell_type": "code",
   "execution_count": 51,
   "metadata": {},
   "outputs": [
    {
     "name": "stdout",
     "output_type": "stream",
     "text": [
      "Highest Loss:  15287.771484375  Label:  4\n"
     ]
    }
   ],
   "source": [
    "# Labels with higehst and lowest reconstruction loss\n",
    "\n",
    "def highest_lowest_reconstruction_loss(model, dataloader):\n",
    "    model.eval()\n",
    "    highest_loss = 0\n",
    "    highest_label = 0\n",
    "    lowest_loss = 100000\n",
    "    lowest_label = 0\n",
    "    with torch.no_grad():\n",
    "        for i, (data, labels) in enumerate(dataloader):\n",
    "            data = data.to(device)\n",
    "            recon_batch, mu, logvar = model(data)\n",
    "            # Reconstruction loss\n",
    "            loss = model.loss_function(recon_batch, data, mu, logvar).item()\n",
    "            for j in range(len(labels)):\n",
    "                label = labels[j].item()\n",
    "                if loss > highest_loss:\n",
    "                    highest_loss = loss\n",
    "                    highest_label = label\n",
    "                if loss < lowest_loss:\n",
    "                    lowest_loss = loss\n",
    "                    lowest_label = label\n",
    "    return highest_label, highest_loss, lowest_label, lowest_loss\n",
    "\n",
    "highest_label, highest_loss, lowest_label, lowest_loss = highest_lowest_reconstruction_loss(model, train_loader)\n",
    "print(\"Highest Loss: \", highest_loss, \" Label: \", highest_label)"
   ]
  }
 ],
 "metadata": {
  "kernelspec": {
   "display_name": "relreps",
   "language": "python",
   "name": "python3"
  },
  "language_info": {
   "codemirror_mode": {
    "name": "ipython",
    "version": 3
   },
   "file_extension": ".py",
   "mimetype": "text/x-python",
   "name": "python",
   "nbconvert_exporter": "python",
   "pygments_lexer": "ipython3",
   "version": "3.8.19"
  }
 },
 "nbformat": 4,
 "nbformat_minor": 2
}
