{
 "cells": [
  {
   "cell_type": "code",
   "execution_count": 4,
   "metadata": {},
   "outputs": [
    {
     "name": "stdout",
     "output_type": "stream",
     "text": [
      "/Users/mariotuci/Desktop/Google-Drive/Master/SoSe-24/Project Studies/Project/Code/latent-communication/optimization\n",
      "[[-0.02378054 -0.02063656  0.         ... -0.07182948  0.07258499\n",
      "   0.26915641]\n",
      " [ 0.08272445 -0.00507808  0.         ...  0.14601993  0.12053725\n",
      "  -0.05138608]\n",
      " [ 0.22103623  0.10774475  0.         ...  0.29325597 -0.07737957\n",
      "  -0.29114817]\n",
      " ...\n",
      " [ 0.01888949  0.06812493  0.         ... -0.11257962 -0.08496839\n",
      "   0.22393369]\n",
      " [ 0.01285199  0.00228841  0.         ...  0.01946946 -0.00661407\n",
      "  -0.01243917]\n",
      " [ 0.30733424  0.44456226  0.         ...  0.33133148  0.08841471\n",
      "  -0.31158617]]\n"
     ]
    }
   ],
   "source": [
    "import os \n",
    "print(os.getcwd())\n",
    "import numpy as np\n",
    "A = np.load('VAE-LinearTransform/Linear_VAE_Seed1_VAE_Seed4_Optimal.npy')\n",
    "print(A)"
   ]
  },
  {
   "cell_type": "code",
   "execution_count": null,
   "metadata": {},
   "outputs": [],
   "source": [
    "def pca_def(v):\n",
    "    pca = PCA(n_components=2)\n",
    "    pca.fit(v)\n",
    "    return pca\n",
    "\n",
    "\n",
    "def plotLatentTransformed(model, A, pca1, name):\n",
    "    images, _ = next(iter(data_loader.train_loader))\n",
    "    latent_spaces = []\n",
    "    all_labels = []\n",
    "    for images, labels in data_loader.train_loader:\n",
    "        images = images.to(DEVICE)\n",
    "        images = images.view(images.size(0), -1)\n",
    "        latent_space = model.getLatenSpace(images)\n",
    "        latent_space = latent_space.cpu().detach().numpy()\n",
    "        latent_spaces.append(latent_space)\n",
    "        all_labels.append(labels.numpy())\n",
    "\n",
    "    # Concatenate latent space representations from all batches\n",
    "    latent_space = np.concatenate(latent_spaces, axis=0)\n",
    "    all_labels = np.concatenate(all_labels, axis=0)\n",
    "    \n",
    "    # Transform the latent space\n",
    "    latent_space_transformed = np.dot(latent_space, A.T)\n",
    "    # Plot latent space via PCA\n",
    "    latent_space_pca = pca1.transform(latent_space_transformed)\n",
    "\n",
    "    # Plot the latent space\n",
    "\n",
    " \n",
    "    plot = plt.scatter(latent_space_pca[:, 0], latent_space_pca[:, 1], c=all_labels, cmap='tab10', label=all_labels)\n",
    "    plt.title('Latent Space '+ name)\n",
    "    plt.show(plot)\n",
    "\n",
    "\n",
    "    return  plot\n",
    "\n",
    "I = np.eye(32)\n",
    "\n",
    "pca1 = pca_def(z2)\n"
   ]
  }
 ],
 "metadata": {
  "kernelspec": {
   "display_name": "relreps",
   "language": "python",
   "name": "python3"
  },
  "language_info": {
   "codemirror_mode": {
    "name": "ipython",
    "version": 3
   },
   "file_extension": ".py",
   "mimetype": "text/x-python",
   "name": "python",
   "nbconvert_exporter": "python",
   "pygments_lexer": "ipython3",
   "version": "3.8.19"
  }
 },
 "nbformat": 4,
 "nbformat_minor": 2
}
