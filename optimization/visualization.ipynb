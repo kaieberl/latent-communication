{
 "cells": [
  {
   "cell_type": "code",
   "execution_count": 12,
   "metadata": {},
   "outputs": [
    {
     "name": "stdout",
     "output_type": "stream",
     "text": [
      "/Users/mariotuci/Desktop/Google-Drive/Master/SoSe-24/Project Studies/Project/Code/latent-communication/optimization\n",
      "[[ 0.00000000e+00  4.03562401e-01  0.00000000e+00 ...  1.89831485e-01\n",
      "  -6.14076475e-02  1.34250912e-01]\n",
      " [ 0.00000000e+00 -3.00620202e-02  0.00000000e+00 ...  4.04684097e-02\n",
      "  -6.27929378e-02  1.31249487e-02]\n",
      " [ 0.00000000e+00 -1.61046534e-14  0.00000000e+00 ...  1.62092363e-13\n",
      "  -2.26602676e-13  2.12851149e-14]\n",
      " ...\n",
      " [ 0.00000000e+00  5.03275279e-01  0.00000000e+00 ...  2.17558779e-01\n",
      "  -2.42602042e-01  1.68836393e-01]\n",
      " [ 0.00000000e+00 -5.93611337e-03  0.00000000e+00 ... -4.92641754e-03\n",
      "   2.22867583e-03 -3.16713157e-03]\n",
      " [ 0.00000000e+00 -3.22006655e-01  0.00000000e+00 ... -6.61202024e-02\n",
      "   6.77698198e-02 -1.71845469e-01]]\n"
     ]
    }
   ],
   "source": []
  },
  {
   "cell_type": "code",
   "execution_count": null,
   "metadata": {},
   "outputs": [],
   "source": [
    "def pca_def(v):\n",
    "    pca = PCA(n_components=2)\n",
    "    pca.fit(v)\n",
    "    return pca\n",
    "\n",
    "\n",
    "def plotLatentTransformed(model, A, pca1, name):\n",
    "    images, _ = next(iter(data_loader.train_loader))\n",
    "    latent_spaces = []\n",
    "    all_labels = []\n",
    "    for images, labels in data_loader.train_loader:\n",
    "        images = images.to(DEVICE)\n",
    "        images = images.view(images.size(0), -1)\n",
    "        latent_space = model.getLatenSpace(images)\n",
    "        latent_space = latent_space.cpu().detach().numpy()\n",
    "        latent_spaces.append(latent_space)\n",
    "        all_labels.append(labels.numpy())\n",
    "\n",
    "    # Concatenate latent space representations from all batches\n",
    "    latent_space = np.concatenate(latent_spaces, axis=0)\n",
    "    all_labels = np.concatenate(all_labels, axis=0)\n",
    "    \n",
    "    # Transform the latent space\n",
    "    latent_space_transformed = np.dot(latent_space, A.T)\n",
    "    # Plot latent space via PCA\n",
    "    latent_space_pca = pca1.transform(latent_space_transformed)\n",
    "\n",
    "    # Plot the latent space\n",
    "\n",
    " \n",
    "    plot = plt.scatter(latent_space_pca[:, 0], latent_space_pca[:, 1], c=all_labels, cmap='tab10', label=all_labels)\n",
    "    plt.title('Latent Space '+ name)\n",
    "    plt.show(plot)\n",
    "\n",
    "\n",
    "    return  plot\n",
    "\n",
    "I = np.eye(32)\n",
    "\n",
    "pca1 = pca_def(z2)\n"
   ]
  }
 ],
 "metadata": {
  "kernelspec": {
   "display_name": "relreps",
   "language": "python",
   "name": "python3"
  },
  "language_info": {
   "codemirror_mode": {
    "name": "ipython",
    "version": 3
   },
   "file_extension": ".py",
   "mimetype": "text/x-python",
   "name": "python",
   "nbconvert_exporter": "python",
   "pygments_lexer": "ipython3",
   "version": "3.8.19"
  }
 },
 "nbformat": 4,
 "nbformat_minor": 2
}
