{
 "cells": [
  {
   "cell_type": "markdown",
   "metadata": {},
   "source": [
    "# Linear Transformation \n",
    "We will start with the alignement of the same models for different seeds. \n",
    "- First we do not restrict the matrix.\n",
    "- Second we restrict the matrix to be a rotation matrix.\n",
    "- Thrid use affine transformation \n",
    "- Last but not least we are using different norms and regularization techniques to improve the results\n",
    "\n",
    "\n",
    "\n",
    "Steps: \n",
    "- Load the same model but with different seed\n",
    "- Sample different images and get latent representation \n",
    "- Create Datamatrix X and X'\n",
    "- Solve the simple optimization problem (Using closed form solution as well cvxpy solver)\n"
   ]
  },
  {
   "cell_type": "code",
   "execution_count": 6,
   "metadata": {},
   "outputs": [],
   "source": [
    "# Import relevant libraries\n",
    "import numpy as np\n",
    "import matplotlib.pyplot as plt\n",
    "import torch\n",
    "import torchvision.transforms as transforms\n",
    "from sklearn.decomposition import PCA\n",
    "import cvxpy as cp"
   ]
  },
  {
   "cell_type": "code",
   "execution_count": 7,
   "metadata": {},
   "outputs": [],
   "source": [
    "#reimpmort modules with autoreload\n",
    "%load_ext autoreload\n",
    "%autoreload 2\n"
   ]
  },
  {
   "cell_type": "code",
   "execution_count": 28,
   "metadata": {},
   "outputs": [],
   "source": [
    "# Configuration\n",
    "\n",
    "config = {\n",
    "    'path1': \"/Users/mariotuci/Desktop/Google-Drive/Master/SoSe-24/Project Studies/Project/Code/latent-communication/VAE/models/MNIST_VAE_1_10.pth\",\n",
    "    'modelname1': 'VAE',\n",
    "    'seed1': '1',\n",
    "    'path2': \"/Users/mariotuci/Desktop/Google-Drive/Master/SoSe-24/Project Studies/Project/Code/latent-communication/resnet/models/model_seed1.pth\",\n",
    "    'modelname2': 'resnet',\n",
    "    'seed2': '1',\n",
    "    'num_samples': '100',\n",
    "    'storage_path': 'VAE-ResNet-LinearTransform',\n",
    "\n",
    "}\n",
    "\n",
    "DEVICE = torch.device(\"cuda\" if torch.cuda.is_available() else \"cpu\")\n",
    "\n",
    "\n",
    "\n"
   ]
  },
  {
   "cell_type": "markdown",
   "metadata": {},
   "source": [
    "# Optimization Problem in the Linear Case \n",
    "Let $x^i,y^i \\in \\mathbb{R^n}$ for $i = 1,...,m$ and $A \\in \\mathbb{R}^{n \\times n}$ we are looking for the optimal A, which solves the following optimization problem \n",
    "$$ min_A \\sum_{i = 1}^n ||Ax^i - y^i||^2 $$\n",
    "$$ min_ a \\sum_{i=1} \\sum_{j =1} (A_{(j)} x^i - y^i_j)^2 $$\n",
    "where we are using the euclidian norm when not otherwise stated.\n",
    "\n"
   ]
  },
  {
   "cell_type": "markdown",
   "metadata": {},
   "source": [
    "## Load Model and Transformed Data for VAE\n",
    "In this section we load the trained models, which we prepaired for our experimental setup"
   ]
  },
  {
   "cell_type": "code",
   "execution_count": 29,
   "metadata": {},
   "outputs": [],
   "source": [
    "import os\n",
    "# Change directory\n",
    "os.chdir('/Users/mariotuci/Desktop/Google-Drive/Master/SoSe-24/Project Studies/Project/Code/latent-communication')\n",
    "\n",
    "from helper.dataloader_mnist import DataLoaderMNIST  # Import the data loader\n",
    "\n",
    "\n",
    "def load_model(model_name, model_path):\n",
    "    DEVICE = torch.device('cpu')\n",
    "    \n",
    "    if model_name == 'VAE':\n",
    "        from VAE.model_def import VAE\n",
    "        model = VAE(in_dim=784, dims=[256, 128, 64, 32], distribution_dim=16).to(DEVICE)\n",
    "    elif model_name == 'resnet':\n",
    "        from resnet.model_def import ResNet\n",
    "        model = ResNet().to(DEVICE)\n",
    "    else:\n",
    "        raise ValueError(f\"Unknown model name: {model_name}\")\n",
    "    \n",
    "    model.load_state_dict(torch.load(model_path, map_location=DEVICE))\n",
    "    return model\n",
    "\n",
    "def load_Models():\n",
    "    model1 = load_model(config['modelname1'], config['path1'])\n",
    "    model2 = load_model(config['modelname2'], config['path2'])\n",
    "    return model1, model2\n",
    "\n",
    "def get_transformations(model_name):\n",
    "    if model_name == 'VAE':\n",
    "        return [\n",
    "            transforms.ToTensor(),\n",
    "            transforms.Normalize((0.5,), (0.5,)),\n",
    "            transforms.Lambda(lambda x: x.view(-1))\n",
    "        ]\n",
    "    elif model_name == 'resnet':\n",
    "        return [\n",
    "            transforms.ToTensor(),\n",
    "            transforms.Lambda(lambda x: x.repeat(3, 1, 1))\n",
    "        ]\n",
    "    else:\n",
    "        raise ValueError(f\"Unknown model name: {model_name}\")\n",
    "\n",
    "def transformations():\n",
    "    transformations1 = get_transformations(config['modelname1'])\n",
    "    transformations2 = get_transformations(config['modelname2'])\n",
    "    return transformations1, transformations2\n",
    "\n",
    "# Load models\n",
    "model1, model2 = load_Models()\n",
    "\n",
    "# Get transformations\n",
    "transformations1, transformations2 = transformations()\n",
    "\n",
    "# Initialize data loader\n",
    "data_loader = DataLoaderMNIST(128, transformations1, transformations2)\n",
    "\n",
    "# Get train and test loaders\n",
    "train_loader1, train_loader2 = data_loader.get_train_loader()\n",
    "test_loader1, test_loader2 = data_loader.get_test_loader()\n",
    "\n",
    "\n",
    "\n"
   ]
  },
  {
   "cell_type": "markdown",
   "metadata": {},
   "source": [
    "# Sample from Dataset"
   ]
  },
  {
   "cell_type": "code",
   "execution_count": 30,
   "metadata": {},
   "outputs": [
    {
     "name": "stdout",
     "output_type": "stream",
     "text": [
      "100\n",
      "(100, 32)\n",
      "(100, 512)\n"
     ]
    }
   ],
   "source": [
    "from utils.sampler import simple_sampler, class_sampler\n",
    "\n",
    "# Convertiere String in Integer\n",
    "num_samples= int(config['num_samples'])\n",
    "\n",
    "print(num_samples)\n",
    "# Sample simply \n",
    "z1, z2= simple_sampler(num_samples, model1, model2, data_loader, DEVICE)\n",
    "# Sample from each class\n",
    "#z1_suf, z2_suf, images_suf, labels_suf = class_sampler(config['num_samples'], model, model2, data_loader, DEVICE)\n",
    "\n",
    "\n",
    "print(z1.shape)\n",
    "print(z2.shape)"
   ]
  },
  {
   "cell_type": "markdown",
   "metadata": {},
   "source": [
    "# Convex Optimization Solver\n",
    "## Linear Transformation with regularization\n",
    "We are using the cvxpy solver which is a open source solver for convex optimization problems."
   ]
  },
  {
   "cell_type": "code",
   "execution_count": 31,
   "metadata": {},
   "outputs": [
    {
     "name": "stdout",
     "output_type": "stream",
     "text": [
      "/Users/mariotuci/Desktop/Google-Drive/Master/SoSe-24/Project Studies/Project/Code/latent-communication\n",
      "Solving the problem\n",
      "Defining the problem\n",
      "Results saved at  optimization/VAE-ResNet-LinearTransform/Linear_VAE_1_resnet_1_100\n"
     ]
    }
   ],
   "source": [
    "import os \n",
    "#ä Get wd \n",
    "print(os.getcwd())\n",
    "# Linear Transformation\n",
    "from optimizer import LinearFitting\n",
    "\n",
    "linear_fitting = LinearFitting(z1, z2,lamda=0.01)\n",
    "\n",
    "linear_fitting.solve_problem()\n",
    "\n",
    "loss, A  = linear_fitting.get_results()\n",
    "\n",
    "name = 'Linear_' + config['modelname1'] + '_' + config['seed1'] + '_' + config['modelname2'] + '_' + config['seed2'] + '_' + config['num_samples']\n",
    "path = 'optimization/' + config['storage_path'] + '/' + name \n",
    "\n",
    "linear_fitting.save_results(path)\n",
    "\n"
   ]
  },
  {
   "cell_type": "markdown",
   "metadata": {},
   "source": [
    "## Affine transformation\n",
    "In this section we implement the affine transformation. We are adding a offset to the problem."
   ]
  },
  {
   "cell_type": "code",
   "execution_count": 32,
   "metadata": {},
   "outputs": [
    {
     "name": "stdout",
     "output_type": "stream",
     "text": [
      "Solving the problem\n",
      "Defining the problem\n",
      "Getting results\n",
      "Loss: 4735.110819366156\n",
      "A: [[ 0.42950794  1.0270493   0.         ... -0.06626453 -0.4101951\n",
      "  -0.93428544]\n",
      " [-1.03679268 -0.75112466  0.         ...  0.12998677  0.65036223\n",
      "   0.8748361 ]\n",
      " [-2.45142704 -1.50179639  0.         ...  0.31219756  1.08275834\n",
      "   1.69105771]\n",
      " ...\n",
      " [-0.37598857  0.08567009  0.         ...  0.05202521  0.05940989\n",
      "  -0.02349877]\n",
      " [ 0.00459837 -0.1112169   0.         ... -0.01011474  0.0945418\n",
      "   0.11308319]\n",
      " [-0.51777194 -0.47368303  0.         ...  0.07697385  0.29926296\n",
      "   0.47240413]]\n",
      "b: [ 1.90322572e+00  3.68109523e-01  2.86288593e+00 -3.11598591e-01\n",
      " -2.50693238e-01  4.73858302e-01  1.11359893e+00  1.46019465e+00\n",
      " -9.65791233e-01 -1.25898862e+00  1.51723195e+00  2.18363325e+00\n",
      "  2.52955417e-01  1.49394895e+00  1.46016630e+00  1.50376880e+00\n",
      "  1.64075455e+00  8.22025175e-01  2.45822368e+00  2.00660951e-01\n",
      " -8.53297115e-01 -2.18327337e+00  2.58988667e+00 -5.24771300e-01\n",
      "  2.38921025e+00  5.89591083e-01  9.81533467e-02  3.87398449e-01\n",
      " -1.45386725e+00 -1.11610626e+00  7.65687035e-01  2.35820561e+00\n",
      " -1.98242473e+00  4.69548634e-01 -4.97388627e-01 -3.91647444e-01\n",
      "  1.63279729e+00 -6.44036007e-01 -2.32495904e-01  7.56823050e-01\n",
      " -2.25843354e-02  6.97196114e-01 -7.37260413e-01  2.94799091e+00\n",
      " -1.42370652e-01 -1.83794321e-02  1.69164061e+00  1.12811137e+00\n",
      "  1.10048329e+00  2.79529593e+00  2.19767124e-01  1.07948199e+00\n",
      "  6.89113785e-01  2.40419071e+00  1.65401749e-02  1.29525015e-01\n",
      " -1.39182584e+00  3.43274692e-01  1.12950713e+00  3.22613141e+00\n",
      "  7.50616013e-01  3.15898979e-01  1.22865311e+00 -6.75100216e-01\n",
      "  1.46774924e+00  1.18544771e+00 -5.08163086e-01  3.11841433e+00\n",
      " -6.05932407e-02 -3.05600389e-01 -8.72786256e-01  8.05310322e-01\n",
      "  2.08105627e-01 -1.18027862e+00  1.11199137e+00  6.74482675e-01\n",
      "  1.25992729e+00  6.63765012e-01  2.41462538e+00  1.50596003e+00\n",
      "  1.82604819e-01  1.69065187e-02  1.80036325e+00  2.41952391e-01\n",
      "  5.19507261e-01 -4.82289089e-01  7.86615294e-01  2.25971084e+00\n",
      "  1.68006105e+00  1.34688093e-01  1.68488751e+00  3.51450569e+00\n",
      "  5.77827295e-01 -2.05901388e-01  3.56967779e+00 -9.63343076e-02\n",
      " -3.76868904e-01 -6.66565117e-01 -2.83445490e-01  1.40765279e+00\n",
      "  1.38266597e+00  2.53435380e+00 -5.11481789e-01  2.13447876e-01\n",
      "  4.23407097e+00 -3.67476157e-01 -2.59495027e-01  1.78702840e+00\n",
      " -3.80093764e-01 -7.34196140e-02 -8.42178359e-01 -2.46042345e-01\n",
      "  8.59810710e-01  4.09672959e-01  2.00167309e+00  1.10536866e+00\n",
      "  8.27321330e-01  7.49952758e-03  2.00138816e+00 -5.60219487e-03\n",
      "  3.15511326e-03  4.32207967e-01  1.05976475e+00 -4.25803378e-01\n",
      " -1.23419051e+00  9.36681285e-01  1.19519993e+00  2.07531106e+00\n",
      "  3.57779312e-01  6.79479416e-01  4.68407707e-01 -2.04726865e-01\n",
      "  1.78857996e+00  2.12625675e+00  8.75541326e-01  1.18608313e+00\n",
      "  9.24743535e-01  2.53895494e-01 -1.23738219e+00  3.72957159e-01\n",
      "  2.01788054e+00 -9.14409147e-01  1.36357552e+00  1.70864390e+00\n",
      "  1.32468485e+00  2.99995174e+00  1.83692471e+00 -7.04039588e-01\n",
      "  1.44116217e+00  1.42138893e+00  4.18140139e-01 -8.57794281e-01\n",
      "  1.88331564e+00  1.48564496e+00  1.51659065e+00 -1.30767478e+00\n",
      " -2.65701437e-01 -6.94568892e-01  1.17935008e-01  1.79007274e-01\n",
      "  2.53594418e+00 -7.25895230e-01 -7.12427650e-01 -1.57578929e-01\n",
      "  7.26643951e-01  1.43750044e+00  2.47761632e+00 -6.46868238e-03\n",
      "  1.16308118e+00  2.48561675e+00 -4.60887853e-01  1.26747249e+00\n",
      "  1.26153275e+00  5.44078298e-01 -4.46213686e-02  1.76136303e+00\n",
      " -3.57793865e-01 -7.08111345e-01  9.31801143e-01  2.57867273e+00\n",
      " -9.79786743e-01  2.42388296e+00  3.21589567e-01  7.34145558e-01\n",
      " -2.80182958e-01  8.17768824e-01  2.04705884e+00 -8.28141463e-01\n",
      " -3.48332464e-01  2.07523571e+00  3.30285343e-01  1.29230726e+00\n",
      "  2.18967554e+00  9.07166567e-01  8.48938231e-01  1.50188165e+00\n",
      "  8.99670932e-01  1.83435066e+00  1.57240750e+00 -9.58185147e-01\n",
      " -5.46966077e-01  2.76248217e+00  2.68026617e+00  7.68092046e-01\n",
      "  1.13794395e-01 -1.28157658e+00 -1.29830670e+00  9.21355600e-01\n",
      "  1.76123356e+00  8.67156109e-01  1.01985431e+00  8.03008031e-01\n",
      "  1.72269657e+00  1.43065663e+00  1.44514531e+00  1.80664401e+00\n",
      "  1.40776249e-01 -1.32469041e+00  7.40040208e-01  1.13106048e+00\n",
      "  8.12506250e-01 -1.16652283e+00 -1.40507544e+00 -1.27739394e-01\n",
      "  5.81378279e-01 -7.85330297e-01 -1.16282451e+00  1.50754793e+00\n",
      "  2.29918708e+00  8.83237518e-02  3.58308312e-01 -6.45228326e-01\n",
      " -6.77735684e-01 -5.07899886e-02 -1.31426059e+00 -6.37554403e-01\n",
      "  2.71627624e-01  1.04448331e+00  1.56617374e-01  2.47169810e+00\n",
      "  1.27719301e+00 -7.63868133e-01  2.13180693e+00  1.27153396e+00\n",
      "  2.07913523e-01  1.47027735e-01  3.27590464e-01 -5.13138799e-02\n",
      " -7.42783570e-02 -4.75970044e-01  8.24277555e-01  4.12548278e-01\n",
      "  5.44377517e-01  1.31858245e+00  2.78483807e-01  3.10556510e+00\n",
      "  1.06585179e-03  1.22759421e-01 -6.07321634e-03  1.58835493e+00\n",
      " -7.54424359e-02  6.08478307e-01  2.60991938e+00 -1.69164616e+00\n",
      " -3.15197649e-01  3.05038140e+00  3.23124916e+00  3.86885226e-01\n",
      " -1.21503036e+00  1.15042467e+00 -1.33608077e-01  9.16566390e-02\n",
      "  6.24350196e-01 -9.08751217e-01  1.58883425e+00  4.76162433e-01\n",
      "  2.28125023e-01  6.16218335e-01 -1.89088618e-02  1.29551434e+00\n",
      "  3.91479144e-01 -9.67755054e-01  2.14225390e+00  5.64950371e-01\n",
      " -7.72180016e-01  6.04978255e-01  5.78223362e-01  9.62034210e-01\n",
      "  1.17731315e+00  2.39558771e+00  9.59611736e-01  4.37747737e-02\n",
      "  1.29562751e+00 -7.57520842e-01  7.81069743e-01  8.14222202e-01\n",
      " -1.00240266e+00  1.58693309e+00  3.85620229e-01  2.33928659e+00\n",
      "  1.81156124e+00 -1.45482868e-01  2.67997538e+00 -1.69285147e-01\n",
      " -2.24469894e+00  1.47095397e+00  6.77986102e-03  4.13036674e-01\n",
      "  1.77149771e+00  2.92652536e-01  2.12660684e-01  2.94173354e+00\n",
      "  1.29925179e+00  9.96850564e-01  1.16815539e+00  3.80238613e-01\n",
      " -3.60249469e-01  1.98922286e+00  1.75031754e+00  2.42735417e+00\n",
      " -7.36757278e-01  6.48283654e-01  3.97992276e-01  9.05729306e-01\n",
      "  7.15737282e-01  6.25959709e-01  1.48862436e-01 -8.41241563e-01\n",
      " -6.98980742e-02  2.50600979e+00  1.71595424e+00 -2.25792258e-01\n",
      "  2.63761919e-01 -1.16416655e+00  2.35616410e+00  1.10541394e+00\n",
      " -1.22965011e+00 -7.33270519e-01  3.34526959e-01  2.12968726e+00\n",
      "  2.49789842e+00  1.19298424e+00  1.55826307e+00 -6.02084563e-01\n",
      "  3.36001341e+00  2.14146851e+00  2.66764953e-01 -1.23135531e-01\n",
      "  2.60964059e+00  2.26736021e+00  2.73027143e-01 -5.00302279e-01\n",
      " -1.67008677e+00  1.31232270e+00  5.72679540e-01  6.13376754e-01\n",
      "  3.83335444e-01  8.79970675e-01 -7.41399214e-01  9.99174718e-01\n",
      " -4.37481412e-01  1.20877652e+00 -7.72804470e-01 -1.11608042e+00\n",
      "  1.50884398e+00 -4.24906280e-01  1.25283937e+00  2.61743678e+00\n",
      " -1.20165433e+00  1.03021762e+00  2.22868333e+00  3.17963988e+00\n",
      "  7.02567493e-01 -9.31077532e-01  3.28959674e-01 -5.22088949e-01\n",
      " -2.00706338e-01  1.97979931e+00 -5.23826358e-02 -2.10522344e-01\n",
      "  2.33967695e+00  2.84017158e-01  9.77492973e-01  1.02320667e+00\n",
      " -1.02368455e+00  3.55197665e+00 -1.02508996e+00 -1.01775367e+00\n",
      "  2.39278654e-01  8.74694107e-01  1.14461135e+00 -1.01126828e+00\n",
      " -3.56688994e-01 -1.54129208e+00 -4.45027168e-01  2.62639186e+00\n",
      "  9.27181672e-01  4.63351091e-01  3.45541997e+00  2.77937882e-01\n",
      "  1.98526982e+00 -8.13948334e-01  1.29439857e+00  1.33835440e+00\n",
      "  1.42056673e-01  1.80751507e+00  1.60723056e+00 -1.62991921e+00\n",
      "  1.70311866e-01  2.52510701e+00 -9.63778146e-02 -1.18344402e-01\n",
      "  8.03341089e-01  7.94916380e-01 -1.99242481e-01  2.76674438e-01\n",
      "  1.44109534e+00  1.44663288e+00  6.88446470e-01 -2.41412984e-01\n",
      "  2.25425437e+00 -1.69789088e-01  3.41449999e-01  8.80834970e-01\n",
      "  2.55905305e+00 -6.87477440e-01 -3.25253251e-01  2.33654804e+00\n",
      "  1.41697487e+00  2.27809987e+00  2.66426751e+00  2.50352392e+00\n",
      "  2.41671717e+00  9.94057882e-01  2.53632818e+00  5.97788882e-01\n",
      "  2.42392689e-01 -1.03434150e+00  2.78037719e+00  8.16165986e-01\n",
      "  1.40667315e+00  2.02333997e+00  3.63676375e-01  1.62662519e-01\n",
      "  2.34295390e+00  2.02027383e+00  9.16851834e-02  9.68091924e-01\n",
      " -5.03567617e-01 -5.10895769e-01  8.58952815e-01  1.65871733e+00\n",
      "  1.83466359e-01 -5.75896709e-01  6.17331053e-01  3.46588554e-01\n",
      "  8.33572294e-01  1.00213715e+00  2.76934924e+00  1.38846796e+00\n",
      "  2.85678961e+00  1.32155715e+00 -1.72610966e+00  1.82635718e+00\n",
      "  1.39460830e+00 -2.21960850e-01  1.01616961e+00  1.09712853e+00\n",
      "  1.45902636e+00 -1.22887962e-01 -1.22996956e+00 -1.06799955e+00\n",
      "  1.47883933e+00 -4.46737163e-01  6.18243782e-01  1.31536260e+00\n",
      "  2.60724151e-01 -1.33753166e+00  1.56715732e+00  2.23214828e-01\n",
      "  2.16543094e-01  1.81433574e+00  3.05971692e+00 -2.72993163e-01\n",
      "  2.05754740e+00  4.56355916e-01  1.94350820e+00  2.87736769e-01\n",
      " -4.17565315e-01  3.64851857e-03  7.68177638e-01  4.05849946e-01\n",
      " -5.23444366e-02 -6.52459620e-01  1.04702909e-02  1.25374013e+00\n",
      "  2.55114748e+00  2.50837985e+00  1.84266044e+00  1.31803871e-01\n",
      "  1.22666654e-01  2.63943095e+00  2.02733571e+00  1.50054329e+00\n",
      "  1.70707357e+00  2.56067438e+00 -4.71721047e-01  2.74009074e+00\n",
      " -7.15757592e-01  1.56684044e+00 -1.46783535e-01  4.82721143e-01]\n",
      "Results saved at  optimization/VAE-ResNet-LinearTransform/Affine_VAE_1_resnet_1_100\n"
     ]
    }
   ],
   "source": [
    "from optimizer import AffineFitting\n",
    "\n",
    "affine_fitting = AffineFitting(z1, z2, lamda=0.01)\n",
    "\n",
    "# Solve the problem\n",
    "affine_fitting.solve_problem()\n",
    "\n",
    "# Get the results\n",
    "loss, A, b = affine_fitting.get_results()\n",
    "\n",
    "# Show the results\n",
    "print('Loss:', loss)\n",
    "print('A:', A)\n",
    "print('b:', b)\n",
    "\n",
    "# Save the results\n",
    "name = 'Affine_' + config['modelname1'] + '_' + config['seed1'] + '_' + config['modelname2'] + '_' + config['seed2'] + '_' + config['num_samples']\n",
    "path = 'optimization/'+ config['storage_path'] + '/' + name\n",
    "\n",
    "\n",
    "# Save the results\n",
    "affine_fitting.save_results(path)\n",
    "\n"
   ]
  },
  {
   "cell_type": "markdown",
   "metadata": {},
   "source": [
    "## Linear Transformation with constraints (psd)\n",
    "In this section we relax the problem and consider that the matrix has to be positive semidefinite."
   ]
  },
  {
   "cell_type": "code",
   "execution_count": 47,
   "metadata": {},
   "outputs": [
    {
     "name": "stdout",
     "output_type": "stream",
     "text": [
      "Optimal value:  34.901493456700365\n",
      "[[ 1.51821848e-01  5.56895851e-02 -1.93031590e-02 ...  3.39359862e-02\n",
      "   5.35622009e-02  8.20711810e-02]\n",
      " [ 2.08683234e-02  8.40538183e-02 -9.98856392e-04 ...  1.12780196e-02\n",
      "   1.49802143e-01 -8.53980783e-02]\n",
      " [ 6.25820417e-02  2.61333410e-02  4.37348532e-02 ... -9.39537026e-03\n",
      "  -3.47203346e-02  1.30371568e-02]\n",
      " ...\n",
      " [ 4.75892774e-02  7.40579969e-02  2.52987499e-02 ...  8.17855467e-02\n",
      "  -8.75878002e-02  1.58779796e-01]\n",
      " [-4.74974407e-02 -7.88330682e-02  2.08291555e-03 ...  6.51295726e-02\n",
      "   5.02004975e-02 -6.86589407e-02]\n",
      " [-2.99752488e-02  2.91760625e-01  1.07695391e-02 ... -8.81125805e-05\n",
      "   1.24254865e-01  1.52271000e-01]]\n"
     ]
    }
   ],
   "source": [
    "# Optimization Variable\n",
    "A_psd = cp.Variable((32, 32))\n",
    "\n",
    "# Loss Function\n",
    "loss_psd = cp.norm2(cp.vstack([A_psd @ z1[i] - z2[i] for i in range(z1.shape[0])]))**2 + lamda * cp.norm(A_psd, 'fro')**2\n",
    "\n",
    "# Objective Function\n",
    "objective_psd = cp.Minimize(loss_psd)\n",
    "\n",
    "# Constraints\n",
    "constraints = [A_psd >> 0]\n",
    "\n",
    "# Problem\n",
    "\n",
    "problem_psd = cp.Problem(objective_psd, constraints)\n",
    "\n",
    "# Solve the problem\n",
    "\n",
    "problem_psd.solve()\n",
    "\n",
    "# Print results\n",
    "print(\"Optimal value: \", problem_psd.value)\n",
    "print(A_psd.value)\n",
    "\n"
   ]
  },
  {
   "cell_type": "markdown",
   "metadata": {},
   "source": [
    "## Affine Transfomrmation with constraint (psd)"
   ]
  },
  {
   "cell_type": "code",
   "execution_count": 48,
   "metadata": {},
   "outputs": [
    {
     "name": "stdout",
     "output_type": "stream",
     "text": [
      "Optimal value:  34.24464274665315\n",
      "[[ 0.11666089  0.00393495 -0.0056867  ...  0.0191255   0.0107472\n",
      "   0.04334259]\n",
      " [-0.02276971  0.04896931  0.02793243 ...  0.00659383  0.10956296\n",
      "  -0.0971355 ]\n",
      " [ 0.00696019 -0.04730342  0.03268734 ... -0.004706   -0.05826982\n",
      "  -0.02599201]\n",
      " ...\n",
      " [ 0.02691977  0.04183781  0.01845002 ...  0.06482117 -0.11482373\n",
      "   0.13552223]\n",
      " [-0.03337478 -0.05176091  0.01215324 ...  0.07089855  0.05565875\n",
      "  -0.03461887]\n",
      " [-0.10156949  0.20056511  0.00328381 ... -0.02638674  0.06216649\n",
      "   0.09022269]]\n",
      "[ 2.34381618  2.31231468  1.91114035  4.66982296  1.3469774   1.59156096\n",
      "  3.91057957  3.30460911  0.8458655   1.51884706 -0.6437429   2.43651978\n",
      " -0.03508159  2.62580291 -1.27235726  1.47504172  0.04440307  0.27604265\n",
      " -0.82264772 -0.3927284   3.35220021  1.87762301  1.13077015  1.21421183\n",
      "  2.84487957  3.69182049  1.14590623  6.95825472  0.15937158  1.61406641\n",
      " -0.64105622  4.57345625]\n"
     ]
    }
   ],
   "source": [
    "A_aff_psd = cp.Variable((32, 32))\n",
    "b_aff_psd = cp.Variable(32)\n",
    "\n",
    "# Loss Function\n",
    "loss_aff_psd = cp.norm2(cp.vstack([A_aff_psd @ z1[i] + b_aff_psd - z2[i] for i in range(z1.shape[0])]))**2 + lamda * cp.norm(A_aff_psd, 'fro')**2\n",
    "\n",
    "# Objective Function\n",
    "objective_aff_psd = cp.Minimize(loss_aff_psd)\n",
    "\n",
    "# Constraints\n",
    "constraints_aff_psd = [A_aff_psd >> 0]\n",
    "\n",
    "# Problem\n",
    "problem_aff_psd = cp.Problem(objective_aff_psd, constraints_aff_psd)\n",
    "\n",
    "# Solve the problem\n",
    "problem_aff_psd.solve()\n",
    "\n",
    "# Print results\n",
    "print(\"Optimal value: \", problem_aff_psd.value)\n",
    "print(A_aff_psd.value)\n",
    "print(b_aff_psd.value)\n"
   ]
  },
  {
   "cell_type": "markdown",
   "metadata": {},
   "source": [
    "## Trying different norms \n",
    "We begin to reformulate the problem with the L1 Norm\n",
    "\n"
   ]
  },
  {
   "cell_type": "code",
   "execution_count": 53,
   "metadata": {},
   "outputs": [
    {
     "name": "stdout",
     "output_type": "stream",
     "text": [
      "===============================================================================\n",
      "                                     CVXPY                                     \n",
      "                                     v1.5.1                                    \n",
      "===============================================================================\n",
      "(CVXPY) May 24 10:33:27 PM: Your problem has 1024 variables, 0 constraints, and 0 parameters.\n",
      "(CVXPY) May 24 10:33:27 PM: It is compliant with the following grammars: DCP, DQCP\n",
      "(CVXPY) May 24 10:33:27 PM: (If you need to solve this problem multiple times, but with different data, consider using parameters.)\n",
      "(CVXPY) May 24 10:33:27 PM: CVXPY will first compile your problem; then, it will invoke a numerical solver to obtain a solution.\n",
      "(CVXPY) May 24 10:33:27 PM: Your problem is compiled with the CPP canonicalization backend.\n",
      "-------------------------------------------------------------------------------\n",
      "                                  Compilation                                  \n",
      "-------------------------------------------------------------------------------\n",
      "(CVXPY) May 24 10:33:27 PM: Compiling problem (target solver=ECOS).\n",
      "(CVXPY) May 24 10:33:27 PM: Reduction chain: Dcp2Cone -> CvxAttr2Constr -> ConeMatrixStuffing -> ECOS\n"
     ]
    },
    {
     "name": "stdout",
     "output_type": "stream",
     "text": [
      "(CVXPY) May 24 10:33:27 PM: Applying reduction Dcp2Cone\n",
      "(CVXPY) May 24 10:33:27 PM: Applying reduction CvxAttr2Constr\n",
      "(CVXPY) May 24 10:33:27 PM: Applying reduction ConeMatrixStuffing\n",
      "(CVXPY) May 24 10:33:27 PM: Applying reduction ECOS\n",
      "(CVXPY) May 24 10:33:27 PM: Finished problem compilation (took 1.549e-01 seconds).\n",
      "-------------------------------------------------------------------------------\n",
      "                                Numerical solver                               \n",
      "-------------------------------------------------------------------------------\n",
      "(CVXPY) May 24 10:33:27 PM: Invoking solver ECOS  to obtain a solution.\n",
      "\n",
      "ECOS 2.0.10 - (C) embotech GmbH, Zurich Switzerland, 2012-15. Web: www.embotech.com/ECOS\n",
      "\n",
      "It     pcost       dcost      gap   pres   dres    k/t    mu     step   sigma     IR    |   BT\n",
      " 0  +0.000e+00  -2.913e-01  +9e+03  5e-01  6e-01  1e+00  1e+00    ---    ---    1  1  - |  -  - \n",
      " 1  +5.972e+00  +7.520e+00  +3e+03  8e-01  6e-01  3e+00  4e-01  0.7231  2e-02   1  1  1 |  0  0\n",
      " 2  +5.587e+00  +3.108e+01  +1e+03  4e+00  2e+00  3e+01  2e-01  0.8609  4e-01   1  1  1 |  0  0\n",
      " 3  +8.471e+01  +8.310e+01  +1e+03  1e+00  8e-01  1e-01  2e-01  0.1953  8e-01   1  1  1 |  0  0\n",
      " 4  +2.751e+02  +2.758e+02  +3e+02  9e-01  5e-01  2e+00  5e-02  0.7830  4e-02   2  1  1 |  0  0\n"
     ]
    },
    {
     "name": "stderr",
     "output_type": "stream",
     "text": [
      "/Users/mariotuci/miniconda/envs/relreps/lib/python3.8/site-packages/cvxpy/reductions/solvers/solving_chain.py:354: FutureWarning: \n",
      "    You specified your problem should be solved by ECOS. Starting in\n",
      "    CXVPY 1.6.0, ECOS will no longer be installed by default with CVXPY.\n",
      "    Please either add an explicit dependency on ECOS or switch to our new\n",
      "    default solver, Clarabel, by either not specifying a solver argument\n",
      "    or specifying ``solver=cp.CLARABEL``.\n",
      "    \n",
      "  warnings.warn(ECOS_DEP_DEPRECATION_MSG, FutureWarning)\n"
     ]
    },
    {
     "name": "stdout",
     "output_type": "stream",
     "text": [
      " 5  +3.506e+02  +3.715e+02  +2e+02  1e+00  7e-01  2e+01  3e-02  0.6777  4e-01   1  1  1 |  0  0\n",
      " 6  +1.176e+03  +1.206e+03  +1e+02  5e-01  3e-01  3e+01  2e-02  0.8604  4e-01   2  1  1 |  0  0\n",
      " 7  +2.806e+02  +4.176e+02  +7e+01  1e+00  6e-01  1e+02  1e-02  0.6592  6e-01   2  1  1 |  0  0\n",
      " 8  +1.565e+03  +1.565e+03  +7e+01  5e-01  3e-01  6e-01  1e-02  0.4537  8e-01   2  1  1 |  0  0\n",
      " 9  +4.330e+03  +4.332e+03  +1e+01  2e-01  1e-01  2e+00  2e-03  0.7977  2e-02   1  1  1 |  0  0\n",
      "10  +8.064e+03  +8.076e+03  +1e+01  1e-01  8e-02  1e+01  1e-03  0.5704  4e-01   1  1  1 |  0  0\n",
      "11  +5.106e+03  +5.150e+03  +7e+00  3e-01  9e-02  4e+01  1e-03  0.5788  6e-01   2  2  1 |  0  0\n",
      "12  +1.541e+04  +1.545e+04  +5e+00  9e-02  4e-02  4e+01  7e-04  0.9890  6e-01   1  2  1 |  0  0\n",
      "13  +2.494e+04  +2.497e+04  +2e+00  5e-02  2e-02  4e+01  3e-04  0.7629  2e-01   1  2  2 |  0  0\n",
      "14  +3.710e+04  +3.712e+04  +7e-01  2e-02  9e-03  2e+01  1e-04  0.6932  2e-01   3  2  2 |  0  0\n",
      "15  +3.486e+04  +3.489e+04  +7e-01  3e-02  9e-03  3e+01  1e-04  0.2851  7e-01   2  2  2 |  0  0\n",
      "16  +4.954e+04  +4.954e+04  +2e-01  8e-03  3e-03  9e+00  3e-05  0.9890  3e-01   2  2  2 |  0  0\n",
      "17  +5.692e+04  +5.692e+04  +6e-02  2e-03  7e-04  3e+00  9e-06  0.8318  1e-01   3  3  3 |  0  0\n",
      "18  +5.930e+04  +5.930e+04  +2e-02  9e-04  3e-04  1e+00  3e-06  0.7029  1e-01   3  3  2 |  0  0\n",
      "19  +6.015e+04  +6.015e+04  +9e-03  4e-04  1e-04  5e-01  1e-06  0.6531  1e-01   2  2  3 |  0  0\n",
      "20  +6.060e+04  +6.060e+04  +3e-03  1e-04  4e-05  2e-01  5e-07  0.7987  2e-01   2  2  2 |  0  0\n",
      "21  +6.076e+04  +6.076e+04  +1e-03  4e-05  1e-05  5e-02  2e-07  0.8235  2e-01   3  2  2 |  0  0\n",
      "22  +6.082e+04  +6.082e+04  +3e-04  1e-05  4e-06  2e-02  4e-08  0.8504  2e-01   3  2  2 |  0  0\n",
      "23  +6.084e+04  +6.084e+04  +7e-05  3e-06  1e-06  4e-03  1e-08  0.7617  4e-02   3  2  2 |  0  0\n",
      "24  +6.085e+04  +6.085e+04  +1e-05  5e-07  2e-07  7e-04  2e-09  0.8764  4e-02   3  2  3 |  0  0\n",
      "25  +6.094e+04  +6.094e+04  -1e+04  6e+02  6e-04  7e-04  -2e+00  0.0000  1e+00   0  0  0 |  0  0\n",
      "\bUnreliable search direction detected, recovering best iterate (24) and stopping.\n",
      "\n",
      "Close to OPTIMAL (within feastol=5.1e-07, reltol=1.9e-10, abstol=1.2e-05).\n",
      "Runtime: 0.209474 seconds.\n",
      "\n",
      "-------------------------------------------------------------------------------\n",
      "                                    Summary                                    \n",
      "-------------------------------------------------------------------------------\n",
      "(CVXPY) May 24 10:33:27 PM: Problem status: optimal_inaccurate\n",
      "(CVXPY) May 24 10:33:27 PM: Optimal value: 6.085e+04\n",
      "(CVXPY) May 24 10:33:27 PM: Compilation took 1.549e-01 seconds\n",
      "(CVXPY) May 24 10:33:27 PM: Solver (including time spent in interface) took 2.126e-01 seconds\n",
      "Optimal value:  60848.25210660531\n",
      "[[-1.19654421e+00  5.83451737e-01  0.00000000e+00 ...  4.02695736e-01\n",
      "  -5.92293810e-01  1.58134463e+00]\n",
      " [-9.15626344e-02 -5.37136763e-01  0.00000000e+00 ...  1.46498812e-01\n",
      "   2.78178512e-02  1.06917868e-01]\n",
      " [ 1.26712555e+00 -1.00553072e+00  0.00000000e+00 ... -5.48461173e-02\n",
      "  -4.57422215e-01 -1.40169289e+00]\n",
      " ...\n",
      " [-4.79431293e-01  5.85344659e-01  0.00000000e+00 ...  4.37138025e-01\n",
      "  -7.28103036e-01  1.56031435e+00]\n",
      " [ 7.64386195e-07 -7.94761512e-07  0.00000000e+00 ... -3.42114096e-07\n",
      "  -7.61587116e-07 -1.64604118e-06]\n",
      " [ 3.14694521e-01  8.67639881e-01  0.00000000e+00 ...  3.37271973e-01\n",
      "  -7.17598311e-02  4.35522103e-01]]\n"
     ]
    },
    {
     "name": "stderr",
     "output_type": "stream",
     "text": [
      "/Users/mariotuci/miniconda/envs/relreps/lib/python3.8/site-packages/cvxpy/problems/problem.py:1407: UserWarning: Solution may be inaccurate. Try another solver, adjusting the solver settings, or solve with verbose=True for more information.\n",
      "  warnings.warn(\n"
     ]
    }
   ],
   "source": [
    "A_L1 = cp.Variable((32, 32))\n",
    "\n",
    "#May need another solver\n",
    "\n",
    "\n",
    "\n",
    "# Loss Function\n",
    "loss_L1 = cp.norm1(cp.vstack([A_L1 @ z1[i] - z2[i] for i in range(z1.shape[0])]))**2 + lamda * cp.norm(A_L1, '')**2\n",
    "\n",
    "# Objective Function\n",
    "objective_L1 = cp.Minimize(loss_L1)\n",
    "\n",
    "\n",
    "# Problem\n",
    "problem_L1= cp.Problem(objective_L1)\n",
    "\n",
    "# Solve the problem\n",
    "problem_L1.solve(verbose=True, solver=cp.ECOS)\n",
    "\n",
    "# Print results\n",
    "print(\"Optimal value: \", problem_L1.value)\n",
    "print(A_L1.value)\n"
   ]
  },
  {
   "cell_type": "markdown",
   "metadata": {},
   "source": [
    "# Compare the total distance "
   ]
  },
  {
   "cell_type": "code",
   "execution_count": 54,
   "metadata": {},
   "outputs": [
    {
     "ename": "NameError",
     "evalue": "name 'installed_solvers' is not defined",
     "output_type": "error",
     "traceback": [
      "\u001b[0;31m---------------------------------------------------------------------------\u001b[0m",
      "\u001b[0;31mNameError\u001b[0m                                 Traceback (most recent call last)",
      "\u001b[1;32m/Users/mariotuci/Desktop/Google-Drive/Master/SoSe-24/Project Studies/Project/Code/latent-communication/optimization/linear.ipynb Zelle 26\u001b[0m line \u001b[0;36m1\n\u001b[0;32m----> <a href='vscode-notebook-cell:/Users/mariotuci/Desktop/Google-Drive/Master/SoSe-24/Project%20Studies/Project/Code/latent-communication/optimization/linear.ipynb#X54sZmlsZQ%3D%3D?line=0'>1</a>\u001b[0m \u001b[39mprint\u001b[39m(installed_solvers())\n",
      "\u001b[0;31mNameError\u001b[0m: name 'installed_solvers' is not defined"
     ]
    }
   ],
   "source": [
    "# Get Latent Space for al"
   ]
  }
 ],
 "metadata": {
  "kernelspec": {
   "display_name": "Python 3",
   "language": "python",
   "name": "python3"
  },
  "language_info": {
   "codemirror_mode": {
    "name": "ipython",
    "version": 3
   },
   "file_extension": ".py",
   "mimetype": "text/x-python",
   "name": "python",
   "nbconvert_exporter": "python",
   "pygments_lexer": "ipython3",
   "version": "3.8.19"
  }
 },
 "nbformat": 4,
 "nbformat_minor": 2
}
