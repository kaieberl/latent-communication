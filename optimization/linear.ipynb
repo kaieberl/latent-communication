{
 "cells": [
  {
   "cell_type": "markdown",
   "metadata": {},
   "source": [
    "# Linear Transformation \n",
    "We will start with the alignement of the same models for different seeds. \n",
    "- First we do not restrict the matrix.\n",
    "- Second we restrict the matrix to be a rotation matrix.\n",
    "- Thrid use affine transformation \n",
    "- Last but not least we are using different norms and regularization techniques to improve the results\n",
    "\n",
    "\n",
    "\n",
    "Steps: \n",
    "- Load the same model but with different seed\n",
    "- Sample different images and get latent representation \n",
    "- Create Datamatrix X and X'\n",
    "- Solve the simple optimization problem (Using closed form solution as well cvxpy solver)\n"
   ]
  },
  {
   "cell_type": "code",
   "execution_count": 1,
   "metadata": {},
   "outputs": [],
   "source": [
    "# Import relevant libraries\n",
    "import numpy as np\n",
    "import matplotlib.pyplot as plt\n",
    "import torch\n",
    "import torchvision.transforms as transforms\n",
    "from sklearn.decomposition import PCA\n",
    "import cvxpy as cp"
   ]
  },
  {
   "cell_type": "code",
   "execution_count": null,
   "metadata": {},
   "outputs": [],
   "source": [
    "#reimpmort modules with autoreload\n",
    "%load_ext autoreload\n",
    "%autoreload 2\n"
   ]
  },
  {
   "cell_type": "code",
   "execution_count": 2,
   "metadata": {},
   "outputs": [],
   "source": [
    "# Configuration\n",
    "\n",
    "config = {\n",
    "    'path1': \"/Users/mariotuci/Desktop/Google-Drive/Master/SoSe-24/Project Studies/Project/Code/latent-communication/VAE/models/MNIST_VAE_3_10.pth\",\n",
    "    'modelname1': 'VAE',\n",
    "    'seed1': '3',\n",
    "    'path2': \"/Users/mariotuci/Desktop/Google-Drive/Master/SoSe-24/Project Studies/Project/Code/latent-communication/resnet/models/model_seed4.pth\",\n",
    "    'modelname2': 'resnet',\n",
    "    'seed2': '4',\n",
    "    'num_samples': '100',\n",
    "    'storage_path': 'VAE-ResNet-LinearTransform',\n",
    "\n",
    "}\n",
    "\n",
    "DEVICE = torch.device(\"cuda\" if torch.cuda.is_available() else \"cpu\")\n",
    "\n",
    "\n",
    "\n"
   ]
  },
  {
   "cell_type": "markdown",
   "metadata": {},
   "source": [
    "# Optimization Problem in the Linear Case \n",
    "Let $x^i,y^i \\in \\mathbb{R^n}$ for $i = 1,...,m$ and $A \\in \\mathbb{R}^{n \\times n}$ we are looking for the optimal A, which solves the following optimization problem \n",
    "$$ min_A \\sum_{i = 1}^n ||Ax^i - y^i||^2 $$\n",
    "$$ min_ a \\sum_{i=1} \\sum_{j =1} (A_{(j)} x^i - y^i_j)^2 $$\n",
    "where we are using the euclidian norm when not otherwise stated.\n",
    "\n"
   ]
  },
  {
   "cell_type": "markdown",
   "metadata": {},
   "source": [
    "## Load Model and Transformed Data for VAE\n",
    "In this section we load the trained models, which we prepaired for our experimental setup"
   ]
  },
  {
   "cell_type": "code",
   "execution_count": 3,
   "metadata": {},
   "outputs": [
    {
     "name": "stderr",
     "output_type": "stream",
     "text": [
      "/Users/mariotuci/miniconda/envs/relreps/lib/python3.8/site-packages/torchvision/models/_utils.py:208: UserWarning: The parameter 'pretrained' is deprecated since 0.13 and may be removed in the future, please use 'weights' instead.\n",
      "  warnings.warn(\n",
      "/Users/mariotuci/miniconda/envs/relreps/lib/python3.8/site-packages/torchvision/models/_utils.py:223: UserWarning: Arguments other than a weight enum or `None` for 'weights' are deprecated since 0.13 and may be removed in the future. The current behavior is equivalent to passing `weights=ResNet18_Weights.IMAGENET1K_V1`. You can also use `weights=ResNet18_Weights.DEFAULT` to get the most up-to-date weights.\n",
      "  warnings.warn(msg)\n"
     ]
    }
   ],
   "source": [
    "import os\n",
    "# Change directory\n",
    "os.chdir('/Users/mariotuci/Desktop/Google-Drive/Master/SoSe-24/Project Studies/Project/Code/latent-communication')\n",
    "\n",
    "from helper.DataLoaderMNIST import DataLoader_MNIST  # Import the data loader\n",
    "\n",
    "\n",
    "def load_model(model_name, model_path):\n",
    "    DEVICE = torch.device('cpu')\n",
    "    \n",
    "    if model_name == 'VAE':\n",
    "        from VAE.model_def import VAE\n",
    "        model = VAE(in_dim=784, dims=[256, 128, 64, 32], distribution_dim=16).to(DEVICE)\n",
    "    elif model_name == 'resnet':\n",
    "        from resnet.model_def import ResNet\n",
    "        model = ResNet().to(DEVICE)\n",
    "    else:\n",
    "        raise ValueError(f\"Unknown model name: {model_name}\")\n",
    "    \n",
    "    model.load_state_dict(torch.load(model_path, map_location=DEVICE))\n",
    "    return model\n",
    "\n",
    "def load_Models():\n",
    "    model1 = load_model(config['modelname1'], config['path1'])\n",
    "    model2 = load_model(config['modelname2'], config['path2'])\n",
    "    return model1, model2\n",
    "\n",
    "def get_transformations(model_name):\n",
    "    if model_name == 'VAE':\n",
    "        return [\n",
    "            transforms.ToTensor(),\n",
    "            transforms.Normalize((0.5,), (0.5,)),\n",
    "            transforms.Lambda(lambda x: x.view(-1))\n",
    "        ]\n",
    "    elif model_name == 'resnet':\n",
    "        return [\n",
    "            transforms.ToTensor(),\n",
    "            transforms.Lambda(lambda x: x.repeat(3, 1, 1))\n",
    "        ]\n",
    "    else:\n",
    "        raise ValueError(f\"Unknown model name: {model_name}\")\n",
    "\n",
    "def transformations():\n",
    "    transformations1 = get_transformations(config['modelname1'])\n",
    "    transformations2 = get_transformations(config['modelname2'])\n",
    "    return transformations1, transformations2\n",
    "\n",
    "# Load models\n",
    "model1, model2 = load_Models()\n",
    "\n",
    "# Get transformations\n",
    "transformations1, transformations2 = transformations()\n",
    "\n",
    "# Initialize data loader\n",
    "data_loader = DataLoader_MNIST(128, transformations1, transformations2)\n",
    "\n",
    "# Get train and test loaders\n",
    "train_loader1, train_loader2 = data_loader.get_train_loader()\n",
    "test_loader1, test_loader2 = data_loader.get_test_loader()\n",
    "\n",
    "\n",
    "\n"
   ]
  },
  {
   "cell_type": "markdown",
   "metadata": {},
   "source": [
    "# Sample from Dataset"
   ]
  },
  {
   "cell_type": "code",
   "execution_count": 4,
   "metadata": {},
   "outputs": [
    {
     "name": "stdout",
     "output_type": "stream",
     "text": [
      "100\n",
      "(100, 32)\n",
      "(100, 512)\n"
     ]
    }
   ],
   "source": [
    "from utils.sampler import simple_sampler, class_sampler\n",
    "\n",
    "# Convertiere String in Integer\n",
    "num_samples= int(config['num_samples'])\n",
    "\n",
    "print(num_samples)\n",
    "# Sample simply \n",
    "z1, z2= simple_sampler(num_samples, model1, model2, data_loader, DEVICE)\n",
    "# Sample from each class\n",
    "#z1_suf, z2_suf, images_suf, labels_suf = class_sampler(config['num_samples'], model, model2, data_loader, DEVICE)\n",
    "\n",
    "\n",
    "print(z1.shape)\n",
    "print(z2.shape)"
   ]
  },
  {
   "cell_type": "markdown",
   "metadata": {},
   "source": [
    "# Convex Optimization Solver\n",
    "## Linear Transformation with regularization\n",
    "We are using the cvxpy solver which is a open source solver for convex optimization problems."
   ]
  },
  {
   "cell_type": "code",
   "execution_count": 7,
   "metadata": {},
   "outputs": [
    {
     "name": "stdout",
     "output_type": "stream",
     "text": [
      "/Users/mariotuci/Desktop/Google-Drive/Master/SoSe-24/Project Studies/Project/Code/latent-communication\n",
      "Solving the problem\n",
      "Defining the problem\n",
      "Results saved at  optimization/VAE-ResNet-LinearTransform/Linear_VAE_3_resnet_4_100\n"
     ]
    }
   ],
   "source": [
    "import os \n",
    "#ä Get wd \n",
    "print(os.getcwd())\n",
    "# Linear Transformation\n",
    "from optimizer import LinearFitting\n",
    "\n",
    "linear_fitting = LinearFitting(z1, z2,lamda=0.01)\n",
    "\n",
    "linear_fitting.solve_problem()\n",
    "\n",
    "loss, A  = linear_fitting.get_results()\n",
    "\n",
    "name = 'Linear_' + config['modelname1'] + '_' + config['seed1'] + '_' + config['modelname2'] + '_' + config['seed2'] + '_' + config['num_samples']\n",
    "path = 'optimization/' + config['storage_path'] + '/' + name \n",
    "\n",
    "linear_fitting.save_results(path)\n",
    "\n"
   ]
  },
  {
   "cell_type": "markdown",
   "metadata": {},
   "source": [
    "## Affine transformation\n",
    "In this section we implement the affine transformation. We are adding a offset to the problem."
   ]
  },
  {
   "cell_type": "code",
   "execution_count": 5,
   "metadata": {},
   "outputs": [
    {
     "name": "stdout",
     "output_type": "stream",
     "text": [
      "Solving the problem\n",
      "Defining the problem\n",
      "Getting results\n",
      "Loss: 4660.849738202433\n",
      "A: [[-0.43145886  0.40005679  0.         ...  0.10428484 -0.43715095\n",
      "   0.10817015]\n",
      " [-0.01345322 -0.32354947  0.         ...  0.19020474 -0.15479905\n",
      "  -0.10178097]\n",
      " [ 0.51424994 -0.59607886  0.         ... -0.63729293  0.52641533\n",
      "   0.06445892]\n",
      " ...\n",
      " [-1.27161033  1.66631723  0.         ...  0.7594697  -1.13927246\n",
      "  -0.07481065]\n",
      " [ 0.08319632 -0.12200974  0.         ...  0.06454056  0.01929115\n",
      "   0.07373969]\n",
      " [-0.36361204  0.24776307  0.         ...  0.59945211 -0.41853444\n",
      "  -0.13620992]]\n",
      "b: [-2.42678345e+00 -2.60101755e-01  4.53404924e+00 -3.67934706e-01\n",
      "  4.48987043e+00  1.56755591e+00 -5.37676655e+00 -2.57898231e+00\n",
      " -2.95327805e+00  2.37400670e+00  5.28882074e+00 -8.35596902e-01\n",
      "  1.00459732e+00  3.81318091e+00  1.55936741e+00 -2.83730039e+00\n",
      "  6.44144491e-01  3.58579483e+00  3.40855393e+00  4.49201505e+00\n",
      "  4.10415114e+00 -3.45673994e+00  7.27265464e+00 -2.27037439e-01\n",
      "  2.11131813e+00 -2.29018157e+00  2.12519068e+00  1.82181947e+00\n",
      "  1.04601071e+00 -2.67506598e+00 -1.19260528e-01  2.57530240e+00\n",
      "  3.00493608e-01  4.85985603e-01 -1.14655628e+00  7.66224797e-01\n",
      "  8.34210274e-01 -3.78860139e+00 -2.61929867e+00 -2.72979913e+00\n",
      " -1.78192659e+00  2.96917056e+00 -8.56265112e-01 -7.28680837e-01\n",
      " -4.24811621e+00 -2.13111339e+00  5.74875628e-01  1.66098387e+00\n",
      " -9.94641920e-01  2.11540727e+00 -1.92368144e+00 -3.60689264e+00\n",
      " -2.49414138e+00  1.58139697e+00 -4.63008182e+00 -1.14484034e-01\n",
      "  2.94926412e-01  6.15472903e+00  1.08994019e+00  2.71028062e+00\n",
      "  9.24628838e+00 -7.90700822e+00  9.30855858e+00  1.71697852e+00\n",
      " -1.38263779e+00 -9.87558764e-01 -1.12591564e+00 -5.06307448e-01\n",
      " -2.20539453e+00 -3.12978016e+00 -1.61163374e+00  8.92158899e-01\n",
      "  4.89307888e+00 -1.60088248e+00 -1.27805786e+00 -1.05055213e+00\n",
      " -6.82705576e+00 -8.89895347e-01  2.86798682e-01  5.76340320e-01\n",
      "  2.41769840e+00 -1.05458287e-01 -2.82608837e+00  2.84444308e+00\n",
      "  1.21904238e+00 -1.02662261e+00 -3.40925970e+00 -1.43019592e+00\n",
      " -2.07458690e-01  2.79767047e-01  3.03577218e+00 -1.31446185e+00\n",
      " -2.53437983e+00 -5.57027233e+00 -2.91666085e+00  4.48808168e+00\n",
      " -3.52317401e+00 -2.09866174e-01 -1.10153067e+00  5.83946622e+00\n",
      "  2.61170917e+00 -1.69611923e-02  4.74636427e-01  4.48308317e+00\n",
      " -4.10415387e+00 -2.31617527e+00 -9.52122272e-02  5.67911893e+00\n",
      "  1.00700757e-01  2.13687216e+00 -1.07198171e+00  2.73688041e+00\n",
      "  2.12365643e+00 -1.47410041e+00  1.02112231e+01 -5.42247396e-01\n",
      "  4.89918172e+00  3.62763190e+00  1.37796368e+00  3.46082046e+00\n",
      " -3.01342245e-01 -2.83923631e+00 -4.29320825e+00 -1.38040534e+00\n",
      "  1.50790071e+00 -1.57487584e+00 -1.35999675e+00  3.73181753e+00\n",
      "  2.65214601e+00 -4.91041951e-01 -3.28693496e+00  8.34358890e+00\n",
      "  2.72035530e+00  1.09829348e+00 -1.49005216e-01  2.03953037e+00\n",
      " -3.48336586e+00  2.71161692e-01 -3.45632661e+00  3.36026908e+00\n",
      "  3.66918473e+00 -3.42318496e-01  5.45732186e-01  1.98847695e+00\n",
      " -3.99419833e-01 -5.12297979e-02  2.46513104e+00 -3.19801829e+00\n",
      " -1.59215516e-01 -4.93832687e+00  2.14962314e+00 -4.03619841e+00\n",
      "  1.98989368e+00 -2.01700486e+00  8.58542904e+00 -1.28184787e+00\n",
      "  3.84793686e+00  5.50865940e+00  2.15243759e+00  2.28281601e+00\n",
      " -9.96909844e-01  9.83990922e-01  1.05571477e+00 -8.15444535e-01\n",
      " -1.07822324e+00 -4.11666676e+00  3.98375867e+00  2.36868748e-01\n",
      " -1.33971045e+00 -3.12755838e+00  2.95509183e+00  5.67519743e+00\n",
      "  1.94494742e+00 -5.59779944e+00 -2.79046236e+00 -3.56417884e+00\n",
      " -1.91129494e+00 -1.29408003e+00  4.30298109e+00  1.40255576e+00\n",
      " -5.76593436e-01 -5.85385211e-01  5.11095064e+00  2.31767796e+00\n",
      " -3.45149456e+00 -5.69932130e+00 -6.50930293e+00  1.40839356e+00\n",
      " -1.50577696e+00 -3.04395565e+00 -3.15505382e+00 -6.82480690e+00\n",
      " -1.06027831e+00  6.64116281e-01 -3.41513583e+00  3.65641418e+00\n",
      "  2.91247789e+00  3.27674179e-01 -7.07989953e+00  4.38985076e-01\n",
      " -2.65428672e+00 -3.59499300e+00  1.83381661e+00  1.19368910e+00\n",
      " -1.07265107e+00  2.51822415e+00  4.09684423e+00  5.41875324e+00\n",
      " -9.11963911e-01  7.25972726e-02  4.51870677e+00  3.75191727e+00\n",
      "  1.65342169e+00  4.83544898e+00 -3.16909244e+00  1.02641038e+01\n",
      "  1.15994254e+00 -4.69868723e-01  2.14237224e+00  4.54920247e+00\n",
      "  9.97464691e-01 -4.45564384e+00 -1.74874396e-01  7.75492763e-01\n",
      " -2.74853110e+00  2.11767076e+00  7.63561891e-01 -3.12050478e+00\n",
      "  1.72445490e+00  4.29771687e+00  4.09085478e+00 -2.07369626e+00\n",
      "  3.30801574e+00 -4.89946127e+00 -2.45142243e+00 -4.36594570e+00\n",
      " -9.90754283e-01 -1.25257620e+00 -4.81346236e+00  9.70530245e-01\n",
      " -1.72359828e+00  1.47386868e+00  4.22203952e+00 -2.99274438e-01\n",
      "  7.76878254e-01  4.75860993e+00  2.78365804e+00  1.87366792e+00\n",
      "  1.62165657e+00  5.49511327e+00  2.21720196e+00  2.64013764e+00\n",
      "  5.85692446e+00 -3.67340622e+00 -5.11499227e+00  1.23536462e+00\n",
      " -9.21800232e-01  6.79301174e-01  2.12509050e+00 -1.78403017e+00\n",
      "  2.75687151e-01  6.77429985e+00  6.03694338e-01  2.33481084e+00\n",
      "  7.15665156e-01  9.55574266e-01 -1.36858934e+00  2.91270319e+00\n",
      " -1.56881193e+00 -6.10011583e+00  7.40952625e+00 -1.13498117e-01\n",
      "  2.08037432e+00  4.08389087e+00  1.89315043e-01 -2.14700430e+00\n",
      "  2.74603554e+00 -1.55711082e+00  2.56465024e+00  5.58205601e+00\n",
      "  6.05788851e-01 -4.16010545e+00  1.63547792e-01 -1.73214754e+00\n",
      "  7.01952824e-01 -5.86687627e+00  2.55660328e+00  2.26491803e+00\n",
      " -2.95375541e+00 -5.01549704e+00 -2.26294315e+00  5.51460010e+00\n",
      " -8.74290604e+00  4.89567170e+00 -3.07274550e-01 -5.96283031e+00\n",
      " -2.67123299e+00 -2.62783934e+00 -2.56679071e+00 -1.26525000e+00\n",
      "  1.03909836e+00  1.53564779e+00  7.01898808e-01  7.50180570e+00\n",
      "  1.42803292e-01 -5.10605579e-01  6.08936787e+00 -2.17848539e+00\n",
      " -1.27320304e+00  6.64300299e-01  5.15611024e+00  5.86925580e-01\n",
      " -6.01998810e+00  3.66547568e+00  1.63280566e+00  3.23540339e+00\n",
      "  2.11207487e+00  4.79538140e-01  4.38640609e-01 -5.70681627e+00\n",
      " -2.69869572e+00 -5.54621803e+00  8.39284425e+00  1.69386714e-02\n",
      "  1.74640908e+00 -1.98096752e+00 -6.60829304e+00  2.52844868e-02\n",
      "  6.47001754e-01  5.14166167e-02  3.71126960e+00  3.28870715e+00\n",
      "  1.49724003e+00  1.03299655e+00  4.77595232e+00  6.27218321e+00\n",
      "  9.09335350e-01 -4.44875562e+00 -1.72800937e+00  2.02003012e-01\n",
      "  1.07900741e+00 -4.66397335e+00 -6.52104550e-04  2.52111519e+00\n",
      " -2.25554541e+00  2.82450741e+00  3.34518781e+00  5.02468114e+00\n",
      "  1.32756422e+00  2.36017854e+00 -7.14136387e-01  1.24542967e-01\n",
      " -7.87001825e-01  9.79747751e-01 -1.65335290e+00  3.19159036e+00\n",
      " -5.14281655e-01 -8.79409518e-01 -1.62116710e+00  3.23125809e+00\n",
      "  5.30393672e+00 -4.01239874e+00  7.71842864e+00  2.15757053e+00\n",
      " -2.55599477e+00 -2.60619580e+00  2.66544477e+00  5.82175231e+00\n",
      "  7.77818615e-02 -8.44033403e-01 -2.60017437e+00  4.31057442e+00\n",
      " -1.22431346e+00 -2.05149523e+00 -3.58449328e+00  2.92711126e+00\n",
      " -3.57406363e+00  4.29211996e+00 -5.05591205e+00  2.21782885e+00\n",
      "  5.90235692e+00 -1.42228975e+00 -1.72737127e+00 -2.66405336e+00\n",
      "  2.33127529e+00 -1.91057298e-01 -1.77476496e+00  3.51429135e+00\n",
      "  3.91142551e+00 -4.44311525e+00 -3.43521161e+00  2.40436157e+00\n",
      "  1.76945571e+00 -4.68819094e+00  1.23994364e+00 -5.95233553e+00\n",
      "  1.71860408e+00  1.64475225e+00  2.09961030e+00  1.13162002e+00\n",
      "  1.41304872e+00  7.58812181e+00  2.13293700e+00  3.63004757e+00\n",
      " -4.79031321e+00 -1.90160132e-01  4.16950506e+00  7.37591307e+00\n",
      " -4.15396018e+00  2.31419748e-01 -7.95014303e-01 -1.23638086e+00\n",
      "  6.01326163e-01 -4.41409337e+00  1.32037013e+00 -2.53315722e-01\n",
      "  3.87923327e+00  1.37395271e+00 -1.52740554e+00  1.01279732e+00\n",
      "  1.15236342e+00 -1.43497455e+00  3.18503131e+00 -5.12597553e+00\n",
      " -3.77730544e-01  1.79067858e+00  2.70627476e+00  7.43488173e-02\n",
      " -1.02095628e+00  5.07685176e+00  4.15129562e+00  2.86349965e-01\n",
      " -3.27789222e+00  2.30130310e+00  1.62686330e+00 -3.00180065e+00\n",
      " -1.25296605e-01  3.82043616e+00 -3.32480451e+00 -3.93180834e+00\n",
      "  9.85630938e-01  2.66070440e+00  4.98683565e+00 -1.75133027e+00\n",
      " -3.90988238e+00  4.33505171e+00 -5.14942406e+00 -3.50638586e+00\n",
      "  4.16976006e+00  3.83477133e+00 -8.57657311e-01 -1.71277552e+00\n",
      "  7.22167143e+00 -1.65190636e+00 -5.95219473e+00  4.45827789e+00\n",
      " -2.60045408e+00 -1.86757242e+00  4.54339567e-02 -1.92581561e+00\n",
      "  6.09493614e-02 -2.56592454e+00 -2.40429987e+00  5.66120271e+00\n",
      " -1.26185619e+00  6.02742147e+00  4.49342955e+00  3.17869380e+00\n",
      " -6.91807107e+00 -8.02972175e+00 -4.26183971e+00 -1.31024181e+00\n",
      " -3.82607050e-01 -5.25577255e+00  1.28240717e+00 -3.28874356e-01\n",
      "  6.10251745e-01  8.36541480e-01 -1.98541995e+00 -4.96220469e+00\n",
      "  7.40968398e+00  1.36930123e+00  3.10016659e+00  7.00048752e+00\n",
      "  4.53451070e+00  1.57274036e+00  4.15028071e+00  2.15415471e+00\n",
      " -1.15688216e+00 -1.21955556e+00  1.59313247e-01 -1.22057485e+00\n",
      "  5.52318350e+00  2.89843673e+00 -4.33292749e+00  4.58511307e+00\n",
      " -1.23359059e+00 -1.79189575e+00 -1.35436116e+00 -1.65845643e+00\n",
      " -6.56950821e+00 -2.32482678e-01  8.81528902e+00  6.51224154e-01\n",
      "  7.19438758e+00  5.18359052e+00 -3.86974934e+00 -1.09021931e-01\n",
      "  3.95586432e+00 -2.77649421e+00 -1.12739832e+00 -2.58933124e+00]\n",
      "Results saved at  optimization/VAE-ResNet-LinearTransform/Affine_VAE_3_resnet_4_100\n"
     ]
    }
   ],
   "source": [
    "from optimizer import AffineFitting\n",
    "\n",
    "affine_fitting = AffineFitting(z1, z2, lamda=0.01)\n",
    "\n",
    "# Solve the problem\n",
    "affine_fitting.solve_problem()\n",
    "\n",
    "# Get the results\n",
    "loss, A, b = affine_fitting.get_results()\n",
    "\n",
    "# Show the results\n",
    "print('Loss:', loss)\n",
    "print('A:', A)\n",
    "print('b:', b)\n",
    "\n",
    "# Save the results\n",
    "name = 'Affine_' + config['modelname1'] + '_' + config['seed1'] + '_' + config['modelname2'] + '_' + config['seed2'] + '_' + config['num_samples']\n",
    "path = 'optimization/'+ config['storage_path'] + '/' + name\n",
    "\n",
    "\n",
    "# Save the results\n",
    "affine_fitting.save_results(path)\n",
    "\n"
   ]
  },
  {
   "cell_type": "markdown",
   "metadata": {},
   "source": [
    "## Linear Transformation with constraints (psd)\n",
    "In this section we relax the problem and consider that the matrix has to be positive semidefinite."
   ]
  },
  {
   "cell_type": "code",
   "execution_count": 47,
   "metadata": {},
   "outputs": [
    {
     "name": "stdout",
     "output_type": "stream",
     "text": [
      "Optimal value:  34.901493456700365\n",
      "[[ 1.51821848e-01  5.56895851e-02 -1.93031590e-02 ...  3.39359862e-02\n",
      "   5.35622009e-02  8.20711810e-02]\n",
      " [ 2.08683234e-02  8.40538183e-02 -9.98856392e-04 ...  1.12780196e-02\n",
      "   1.49802143e-01 -8.53980783e-02]\n",
      " [ 6.25820417e-02  2.61333410e-02  4.37348532e-02 ... -9.39537026e-03\n",
      "  -3.47203346e-02  1.30371568e-02]\n",
      " ...\n",
      " [ 4.75892774e-02  7.40579969e-02  2.52987499e-02 ...  8.17855467e-02\n",
      "  -8.75878002e-02  1.58779796e-01]\n",
      " [-4.74974407e-02 -7.88330682e-02  2.08291555e-03 ...  6.51295726e-02\n",
      "   5.02004975e-02 -6.86589407e-02]\n",
      " [-2.99752488e-02  2.91760625e-01  1.07695391e-02 ... -8.81125805e-05\n",
      "   1.24254865e-01  1.52271000e-01]]\n"
     ]
    }
   ],
   "source": [
    "# Optimization Variable\n",
    "A_psd = cp.Variable((32, 32))\n",
    "\n",
    "# Loss Function\n",
    "loss_psd = cp.norm2(cp.vstack([A_psd @ z1[i] - z2[i] for i in range(z1.shape[0])]))**2 + lamda * cp.norm(A_psd, 'fro')**2\n",
    "\n",
    "# Objective Function\n",
    "objective_psd = cp.Minimize(loss_psd)\n",
    "\n",
    "# Constraints\n",
    "constraints = [A_psd >> 0]\n",
    "\n",
    "# Problem\n",
    "\n",
    "problem_psd = cp.Problem(objective_psd, constraints)\n",
    "\n",
    "# Solve the problem\n",
    "\n",
    "problem_psd.solve()\n",
    "\n",
    "# Print results\n",
    "print(\"Optimal value: \", problem_psd.value)\n",
    "print(A_psd.value)\n",
    "\n"
   ]
  },
  {
   "cell_type": "markdown",
   "metadata": {},
   "source": [
    "## Affine Transfomrmation with constraint (psd)"
   ]
  },
  {
   "cell_type": "code",
   "execution_count": 48,
   "metadata": {},
   "outputs": [
    {
     "name": "stdout",
     "output_type": "stream",
     "text": [
      "Optimal value:  34.24464274665315\n",
      "[[ 0.11666089  0.00393495 -0.0056867  ...  0.0191255   0.0107472\n",
      "   0.04334259]\n",
      " [-0.02276971  0.04896931  0.02793243 ...  0.00659383  0.10956296\n",
      "  -0.0971355 ]\n",
      " [ 0.00696019 -0.04730342  0.03268734 ... -0.004706   -0.05826982\n",
      "  -0.02599201]\n",
      " ...\n",
      " [ 0.02691977  0.04183781  0.01845002 ...  0.06482117 -0.11482373\n",
      "   0.13552223]\n",
      " [-0.03337478 -0.05176091  0.01215324 ...  0.07089855  0.05565875\n",
      "  -0.03461887]\n",
      " [-0.10156949  0.20056511  0.00328381 ... -0.02638674  0.06216649\n",
      "   0.09022269]]\n",
      "[ 2.34381618  2.31231468  1.91114035  4.66982296  1.3469774   1.59156096\n",
      "  3.91057957  3.30460911  0.8458655   1.51884706 -0.6437429   2.43651978\n",
      " -0.03508159  2.62580291 -1.27235726  1.47504172  0.04440307  0.27604265\n",
      " -0.82264772 -0.3927284   3.35220021  1.87762301  1.13077015  1.21421183\n",
      "  2.84487957  3.69182049  1.14590623  6.95825472  0.15937158  1.61406641\n",
      " -0.64105622  4.57345625]\n"
     ]
    }
   ],
   "source": [
    "A_aff_psd = cp.Variable((32, 32))\n",
    "b_aff_psd = cp.Variable(32)\n",
    "\n",
    "# Loss Function\n",
    "loss_aff_psd = cp.norm2(cp.vstack([A_aff_psd @ z1[i] + b_aff_psd - z2[i] for i in range(z1.shape[0])]))**2 + lamda * cp.norm(A_aff_psd, 'fro')**2\n",
    "\n",
    "# Objective Function\n",
    "objective_aff_psd = cp.Minimize(loss_aff_psd)\n",
    "\n",
    "# Constraints\n",
    "constraints_aff_psd = [A_aff_psd >> 0]\n",
    "\n",
    "# Problem\n",
    "problem_aff_psd = cp.Problem(objective_aff_psd, constraints_aff_psd)\n",
    "\n",
    "# Solve the problem\n",
    "problem_aff_psd.solve()\n",
    "\n",
    "# Print results\n",
    "print(\"Optimal value: \", problem_aff_psd.value)\n",
    "print(A_aff_psd.value)\n",
    "print(b_aff_psd.value)\n"
   ]
  },
  {
   "cell_type": "markdown",
   "metadata": {},
   "source": [
    "## Trying different norms \n",
    "We begin to reformulate the problem with the L1 Norm\n",
    "\n"
   ]
  },
  {
   "cell_type": "code",
   "execution_count": 53,
   "metadata": {},
   "outputs": [
    {
     "name": "stdout",
     "output_type": "stream",
     "text": [
      "===============================================================================\n",
      "                                     CVXPY                                     \n",
      "                                     v1.5.1                                    \n",
      "===============================================================================\n",
      "(CVXPY) May 24 10:33:27 PM: Your problem has 1024 variables, 0 constraints, and 0 parameters.\n",
      "(CVXPY) May 24 10:33:27 PM: It is compliant with the following grammars: DCP, DQCP\n",
      "(CVXPY) May 24 10:33:27 PM: (If you need to solve this problem multiple times, but with different data, consider using parameters.)\n",
      "(CVXPY) May 24 10:33:27 PM: CVXPY will first compile your problem; then, it will invoke a numerical solver to obtain a solution.\n",
      "(CVXPY) May 24 10:33:27 PM: Your problem is compiled with the CPP canonicalization backend.\n",
      "-------------------------------------------------------------------------------\n",
      "                                  Compilation                                  \n",
      "-------------------------------------------------------------------------------\n",
      "(CVXPY) May 24 10:33:27 PM: Compiling problem (target solver=ECOS).\n",
      "(CVXPY) May 24 10:33:27 PM: Reduction chain: Dcp2Cone -> CvxAttr2Constr -> ConeMatrixStuffing -> ECOS\n"
     ]
    },
    {
     "name": "stdout",
     "output_type": "stream",
     "text": [
      "(CVXPY) May 24 10:33:27 PM: Applying reduction Dcp2Cone\n",
      "(CVXPY) May 24 10:33:27 PM: Applying reduction CvxAttr2Constr\n",
      "(CVXPY) May 24 10:33:27 PM: Applying reduction ConeMatrixStuffing\n",
      "(CVXPY) May 24 10:33:27 PM: Applying reduction ECOS\n",
      "(CVXPY) May 24 10:33:27 PM: Finished problem compilation (took 1.549e-01 seconds).\n",
      "-------------------------------------------------------------------------------\n",
      "                                Numerical solver                               \n",
      "-------------------------------------------------------------------------------\n",
      "(CVXPY) May 24 10:33:27 PM: Invoking solver ECOS  to obtain a solution.\n",
      "\n",
      "ECOS 2.0.10 - (C) embotech GmbH, Zurich Switzerland, 2012-15. Web: www.embotech.com/ECOS\n",
      "\n",
      "It     pcost       dcost      gap   pres   dres    k/t    mu     step   sigma     IR    |   BT\n",
      " 0  +0.000e+00  -2.913e-01  +9e+03  5e-01  6e-01  1e+00  1e+00    ---    ---    1  1  - |  -  - \n",
      " 1  +5.972e+00  +7.520e+00  +3e+03  8e-01  6e-01  3e+00  4e-01  0.7231  2e-02   1  1  1 |  0  0\n",
      " 2  +5.587e+00  +3.108e+01  +1e+03  4e+00  2e+00  3e+01  2e-01  0.8609  4e-01   1  1  1 |  0  0\n",
      " 3  +8.471e+01  +8.310e+01  +1e+03  1e+00  8e-01  1e-01  2e-01  0.1953  8e-01   1  1  1 |  0  0\n",
      " 4  +2.751e+02  +2.758e+02  +3e+02  9e-01  5e-01  2e+00  5e-02  0.7830  4e-02   2  1  1 |  0  0\n"
     ]
    },
    {
     "name": "stderr",
     "output_type": "stream",
     "text": [
      "/Users/mariotuci/miniconda/envs/relreps/lib/python3.8/site-packages/cvxpy/reductions/solvers/solving_chain.py:354: FutureWarning: \n",
      "    You specified your problem should be solved by ECOS. Starting in\n",
      "    CXVPY 1.6.0, ECOS will no longer be installed by default with CVXPY.\n",
      "    Please either add an explicit dependency on ECOS or switch to our new\n",
      "    default solver, Clarabel, by either not specifying a solver argument\n",
      "    or specifying ``solver=cp.CLARABEL``.\n",
      "    \n",
      "  warnings.warn(ECOS_DEP_DEPRECATION_MSG, FutureWarning)\n"
     ]
    },
    {
     "name": "stdout",
     "output_type": "stream",
     "text": [
      " 5  +3.506e+02  +3.715e+02  +2e+02  1e+00  7e-01  2e+01  3e-02  0.6777  4e-01   1  1  1 |  0  0\n",
      " 6  +1.176e+03  +1.206e+03  +1e+02  5e-01  3e-01  3e+01  2e-02  0.8604  4e-01   2  1  1 |  0  0\n",
      " 7  +2.806e+02  +4.176e+02  +7e+01  1e+00  6e-01  1e+02  1e-02  0.6592  6e-01   2  1  1 |  0  0\n",
      " 8  +1.565e+03  +1.565e+03  +7e+01  5e-01  3e-01  6e-01  1e-02  0.4537  8e-01   2  1  1 |  0  0\n",
      " 9  +4.330e+03  +4.332e+03  +1e+01  2e-01  1e-01  2e+00  2e-03  0.7977  2e-02   1  1  1 |  0  0\n",
      "10  +8.064e+03  +8.076e+03  +1e+01  1e-01  8e-02  1e+01  1e-03  0.5704  4e-01   1  1  1 |  0  0\n",
      "11  +5.106e+03  +5.150e+03  +7e+00  3e-01  9e-02  4e+01  1e-03  0.5788  6e-01   2  2  1 |  0  0\n",
      "12  +1.541e+04  +1.545e+04  +5e+00  9e-02  4e-02  4e+01  7e-04  0.9890  6e-01   1  2  1 |  0  0\n",
      "13  +2.494e+04  +2.497e+04  +2e+00  5e-02  2e-02  4e+01  3e-04  0.7629  2e-01   1  2  2 |  0  0\n",
      "14  +3.710e+04  +3.712e+04  +7e-01  2e-02  9e-03  2e+01  1e-04  0.6932  2e-01   3  2  2 |  0  0\n",
      "15  +3.486e+04  +3.489e+04  +7e-01  3e-02  9e-03  3e+01  1e-04  0.2851  7e-01   2  2  2 |  0  0\n",
      "16  +4.954e+04  +4.954e+04  +2e-01  8e-03  3e-03  9e+00  3e-05  0.9890  3e-01   2  2  2 |  0  0\n",
      "17  +5.692e+04  +5.692e+04  +6e-02  2e-03  7e-04  3e+00  9e-06  0.8318  1e-01   3  3  3 |  0  0\n",
      "18  +5.930e+04  +5.930e+04  +2e-02  9e-04  3e-04  1e+00  3e-06  0.7029  1e-01   3  3  2 |  0  0\n",
      "19  +6.015e+04  +6.015e+04  +9e-03  4e-04  1e-04  5e-01  1e-06  0.6531  1e-01   2  2  3 |  0  0\n",
      "20  +6.060e+04  +6.060e+04  +3e-03  1e-04  4e-05  2e-01  5e-07  0.7987  2e-01   2  2  2 |  0  0\n",
      "21  +6.076e+04  +6.076e+04  +1e-03  4e-05  1e-05  5e-02  2e-07  0.8235  2e-01   3  2  2 |  0  0\n",
      "22  +6.082e+04  +6.082e+04  +3e-04  1e-05  4e-06  2e-02  4e-08  0.8504  2e-01   3  2  2 |  0  0\n",
      "23  +6.084e+04  +6.084e+04  +7e-05  3e-06  1e-06  4e-03  1e-08  0.7617  4e-02   3  2  2 |  0  0\n",
      "24  +6.085e+04  +6.085e+04  +1e-05  5e-07  2e-07  7e-04  2e-09  0.8764  4e-02   3  2  3 |  0  0\n",
      "25  +6.094e+04  +6.094e+04  -1e+04  6e+02  6e-04  7e-04  -2e+00  0.0000  1e+00   0  0  0 |  0  0\n",
      "\bUnreliable search direction detected, recovering best iterate (24) and stopping.\n",
      "\n",
      "Close to OPTIMAL (within feastol=5.1e-07, reltol=1.9e-10, abstol=1.2e-05).\n",
      "Runtime: 0.209474 seconds.\n",
      "\n",
      "-------------------------------------------------------------------------------\n",
      "                                    Summary                                    \n",
      "-------------------------------------------------------------------------------\n",
      "(CVXPY) May 24 10:33:27 PM: Problem status: optimal_inaccurate\n",
      "(CVXPY) May 24 10:33:27 PM: Optimal value: 6.085e+04\n",
      "(CVXPY) May 24 10:33:27 PM: Compilation took 1.549e-01 seconds\n",
      "(CVXPY) May 24 10:33:27 PM: Solver (including time spent in interface) took 2.126e-01 seconds\n",
      "Optimal value:  60848.25210660531\n",
      "[[-1.19654421e+00  5.83451737e-01  0.00000000e+00 ...  4.02695736e-01\n",
      "  -5.92293810e-01  1.58134463e+00]\n",
      " [-9.15626344e-02 -5.37136763e-01  0.00000000e+00 ...  1.46498812e-01\n",
      "   2.78178512e-02  1.06917868e-01]\n",
      " [ 1.26712555e+00 -1.00553072e+00  0.00000000e+00 ... -5.48461173e-02\n",
      "  -4.57422215e-01 -1.40169289e+00]\n",
      " ...\n",
      " [-4.79431293e-01  5.85344659e-01  0.00000000e+00 ...  4.37138025e-01\n",
      "  -7.28103036e-01  1.56031435e+00]\n",
      " [ 7.64386195e-07 -7.94761512e-07  0.00000000e+00 ... -3.42114096e-07\n",
      "  -7.61587116e-07 -1.64604118e-06]\n",
      " [ 3.14694521e-01  8.67639881e-01  0.00000000e+00 ...  3.37271973e-01\n",
      "  -7.17598311e-02  4.35522103e-01]]\n"
     ]
    },
    {
     "name": "stderr",
     "output_type": "stream",
     "text": [
      "/Users/mariotuci/miniconda/envs/relreps/lib/python3.8/site-packages/cvxpy/problems/problem.py:1407: UserWarning: Solution may be inaccurate. Try another solver, adjusting the solver settings, or solve with verbose=True for more information.\n",
      "  warnings.warn(\n"
     ]
    }
   ],
   "source": [
    "A_L1 = cp.Variable((32, 32))\n",
    "\n",
    "#May need another solver\n",
    "\n",
    "\n",
    "\n",
    "# Loss Function\n",
    "loss_L1 = cp.norm1(cp.vstack([A_L1 @ z1[i] - z2[i] for i in range(z1.shape[0])]))**2 + lamda * cp.norm(A_L1, '')**2\n",
    "\n",
    "# Objective Function\n",
    "objective_L1 = cp.Minimize(loss_L1)\n",
    "\n",
    "\n",
    "# Problem\n",
    "problem_L1= cp.Problem(objective_L1)\n",
    "\n",
    "# Solve the problem\n",
    "problem_L1.solve(verbose=True, solver=cp.ECOS)\n",
    "\n",
    "# Print results\n",
    "print(\"Optimal value: \", problem_L1.value)\n",
    "print(A_L1.value)\n"
   ]
  },
  {
   "cell_type": "markdown",
   "metadata": {},
   "source": [
    "# Compare the total distance "
   ]
  },
  {
   "cell_type": "code",
   "execution_count": 54,
   "metadata": {},
   "outputs": [
    {
     "ename": "NameError",
     "evalue": "name 'installed_solvers' is not defined",
     "output_type": "error",
     "traceback": [
      "\u001b[0;31m---------------------------------------------------------------------------\u001b[0m",
      "\u001b[0;31mNameError\u001b[0m                                 Traceback (most recent call last)",
      "\u001b[1;32m/Users/mariotuci/Desktop/Google-Drive/Master/SoSe-24/Project Studies/Project/Code/latent-communication/optimization/linear.ipynb Zelle 26\u001b[0m line \u001b[0;36m1\n\u001b[0;32m----> <a href='vscode-notebook-cell:/Users/mariotuci/Desktop/Google-Drive/Master/SoSe-24/Project%20Studies/Project/Code/latent-communication/optimization/linear.ipynb#X54sZmlsZQ%3D%3D?line=0'>1</a>\u001b[0m \u001b[39mprint\u001b[39m(installed_solvers())\n",
      "\u001b[0;31mNameError\u001b[0m: name 'installed_solvers' is not defined"
     ]
    }
   ],
   "source": [
    "# Get Latent Space for al"
   ]
  }
 ],
 "metadata": {
  "kernelspec": {
   "display_name": "Python 3",
   "language": "python",
   "name": "python3"
  },
  "language_info": {
   "codemirror_mode": {
    "name": "ipython",
    "version": 3
   },
   "file_extension": ".py",
   "mimetype": "text/x-python",
   "name": "python",
   "nbconvert_exporter": "python",
   "pygments_lexer": "ipython3",
   "version": "3.8.19"
  }
 },
 "nbformat": 4,
 "nbformat_minor": 2
}
