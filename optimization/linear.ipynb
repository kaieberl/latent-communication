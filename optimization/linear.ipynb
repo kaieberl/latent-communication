{
 "cells": [
  {
   "cell_type": "markdown",
   "metadata": {},
   "source": [
    "# Linear Transformation \n",
    "We will start with the alignement of the same models for different seeds. \n",
    "- First we do not restrict the matrix.\n",
    "- Second we restrict the matrix to be a rotation matrix.\n",
    "- Thrid use affine transformation \n",
    "- Last but not least we are using different norms and regularization techniques to improve the results\n",
    "\n",
    "\n",
    "\n",
    "Steps: \n",
    "- Load the same model but with different seed\n",
    "- Sample different images and get latent representation \n",
    "- Create Datamatrix X and X'\n",
    "- Solve the simple optimization problem (Using closed form solution as well cvxpy solver)\n"
   ]
  },
  {
   "cell_type": "code",
   "execution_count": 1,
   "metadata": {},
   "outputs": [],
   "source": [
    "# Import relevant libraries\n",
    "import numpy as np\n",
    "import matplotlib.pyplot as plt\n",
    "import torch\n",
    "import torchvision.transforms as transforms\n",
    "from sklearn.decomposition import PCA\n",
    "import cvxpy as cp"
   ]
  },
  {
   "cell_type": "code",
   "execution_count": 2,
   "metadata": {},
   "outputs": [],
   "source": [
    "# Configuration\n",
    "\n",
    "config = {\n",
    "    'path1': \"/Users/mariotuci/Desktop/Google-Drive/Master/SoSe-24/Project Studies/Project/Code/latent-communication/VAE/models/MNIST_VAE_3_10.pth\",\n",
    "    'modelname1': 'VAE',\n",
    "    'seed1': '3',\n",
    "    'path2': \"/Users/mariotuci/Desktop/Google-Drive/Master/SoSe-24/Project Studies/Project/Code/latent-communication/VAE/models/MNIST_VAE_4_10.pth\",\n",
    "    'modelname2': 'VAE',\n",
    "    'seed2': '4',\n",
    "    'num_samples': '100',\n",
    "    'storage_path': 'VAE-LinearTransform',\n",
    "\n",
    "}\n",
    "\n",
    "DEVICE = torch.device(\"cuda\" if torch.cuda.is_available() else \"cpu\")\n",
    "\n",
    "# Transdormations\n",
    "transformations = [transforms.ToTensor(), \n",
    "                                # Normalize between -1 and 1\n",
    "                                transforms.Normalize((0.5,), (0.5,)),\n",
    "                                # Flatten the Image to a vector\n",
    "                                transforms.Lambda(lambda x: x.view(-1) )\n",
    "                                ]\n",
    "\n",
    "\n"
   ]
  },
  {
   "cell_type": "markdown",
   "metadata": {},
   "source": [
    "# Optimization Problem in the Linear Case \n",
    "Let $x^i,y^i \\in \\mathbb{R^n}$ for $i = 1,...,m$ and $A \\in \\mathbb{R}^{n \\times n}$ we are looking for the optimal A, which solves the following optimization problem \n",
    "$$ min_A \\sum_{i = 1}^n ||Ax^i - y^i||^2 $$\n",
    "$$ min_ a \\sum_{i=1} \\sum_{j =1} (A_{(j)} x^i - y^i_j)^2 $$\n",
    "where we are using the euclidian norm when not otherwise stated.\n",
    "\n"
   ]
  },
  {
   "cell_type": "markdown",
   "metadata": {},
   "source": [
    "## Load Model and Transformed Data for VAE\n",
    "In this section we load the trained models, which we prepaired for our experimental setup"
   ]
  },
  {
   "cell_type": "code",
   "execution_count": 6,
   "metadata": {},
   "outputs": [],
   "source": [
    "import os\n",
    "# Change directory\n",
    "os.chdir('/Users/mariotuci/Desktop/Google-Drive/Master/SoSe-24/Project Studies/Project/Code/latent-communication')\n",
    "\n",
    "from helper.DataLoaderMNIST import DataLoader_MNIST  # Import the data loader\n",
    "\n",
    "\n",
    "def load_model(model_name, model_path):\n",
    "    DEVICE = torch.device('cpu')\n",
    "    \n",
    "    if model_name == 'VAE':\n",
    "        from VAE.model_def import VAE\n",
    "        model = VAE(in_dim=784, dims=[256, 128, 64, 32], distribution_dim=16).to(DEVICE)\n",
    "    elif model_name == 'resnet':\n",
    "        from resnet.model_def import ResNet\n",
    "        model = ResNet().to(DEVICE)\n",
    "    else:\n",
    "        raise ValueError(f\"Unknown model name: {model_name}\")\n",
    "    \n",
    "    model.load_state_dict(torch.load(model_path, map_location=DEVICE))\n",
    "    return model\n",
    "\n",
    "def load_Models():\n",
    "    model1 = load_model(config['modelname1'], config['path1'])\n",
    "    model2 = load_model(config['modelname2'], config['path2'])\n",
    "    return model1, model2\n",
    "\n",
    "def get_transformations(model_name):\n",
    "    if model_name == 'VAE':\n",
    "        return [\n",
    "            transforms.ToTensor(),\n",
    "            transforms.Normalize((0.5,), (0.5,)),\n",
    "            transforms.Lambda(lambda x: x.view(-1))\n",
    "        ]\n",
    "    elif model_name == 'resnet':\n",
    "        return [\n",
    "            transforms.ToTensor(),\n",
    "            transforms.Lambda(lambda x: x.repeat(3, 1, 1))\n",
    "        ]\n",
    "    else:\n",
    "        raise ValueError(f\"Unknown model name: {model_name}\")\n",
    "\n",
    "def transformations():\n",
    "    transformations1 = get_transformations(config['modelname1'])\n",
    "    transformations2 = get_transformations(config['modelname2'])\n",
    "    return transformations1, transformations2\n",
    "\n",
    "# Load models\n",
    "model1, model2 = load_Models()\n",
    "\n",
    "# Get transformations\n",
    "transformations1, transformations2 = transformations()\n",
    "\n",
    "# Initialize data loader\n",
    "data_loader = DataLoader_MNIST(128, transformations1, transformations2)\n",
    "\n",
    "# Get train and test loaders\n",
    "train_loader1, train_loader2 = data_loader.get_train_loader()\n",
    "test_loader1, test_loader2 = data_loader.get_test_loader()\n",
    "\n",
    "\n",
    "\n"
   ]
  },
  {
   "cell_type": "markdown",
   "metadata": {},
   "source": [
    "# Sample from Dataset"
   ]
  },
  {
   "cell_type": "code",
   "execution_count": 8,
   "metadata": {},
   "outputs": [
    {
     "name": "stdout",
     "output_type": "stream",
     "text": [
      "100\n"
     ]
    },
    {
     "ename": "AttributeError",
     "evalue": "'DataLoader_MNIST' object has no attribute 'train_loader'",
     "output_type": "error",
     "traceback": [
      "\u001b[0;31m---------------------------------------------------------------------------\u001b[0m",
      "\u001b[0;31mAttributeError\u001b[0m                            Traceback (most recent call last)",
      "\u001b[1;32m/Users/mariotuci/Desktop/Google-Drive/Master/SoSe-24/Project Studies/Project/Code/latent-communication/optimization/linear.ipynb Zelle 8\u001b[0m line \u001b[0;36m8\n\u001b[1;32m      <a href='vscode-notebook-cell:/Users/mariotuci/Desktop/Google-Drive/Master/SoSe-24/Project%20Studies/Project/Code/latent-communication/optimization/linear.ipynb#X10sZmlsZQ%3D%3D?line=5'>6</a>\u001b[0m \u001b[39mprint\u001b[39m(num_samples)\n\u001b[1;32m      <a href='vscode-notebook-cell:/Users/mariotuci/Desktop/Google-Drive/Master/SoSe-24/Project%20Studies/Project/Code/latent-communication/optimization/linear.ipynb#X10sZmlsZQ%3D%3D?line=6'>7</a>\u001b[0m \u001b[39m# Sample simply \u001b[39;00m\n\u001b[0;32m----> <a href='vscode-notebook-cell:/Users/mariotuci/Desktop/Google-Drive/Master/SoSe-24/Project%20Studies/Project/Code/latent-communication/optimization/linear.ipynb#X10sZmlsZQ%3D%3D?line=7'>8</a>\u001b[0m z1, z2\u001b[39m=\u001b[39m simple_sampler(num_samples, model1, model2, data_loader, DEVICE)\n\u001b[1;32m      <a href='vscode-notebook-cell:/Users/mariotuci/Desktop/Google-Drive/Master/SoSe-24/Project%20Studies/Project/Code/latent-communication/optimization/linear.ipynb#X10sZmlsZQ%3D%3D?line=8'>9</a>\u001b[0m \u001b[39m# Sample from each class\u001b[39;00m\n\u001b[1;32m     <a href='vscode-notebook-cell:/Users/mariotuci/Desktop/Google-Drive/Master/SoSe-24/Project%20Studies/Project/Code/latent-communication/optimization/linear.ipynb#X10sZmlsZQ%3D%3D?line=9'>10</a>\u001b[0m \u001b[39m#z1_suf, z2_suf, images_suf, labels_suf = class_sampler(config['num_samples'], model, model2, data_loader, DEVICE)\u001b[39;00m\n",
      "File \u001b[0;32m~/Desktop/Google-Drive/Master/SoSe-24/Project Studies/Project/Code/latent-communication/optimization/utils/sampler.py:17\u001b[0m, in \u001b[0;36msimple_sampler\u001b[0;34m(m, model1, model2, data_loader, DEVICE)\u001b[0m\n\u001b[1;32m      5\u001b[0m \u001b[39mdef\u001b[39;00m \u001b[39msimple_sampler\u001b[39m(m,model1,model2, data_loader, DEVICE):\n\u001b[1;32m      6\u001b[0m \u001b[39m    \u001b[39m\u001b[39m\"\"\"\u001b[39;00m\n\u001b[1;32m      7\u001b[0m \u001b[39m    Input: \u001b[39;00m\n\u001b[1;32m      8\u001b[0m \u001b[39m    - m: Samples \u001b[39;00m\n\u001b[0;32m   (...)\u001b[0m\n\u001b[1;32m     15\u001b[0m \u001b[39m    This function samples the latent space of the model and returns the latent vectors of the model 1 and model2\u001b[39;00m\n\u001b[1;32m     16\u001b[0m \u001b[39m    \"\"\"\u001b[39;00m\n\u001b[0;32m---> 17\u001b[0m     images, _ \u001b[39m=\u001b[39m \u001b[39mnext\u001b[39m(\u001b[39miter\u001b[39m(data_loader\u001b[39m.\u001b[39;49mtrain_loader[\u001b[39m0\u001b[39m]))\n\u001b[1;32m     18\u001b[0m     images1, _ \u001b[39m=\u001b[39m \u001b[39mnext\u001b[39m(\u001b[39miter\u001b[39m(data_loader\u001b[39m.\u001b[39mtrain_loader[\u001b[39m1\u001b[39m]))\n\u001b[1;32m     19\u001b[0m     all_images \u001b[39m=\u001b[39m []\n",
      "\u001b[0;31mAttributeError\u001b[0m: 'DataLoader_MNIST' object has no attribute 'train_loader'"
     ]
    }
   ],
   "source": [
    "from utils.sampler import simple_sampler, class_sampler\n",
    "\n",
    "# Convertiere String in Integer\n",
    "num_samples= int(config['num_samples'])\n",
    "\n",
    "print(num_samples)\n",
    "# Sample simply \n",
    "z1, z2= simple_sampler(num_samples, model1, model2, data_loader, DEVICE)\n",
    "# Sample from each class\n",
    "#z1_suf, z2_suf, images_suf, labels_suf = class_sampler(config['num_samples'], model, model2, data_loader, DEVICE)\n",
    "\n"
   ]
  },
  {
   "cell_type": "markdown",
   "metadata": {},
   "source": [
    "# Convex Optimization Solver\n",
    "## Linear Transformation with regularization\n",
    "We are using the cvxpy solver which is a open source solver for convex optimization problems."
   ]
  },
  {
   "cell_type": "code",
   "execution_count": 88,
   "metadata": {},
   "outputs": [
    {
     "name": "stdout",
     "output_type": "stream",
     "text": [
      "/Users/mariotuci/Desktop/Google-Drive/Master/SoSe-24/Project Studies/Project/Code/latent-communication\n",
      "Solving the problem\n",
      "Defining the problem\n",
      "Results saved at  optimization/VAE-LinearTransform/Linear_VAE_3_VAE_4_100\n"
     ]
    }
   ],
   "source": [
    "import os \n",
    "#ä Get wd \n",
    "print(os.getcwd())\n",
    "# Linear Transformation\n",
    "from optimizer import LinearFitting\n",
    "\n",
    "linear_fitting = LinearFitting(z1, z2,lamda=0.01)\n",
    "\n",
    "linear_fitting.solve_problem()\n",
    "\n",
    "loss, A  = linear_fitting.get_results()\n",
    "\n",
    "name = 'Linear_' + config['modelname1'] + '_' + config['seed1'] + '_' + config['modelname2'] + '_' + config['seed2'] + '_' + config['num_samples']\n",
    "path = 'optimization/VAE-LinearTransform/' + name \n",
    "\n",
    "linear_fitting.save_results(path)\n",
    "\n"
   ]
  },
  {
   "cell_type": "markdown",
   "metadata": {},
   "source": [
    "## Affine transformation\n",
    "In this section we implement the affine transformation. We are adding a offset to the problem."
   ]
  },
  {
   "cell_type": "code",
   "execution_count": 89,
   "metadata": {},
   "outputs": [
    {
     "name": "stdout",
     "output_type": "stream",
     "text": [
      "Solving the problem\n",
      "Defining the problem\n",
      "Getting results\n",
      "Loss: 70.35849794230826\n",
      "A: [[-5.93303879e-01 -3.06867819e-01  0.00000000e+00 ... -2.42000117e-01\n",
      "  -1.52473218e-01 -7.68865392e-02]\n",
      " [-3.01676852e-01 -1.00814253e-01  0.00000000e+00 ... -5.01366241e-02\n",
      "  -7.06784603e-02 -4.19766510e-02]\n",
      " [ 3.13299623e-01  1.58261536e-01  0.00000000e+00 ...  6.37404351e-02\n",
      "   6.02800941e-02  8.09385848e-02]\n",
      " ...\n",
      " [ 4.19908121e-01  3.04512863e-01  0.00000000e+00 ...  6.81596693e-02\n",
      "   1.04791855e-01  9.78241610e-02]\n",
      " [ 2.11636623e-02  5.12156567e-03  0.00000000e+00 ...  5.70270631e-03\n",
      "   2.73593204e-03  5.67791150e-03]\n",
      " [-8.23454890e-02  1.36501746e-01  0.00000000e+00 ...  7.76349126e-02\n",
      "  -3.89713996e-04 -3.83569196e-02]]\n",
      "b: [ 3.52062489e-01  3.76244028e+00  5.29228343e-01  3.44155825e+00\n",
      "  3.14042208e-13  3.10253037e+00  1.41707738e+00  2.35135171e+00\n",
      " -2.21233827e-13  2.11076399e+00 -5.62412252e-14  2.11808798e+00\n",
      " -5.47060826e-14  3.81549238e+00  4.64853700e-15  3.92733825e+00\n",
      "  8.28841365e-01  2.19433526e-13 -5.32992143e-14  8.71964870e-14\n",
      "  3.89350563e+00  4.12703232e-01  6.03056383e-01  7.03347079e-01\n",
      "  1.49036096e+00  4.53939206e-01  5.24865423e+00  2.41037215e+00\n",
      " -1.47154813e-13  1.66577360e+00  2.61094405e-01  5.48150894e+00]\n",
      "Results saved at  optimization/VAE-LinearTransform/Affine_VAE_3_VAE_4_100\n"
     ]
    }
   ],
   "source": [
    "from optimizer import AffineFitting\n",
    "\n",
    "affine_fitting = AffineFitting(z1, z2, lamda=0.01)\n",
    "\n",
    "# Solve the problem\n",
    "affine_fitting.solve_problem()\n",
    "\n",
    "# Get the results\n",
    "loss, A, b = affine_fitting.get_results()\n",
    "\n",
    "# Show the results\n",
    "print('Loss:', loss)\n",
    "print('A:', A)\n",
    "print('b:', b)\n",
    "\n",
    "# Save the results\n",
    "name = 'Affine_' + config['modelname1'] + '_' + config['seed1'] + '_' + config['modelname2'] + '_' + config['seed2'] + '_' + config['num_samples']\n",
    "path = 'optimization/VAE-LinearTransform/' + name\n",
    "\n",
    "\n",
    "# Save the results\n",
    "affine_fitting.save_results(path)\n",
    "\n"
   ]
  },
  {
   "cell_type": "markdown",
   "metadata": {},
   "source": [
    "## Linear Transformation with constraints (psd)\n",
    "In this section we relax the problem and consider that the matrix has to be positive semidefinite."
   ]
  },
  {
   "cell_type": "code",
   "execution_count": 47,
   "metadata": {},
   "outputs": [
    {
     "name": "stdout",
     "output_type": "stream",
     "text": [
      "Optimal value:  34.901493456700365\n",
      "[[ 1.51821848e-01  5.56895851e-02 -1.93031590e-02 ...  3.39359862e-02\n",
      "   5.35622009e-02  8.20711810e-02]\n",
      " [ 2.08683234e-02  8.40538183e-02 -9.98856392e-04 ...  1.12780196e-02\n",
      "   1.49802143e-01 -8.53980783e-02]\n",
      " [ 6.25820417e-02  2.61333410e-02  4.37348532e-02 ... -9.39537026e-03\n",
      "  -3.47203346e-02  1.30371568e-02]\n",
      " ...\n",
      " [ 4.75892774e-02  7.40579969e-02  2.52987499e-02 ...  8.17855467e-02\n",
      "  -8.75878002e-02  1.58779796e-01]\n",
      " [-4.74974407e-02 -7.88330682e-02  2.08291555e-03 ...  6.51295726e-02\n",
      "   5.02004975e-02 -6.86589407e-02]\n",
      " [-2.99752488e-02  2.91760625e-01  1.07695391e-02 ... -8.81125805e-05\n",
      "   1.24254865e-01  1.52271000e-01]]\n"
     ]
    }
   ],
   "source": [
    "# Optimization Variable\n",
    "A_psd = cp.Variable((32, 32))\n",
    "\n",
    "# Loss Function\n",
    "loss_psd = cp.norm2(cp.vstack([A_psd @ z1[i] - z2[i] for i in range(z1.shape[0])]))**2 + lamda * cp.norm(A_psd, 'fro')**2\n",
    "\n",
    "# Objective Function\n",
    "objective_psd = cp.Minimize(loss_psd)\n",
    "\n",
    "# Constraints\n",
    "constraints = [A_psd >> 0]\n",
    "\n",
    "# Problem\n",
    "\n",
    "problem_psd = cp.Problem(objective_psd, constraints)\n",
    "\n",
    "# Solve the problem\n",
    "\n",
    "problem_psd.solve()\n",
    "\n",
    "# Print results\n",
    "print(\"Optimal value: \", problem_psd.value)\n",
    "print(A_psd.value)\n",
    "\n"
   ]
  },
  {
   "cell_type": "markdown",
   "metadata": {},
   "source": [
    "## Affine Transfomrmation with constraint (psd)"
   ]
  },
  {
   "cell_type": "code",
   "execution_count": 48,
   "metadata": {},
   "outputs": [
    {
     "name": "stdout",
     "output_type": "stream",
     "text": [
      "Optimal value:  34.24464274665315\n",
      "[[ 0.11666089  0.00393495 -0.0056867  ...  0.0191255   0.0107472\n",
      "   0.04334259]\n",
      " [-0.02276971  0.04896931  0.02793243 ...  0.00659383  0.10956296\n",
      "  -0.0971355 ]\n",
      " [ 0.00696019 -0.04730342  0.03268734 ... -0.004706   -0.05826982\n",
      "  -0.02599201]\n",
      " ...\n",
      " [ 0.02691977  0.04183781  0.01845002 ...  0.06482117 -0.11482373\n",
      "   0.13552223]\n",
      " [-0.03337478 -0.05176091  0.01215324 ...  0.07089855  0.05565875\n",
      "  -0.03461887]\n",
      " [-0.10156949  0.20056511  0.00328381 ... -0.02638674  0.06216649\n",
      "   0.09022269]]\n",
      "[ 2.34381618  2.31231468  1.91114035  4.66982296  1.3469774   1.59156096\n",
      "  3.91057957  3.30460911  0.8458655   1.51884706 -0.6437429   2.43651978\n",
      " -0.03508159  2.62580291 -1.27235726  1.47504172  0.04440307  0.27604265\n",
      " -0.82264772 -0.3927284   3.35220021  1.87762301  1.13077015  1.21421183\n",
      "  2.84487957  3.69182049  1.14590623  6.95825472  0.15937158  1.61406641\n",
      " -0.64105622  4.57345625]\n"
     ]
    }
   ],
   "source": [
    "A_aff_psd = cp.Variable((32, 32))\n",
    "b_aff_psd = cp.Variable(32)\n",
    "\n",
    "# Loss Function\n",
    "loss_aff_psd = cp.norm2(cp.vstack([A_aff_psd @ z1[i] + b_aff_psd - z2[i] for i in range(z1.shape[0])]))**2 + lamda * cp.norm(A_aff_psd, 'fro')**2\n",
    "\n",
    "# Objective Function\n",
    "objective_aff_psd = cp.Minimize(loss_aff_psd)\n",
    "\n",
    "# Constraints\n",
    "constraints_aff_psd = [A_aff_psd >> 0]\n",
    "\n",
    "# Problem\n",
    "problem_aff_psd = cp.Problem(objective_aff_psd, constraints_aff_psd)\n",
    "\n",
    "# Solve the problem\n",
    "problem_aff_psd.solve()\n",
    "\n",
    "# Print results\n",
    "print(\"Optimal value: \", problem_aff_psd.value)\n",
    "print(A_aff_psd.value)\n",
    "print(b_aff_psd.value)\n"
   ]
  },
  {
   "cell_type": "markdown",
   "metadata": {},
   "source": [
    "## Trying different norms \n",
    "We begin to reformulate the problem with the L1 Norm\n",
    "\n"
   ]
  },
  {
   "cell_type": "code",
   "execution_count": 53,
   "metadata": {},
   "outputs": [
    {
     "name": "stdout",
     "output_type": "stream",
     "text": [
      "===============================================================================\n",
      "                                     CVXPY                                     \n",
      "                                     v1.5.1                                    \n",
      "===============================================================================\n",
      "(CVXPY) May 24 10:33:27 PM: Your problem has 1024 variables, 0 constraints, and 0 parameters.\n",
      "(CVXPY) May 24 10:33:27 PM: It is compliant with the following grammars: DCP, DQCP\n",
      "(CVXPY) May 24 10:33:27 PM: (If you need to solve this problem multiple times, but with different data, consider using parameters.)\n",
      "(CVXPY) May 24 10:33:27 PM: CVXPY will first compile your problem; then, it will invoke a numerical solver to obtain a solution.\n",
      "(CVXPY) May 24 10:33:27 PM: Your problem is compiled with the CPP canonicalization backend.\n",
      "-------------------------------------------------------------------------------\n",
      "                                  Compilation                                  \n",
      "-------------------------------------------------------------------------------\n",
      "(CVXPY) May 24 10:33:27 PM: Compiling problem (target solver=ECOS).\n",
      "(CVXPY) May 24 10:33:27 PM: Reduction chain: Dcp2Cone -> CvxAttr2Constr -> ConeMatrixStuffing -> ECOS\n"
     ]
    },
    {
     "name": "stdout",
     "output_type": "stream",
     "text": [
      "(CVXPY) May 24 10:33:27 PM: Applying reduction Dcp2Cone\n",
      "(CVXPY) May 24 10:33:27 PM: Applying reduction CvxAttr2Constr\n",
      "(CVXPY) May 24 10:33:27 PM: Applying reduction ConeMatrixStuffing\n",
      "(CVXPY) May 24 10:33:27 PM: Applying reduction ECOS\n",
      "(CVXPY) May 24 10:33:27 PM: Finished problem compilation (took 1.549e-01 seconds).\n",
      "-------------------------------------------------------------------------------\n",
      "                                Numerical solver                               \n",
      "-------------------------------------------------------------------------------\n",
      "(CVXPY) May 24 10:33:27 PM: Invoking solver ECOS  to obtain a solution.\n",
      "\n",
      "ECOS 2.0.10 - (C) embotech GmbH, Zurich Switzerland, 2012-15. Web: www.embotech.com/ECOS\n",
      "\n",
      "It     pcost       dcost      gap   pres   dres    k/t    mu     step   sigma     IR    |   BT\n",
      " 0  +0.000e+00  -2.913e-01  +9e+03  5e-01  6e-01  1e+00  1e+00    ---    ---    1  1  - |  -  - \n",
      " 1  +5.972e+00  +7.520e+00  +3e+03  8e-01  6e-01  3e+00  4e-01  0.7231  2e-02   1  1  1 |  0  0\n",
      " 2  +5.587e+00  +3.108e+01  +1e+03  4e+00  2e+00  3e+01  2e-01  0.8609  4e-01   1  1  1 |  0  0\n",
      " 3  +8.471e+01  +8.310e+01  +1e+03  1e+00  8e-01  1e-01  2e-01  0.1953  8e-01   1  1  1 |  0  0\n",
      " 4  +2.751e+02  +2.758e+02  +3e+02  9e-01  5e-01  2e+00  5e-02  0.7830  4e-02   2  1  1 |  0  0\n"
     ]
    },
    {
     "name": "stderr",
     "output_type": "stream",
     "text": [
      "/Users/mariotuci/miniconda/envs/relreps/lib/python3.8/site-packages/cvxpy/reductions/solvers/solving_chain.py:354: FutureWarning: \n",
      "    You specified your problem should be solved by ECOS. Starting in\n",
      "    CXVPY 1.6.0, ECOS will no longer be installed by default with CVXPY.\n",
      "    Please either add an explicit dependency on ECOS or switch to our new\n",
      "    default solver, Clarabel, by either not specifying a solver argument\n",
      "    or specifying ``solver=cp.CLARABEL``.\n",
      "    \n",
      "  warnings.warn(ECOS_DEP_DEPRECATION_MSG, FutureWarning)\n"
     ]
    },
    {
     "name": "stdout",
     "output_type": "stream",
     "text": [
      " 5  +3.506e+02  +3.715e+02  +2e+02  1e+00  7e-01  2e+01  3e-02  0.6777  4e-01   1  1  1 |  0  0\n",
      " 6  +1.176e+03  +1.206e+03  +1e+02  5e-01  3e-01  3e+01  2e-02  0.8604  4e-01   2  1  1 |  0  0\n",
      " 7  +2.806e+02  +4.176e+02  +7e+01  1e+00  6e-01  1e+02  1e-02  0.6592  6e-01   2  1  1 |  0  0\n",
      " 8  +1.565e+03  +1.565e+03  +7e+01  5e-01  3e-01  6e-01  1e-02  0.4537  8e-01   2  1  1 |  0  0\n",
      " 9  +4.330e+03  +4.332e+03  +1e+01  2e-01  1e-01  2e+00  2e-03  0.7977  2e-02   1  1  1 |  0  0\n",
      "10  +8.064e+03  +8.076e+03  +1e+01  1e-01  8e-02  1e+01  1e-03  0.5704  4e-01   1  1  1 |  0  0\n",
      "11  +5.106e+03  +5.150e+03  +7e+00  3e-01  9e-02  4e+01  1e-03  0.5788  6e-01   2  2  1 |  0  0\n",
      "12  +1.541e+04  +1.545e+04  +5e+00  9e-02  4e-02  4e+01  7e-04  0.9890  6e-01   1  2  1 |  0  0\n",
      "13  +2.494e+04  +2.497e+04  +2e+00  5e-02  2e-02  4e+01  3e-04  0.7629  2e-01   1  2  2 |  0  0\n",
      "14  +3.710e+04  +3.712e+04  +7e-01  2e-02  9e-03  2e+01  1e-04  0.6932  2e-01   3  2  2 |  0  0\n",
      "15  +3.486e+04  +3.489e+04  +7e-01  3e-02  9e-03  3e+01  1e-04  0.2851  7e-01   2  2  2 |  0  0\n",
      "16  +4.954e+04  +4.954e+04  +2e-01  8e-03  3e-03  9e+00  3e-05  0.9890  3e-01   2  2  2 |  0  0\n",
      "17  +5.692e+04  +5.692e+04  +6e-02  2e-03  7e-04  3e+00  9e-06  0.8318  1e-01   3  3  3 |  0  0\n",
      "18  +5.930e+04  +5.930e+04  +2e-02  9e-04  3e-04  1e+00  3e-06  0.7029  1e-01   3  3  2 |  0  0\n",
      "19  +6.015e+04  +6.015e+04  +9e-03  4e-04  1e-04  5e-01  1e-06  0.6531  1e-01   2  2  3 |  0  0\n",
      "20  +6.060e+04  +6.060e+04  +3e-03  1e-04  4e-05  2e-01  5e-07  0.7987  2e-01   2  2  2 |  0  0\n",
      "21  +6.076e+04  +6.076e+04  +1e-03  4e-05  1e-05  5e-02  2e-07  0.8235  2e-01   3  2  2 |  0  0\n",
      "22  +6.082e+04  +6.082e+04  +3e-04  1e-05  4e-06  2e-02  4e-08  0.8504  2e-01   3  2  2 |  0  0\n",
      "23  +6.084e+04  +6.084e+04  +7e-05  3e-06  1e-06  4e-03  1e-08  0.7617  4e-02   3  2  2 |  0  0\n",
      "24  +6.085e+04  +6.085e+04  +1e-05  5e-07  2e-07  7e-04  2e-09  0.8764  4e-02   3  2  3 |  0  0\n",
      "25  +6.094e+04  +6.094e+04  -1e+04  6e+02  6e-04  7e-04  -2e+00  0.0000  1e+00   0  0  0 |  0  0\n",
      "\bUnreliable search direction detected, recovering best iterate (24) and stopping.\n",
      "\n",
      "Close to OPTIMAL (within feastol=5.1e-07, reltol=1.9e-10, abstol=1.2e-05).\n",
      "Runtime: 0.209474 seconds.\n",
      "\n",
      "-------------------------------------------------------------------------------\n",
      "                                    Summary                                    \n",
      "-------------------------------------------------------------------------------\n",
      "(CVXPY) May 24 10:33:27 PM: Problem status: optimal_inaccurate\n",
      "(CVXPY) May 24 10:33:27 PM: Optimal value: 6.085e+04\n",
      "(CVXPY) May 24 10:33:27 PM: Compilation took 1.549e-01 seconds\n",
      "(CVXPY) May 24 10:33:27 PM: Solver (including time spent in interface) took 2.126e-01 seconds\n",
      "Optimal value:  60848.25210660531\n",
      "[[-1.19654421e+00  5.83451737e-01  0.00000000e+00 ...  4.02695736e-01\n",
      "  -5.92293810e-01  1.58134463e+00]\n",
      " [-9.15626344e-02 -5.37136763e-01  0.00000000e+00 ...  1.46498812e-01\n",
      "   2.78178512e-02  1.06917868e-01]\n",
      " [ 1.26712555e+00 -1.00553072e+00  0.00000000e+00 ... -5.48461173e-02\n",
      "  -4.57422215e-01 -1.40169289e+00]\n",
      " ...\n",
      " [-4.79431293e-01  5.85344659e-01  0.00000000e+00 ...  4.37138025e-01\n",
      "  -7.28103036e-01  1.56031435e+00]\n",
      " [ 7.64386195e-07 -7.94761512e-07  0.00000000e+00 ... -3.42114096e-07\n",
      "  -7.61587116e-07 -1.64604118e-06]\n",
      " [ 3.14694521e-01  8.67639881e-01  0.00000000e+00 ...  3.37271973e-01\n",
      "  -7.17598311e-02  4.35522103e-01]]\n"
     ]
    },
    {
     "name": "stderr",
     "output_type": "stream",
     "text": [
      "/Users/mariotuci/miniconda/envs/relreps/lib/python3.8/site-packages/cvxpy/problems/problem.py:1407: UserWarning: Solution may be inaccurate. Try another solver, adjusting the solver settings, or solve with verbose=True for more information.\n",
      "  warnings.warn(\n"
     ]
    }
   ],
   "source": [
    "A_L1 = cp.Variable((32, 32))\n",
    "\n",
    "#May need another solver\n",
    "\n",
    "\n",
    "\n",
    "# Loss Function\n",
    "loss_L1 = cp.norm1(cp.vstack([A_L1 @ z1[i] - z2[i] for i in range(z1.shape[0])]))**2 + lamda * cp.norm(A_L1, '')**2\n",
    "\n",
    "# Objective Function\n",
    "objective_L1 = cp.Minimize(loss_L1)\n",
    "\n",
    "\n",
    "# Problem\n",
    "problem_L1= cp.Problem(objective_L1)\n",
    "\n",
    "# Solve the problem\n",
    "problem_L1.solve(verbose=True, solver=cp.ECOS)\n",
    "\n",
    "# Print results\n",
    "print(\"Optimal value: \", problem_L1.value)\n",
    "print(A_L1.value)\n"
   ]
  },
  {
   "cell_type": "markdown",
   "metadata": {},
   "source": [
    "# Compare the total distance "
   ]
  },
  {
   "cell_type": "code",
   "execution_count": 54,
   "metadata": {},
   "outputs": [
    {
     "ename": "NameError",
     "evalue": "name 'installed_solvers' is not defined",
     "output_type": "error",
     "traceback": [
      "\u001b[0;31m---------------------------------------------------------------------------\u001b[0m",
      "\u001b[0;31mNameError\u001b[0m                                 Traceback (most recent call last)",
      "\u001b[1;32m/Users/mariotuci/Desktop/Google-Drive/Master/SoSe-24/Project Studies/Project/Code/latent-communication/optimization/linear.ipynb Zelle 26\u001b[0m line \u001b[0;36m1\n\u001b[0;32m----> <a href='vscode-notebook-cell:/Users/mariotuci/Desktop/Google-Drive/Master/SoSe-24/Project%20Studies/Project/Code/latent-communication/optimization/linear.ipynb#X54sZmlsZQ%3D%3D?line=0'>1</a>\u001b[0m \u001b[39mprint\u001b[39m(installed_solvers())\n",
      "\u001b[0;31mNameError\u001b[0m: name 'installed_solvers' is not defined"
     ]
    }
   ],
   "source": [
    "# Get Latent Space for al"
   ]
  }
 ],
 "metadata": {
  "kernelspec": {
   "display_name": "Python 3",
   "language": "python",
   "name": "python3"
  },
  "language_info": {
   "codemirror_mode": {
    "name": "ipython",
    "version": 3
   },
   "file_extension": ".py",
   "mimetype": "text/x-python",
   "name": "python",
   "nbconvert_exporter": "python",
   "pygments_lexer": "ipython3",
   "version": "3.8.19"
  }
 },
 "nbformat": 4,
 "nbformat_minor": 2
}
