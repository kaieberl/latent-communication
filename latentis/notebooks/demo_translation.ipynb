{
 "cells": [
  {
   "cell_type": "markdown",
   "metadata": {},
   "source": [
    "# Define spaces\n",
    "\n",
    "Image Space: Dino v2 (5000 samples, 1024 dimensions)  \n",
    "Text Space: all-RoBERTa (5000 samples, 1024 dimensions)"
   ]
  },
  {
   "cell_type": "code",
   "metadata": {
    "ExecuteTime": {
     "end_time": "2024-04-28T14:58:50.552512Z",
     "start_time": "2024-04-28T14:58:49.677637Z"
    }
   },
   "source": [
    "import torch\n",
    "from latentis import LatentSpace\n",
    "\n",
    "with open('../data/coco_dinov2_img.pt', 'rb') as f:\n",
    "    img_emb = torch.load(f)\n",
    "\n",
    "with open('../data/coco_allroberta_text.pt', 'rb') as f:\n",
    "    txt_emb = torch.load(f)\n",
    "\n",
    "img_space = LatentSpace(vectors=img_emb, name=\"img_space\")\n",
    "txt_space = LatentSpace(vectors=txt_emb, name=\"txt_space\")"
   ],
   "outputs": [],
   "execution_count": 1
  },
  {
   "cell_type": "markdown",
   "metadata": {},
   "source": [
    "# Define Translator"
   ]
  },
  {
   "cell_type": "code",
   "metadata": {
    "ExecuteTime": {
     "end_time": "2024-04-28T14:58:50.838514Z",
     "start_time": "2024-04-28T14:58:50.554003Z"
    }
   },
   "source": [
    "from latentis import transform\n",
    "from latentis.estimate.dim_matcher import ZeroPadding\n",
    "from latentis.estimate.affine import SGDAffineTranslator\n",
    "from latentis.translate.translator import LatentTranslator\n",
    "\n",
    "\n",
    "translator = LatentTranslator(\n",
    "    random_seed=0,\n",
    "    estimator=SGDAffineTranslator(),\n",
    "    source_transforms=[transform.StandardScaling()],\n",
    "    target_transforms=[transform.StandardScaling()],\n",
    ")"
   ],
   "outputs": [],
   "execution_count": 2
  },
  {
   "cell_type": "markdown",
   "metadata": {},
   "source": [
    "# Fit Translator"
   ]
  },
  {
   "cell_type": "code",
   "metadata": {
    "ExecuteTime": {
     "end_time": "2024-04-28T14:59:00.415067Z",
     "start_time": "2024-04-28T14:58:50.840387Z"
    }
   },
   "source": "translator.fit(source_data=img_space, target_data=txt_space)",
   "outputs": [],
   "execution_count": 3
  },
  {
   "cell_type": "markdown",
   "metadata": {},
   "source": [
    "# Latent Translation"
   ]
  },
  {
   "cell_type": "code",
   "metadata": {
    "ExecuteTime": {
     "end_time": "2024-04-28T14:59:00.439419Z",
     "start_time": "2024-04-28T14:59:00.416102Z"
    }
   },
   "source": "translator(img_space).shape",
   "outputs": [
    {
     "data": {
      "text/plain": [
       "torch.Size([5000, 1024])"
      ]
     },
     "execution_count": 4,
     "metadata": {},
     "output_type": "execute_result"
    }
   ],
   "execution_count": 4
  },
  {
   "cell_type": "code",
   "metadata": {
    "ExecuteTime": {
     "end_time": "2024-04-28T14:59:00.444087Z",
     "start_time": "2024-04-28T14:59:00.441452Z"
    }
   },
   "source": "img_space.shape, txt_space.shape",
   "outputs": [
    {
     "data": {
      "text/plain": [
       "(torch.Size([5000, 1024]), torch.Size([5000, 1024]))"
      ]
     },
     "execution_count": 5,
     "metadata": {},
     "output_type": "execute_result"
    }
   ],
   "execution_count": 5
  },
  {
   "cell_type": "code",
   "metadata": {
    "ExecuteTime": {
     "end_time": "2024-04-28T14:59:00.446929Z",
     "start_time": "2024-04-28T14:59:00.445216Z"
    }
   },
   "source": [],
   "outputs": [],
   "execution_count": 5
  }
 ],
 "metadata": {
  "kernelspec": {
   "display_name": "latentis",
   "language": "python",
   "name": "python3"
  },
  "language_info": {
   "codemirror_mode": {
    "name": "ipython",
    "version": 3
   },
   "file_extension": ".py",
   "mimetype": "text/x-python",
   "name": "python",
   "nbconvert_exporter": "python",
   "pygments_lexer": "ipython3",
   "version": "3.9.18"
  }
 },
 "nbformat": 4,
 "nbformat_minor": 2
}
