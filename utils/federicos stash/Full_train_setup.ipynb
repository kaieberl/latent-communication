{
 "cells": [
  {
   "cell_type": "code",
   "execution_count": 1,
   "metadata": {},
   "outputs": [
    {
     "name": "stdout",
     "output_type": "stream",
     "text": [
      "68\n"
     ]
    },
    {
     "name": "stderr",
     "output_type": "stream",
     "text": [
      "  0%|          | 0/68 [00:00<?, ?it/s]/Users/federicoferoggio/Documents/vs_code/latent-communication/.zeroshot/lib/python3.9/site-packages/torch/optim/lr_scheduler.py:28: UserWarning: The verbose parameter is deprecated. Please use get_last_lr() to access the learning rate.\n",
      "  warnings.warn(\"The verbose parameter is deprecated. Please use get_last_lr() \"\n",
      "/var/folders/tp/9l7ncvh137x08kdlp_fvr1nw0000gn/T/ipykernel_36666/2515197410.py:87: FutureWarning: The behavior of DataFrame concatenation with empty or all-NA entries is deprecated. In a future version, this will no longer exclude empty or all-NA columns when determining the result dtypes. To retain the old behavior, exclude the relevant entries before the concat operation.\n",
      "  loss_dataset = pd.concat([loss_dataset, new_row], ignore_index=True)\n"
     ]
    },
    {
     "name": "stdout",
     "output_type": "stream",
     "text": [
      "\tEpoch 1 complete! \tAverage Loss:  0.014295315334219922\n",
      "\tEpoch 2 complete! \tAverage Loss:  0.013471051630601763\n",
      "\tEpoch 3 complete! \tAverage Loss:  0.013367264171136912\n",
      "\tEpoch 4 complete! \tAverage Loss:  0.013359573416546908\n",
      "\tEpoch 5 complete! \tAverage Loss:  0.013356479577847254\n"
     ]
    },
    {
     "name": "stderr",
     "output_type": "stream",
     "text": [
      "  1%|▏         | 1/68 [01:17<1:26:24, 77.39s/it]"
     ]
    },
    {
     "name": "stdout",
     "output_type": "stream",
     "text": [
      "MNIST_SMLLAE_0.01_64_5_1.pth\n",
      "\tEpoch 1 complete! \tAverage Loss:  0.014714868470176515\n",
      "\tEpoch 2 complete! \tAverage Loss:  0.013862573777013687\n",
      "\tEpoch 3 complete! \tAverage Loss:  0.013591269830436403\n",
      "\tEpoch 4 complete! \tAverage Loss:  0.013448886207934382\n",
      "\tEpoch 5 complete! \tAverage Loss:  0.01341128998350646\n"
     ]
    },
    {
     "name": "stderr",
     "output_type": "stream",
     "text": [
      "  3%|▎         | 2/68 [02:21<1:16:47, 69.81s/it]"
     ]
    },
    {
     "name": "stdout",
     "output_type": "stream",
     "text": [
      "MNIST_SMLLAE_0.001_64_5_1.pth\n",
      "\tEpoch 1 complete! \tAverage Loss:  0.007206655884864552\n",
      "\tEpoch 2 complete! \tAverage Loss:  0.006740905529162141\n",
      "\tEpoch 3 complete! \tAverage Loss:  0.006678439953775484\n",
      "\tEpoch 4 complete! \tAverage Loss:  0.006666744267865857\n",
      "\tEpoch 5 complete! \tAverage Loss:  0.006663902720281565\n"
     ]
    },
    {
     "name": "stderr",
     "output_type": "stream",
     "text": [
      "  4%|▍         | 3/68 [03:01<1:00:50, 56.16s/it]"
     ]
    },
    {
     "name": "stdout",
     "output_type": "stream",
     "text": [
      "MNIST_SMLLAE_0.01_128_5_1.pth\n",
      "\tEpoch 1 complete! \tAverage Loss:  0.0075174807868739054\n",
      "\tEpoch 2 complete! \tAverage Loss:  0.007156756362998918\n",
      "\tEpoch 3 complete! \tAverage Loss:  0.00695778059163518\n",
      "\tEpoch 4 complete! \tAverage Loss:  0.006794732149396496\n",
      "\tEpoch 5 complete! \tAverage Loss:  0.006727197299848424\n"
     ]
    },
    {
     "name": "stderr",
     "output_type": "stream",
     "text": [
      "  6%|▌         | 4/68 [03:41<53:02, 49.72s/it]  "
     ]
    },
    {
     "name": "stdout",
     "output_type": "stream",
     "text": [
      "MNIST_SMLLAE_0.001_128_5_1.pth\n",
      "\tEpoch 1 complete! \tAverage Loss:  0.014295315334219922\n",
      "\tEpoch 2 complete! \tAverage Loss:  0.013471051630601763\n",
      "\tEpoch 3 complete! \tAverage Loss:  0.013367264171136912\n",
      "\tEpoch 4 complete! \tAverage Loss:  0.013359573416546908\n",
      "\tEpoch 5 complete! \tAverage Loss:  0.013356479577847254\n",
      "\tEpoch 6 complete! \tAverage Loss:  0.013354577317730642\n",
      "\tEpoch 7 complete! \tAverage Loss:  0.013352483498063613\n",
      "\tEpoch 8 complete! \tAverage Loss:  0.013352116015848957\n",
      "\tEpoch 9 complete! \tAverage Loss:  0.013350433592539606\n",
      "\tEpoch 10 complete! \tAverage Loss:  0.013350523095816247\n",
      "\tEpoch 11 complete! \tAverage Loss:  0.013350381573507273\n",
      "\tEpoch 12 complete! \tAverage Loss:  0.013349361754437563\n",
      "\tEpoch 13 complete! \tAverage Loss:  0.013349665469849415\n",
      "\tEpoch 14 complete! \tAverage Loss:  0.013348993801597212\n",
      "\tEpoch 15 complete! \tAverage Loss:  0.013348955340357795\n",
      "\tEpoch 16 complete! \tAverage Loss:  0.013348804694463385\n",
      "\tEpoch 17 complete! \tAverage Loss:  0.013348703281576635\n",
      "\tEpoch 18 complete! \tAverage Loss:  0.013348993894928045\n",
      "\tEpoch 19 complete! \tAverage Loss:  0.013348530572868868\n",
      "\tEpoch 20 complete! \tAverage Loss:  0.013348609404658268\n"
     ]
    },
    {
     "name": "stderr",
     "output_type": "stream",
     "text": [
      "  7%|▋         | 5/68 [07:53<2:08:43, 122.59s/it]"
     ]
    },
    {
     "name": "stdout",
     "output_type": "stream",
     "text": [
      "MNIST_SMLLAE_0.01_64_20_1.pth\n",
      "\tEpoch 1 complete! \tAverage Loss:  0.014714868470176515\n",
      "\tEpoch 2 complete! \tAverage Loss:  0.013862573777013687\n",
      "\tEpoch 3 complete! \tAverage Loss:  0.013591269830436403\n",
      "\tEpoch 4 complete! \tAverage Loss:  0.013448886207934382\n",
      "\tEpoch 5 complete! \tAverage Loss:  0.01341128998350646\n",
      "\tEpoch 6 complete! \tAverage Loss:  0.013342276840075565\n",
      "\tEpoch 7 complete! \tAverage Loss:  0.013316514916710064\n",
      "\tEpoch 8 complete! \tAverage Loss:  0.013298678838375853\n",
      "\tEpoch 9 complete! \tAverage Loss:  0.013286737531526828\n",
      "\tEpoch 10 complete! \tAverage Loss:  0.013279915253109516\n",
      "\tEpoch 11 complete! \tAverage Loss:  0.013275611962972165\n",
      "\tEpoch 12 complete! \tAverage Loss:  0.013272152533496557\n",
      "\tEpoch 13 complete! \tAverage Loss:  0.013268915772525423\n",
      "\tEpoch 14 complete! \tAverage Loss:  0.013266763730304264\n",
      "\tEpoch 15 complete! \tAverage Loss:  0.01326453560061737\n",
      "\tEpoch 16 complete! \tAverage Loss:  0.01326295839888709\n",
      "\tEpoch 17 complete! \tAverage Loss:  0.01326135498012847\n",
      "\tEpoch 18 complete! \tAverage Loss:  0.013260079356136798\n",
      "\tEpoch 19 complete! \tAverage Loss:  0.013259006051549208\n",
      "\tEpoch 20 complete! \tAverage Loss:  0.01325799803783708\n"
     ]
    },
    {
     "name": "stderr",
     "output_type": "stream",
     "text": [
      "  9%|▉         | 6/68 [11:51<2:47:21, 161.96s/it]"
     ]
    },
    {
     "name": "stdout",
     "output_type": "stream",
     "text": [
      "MNIST_SMLLAE_0.001_64_20_1.pth\n",
      "\tEpoch 1 complete! \tAverage Loss:  0.007206655884864552\n",
      "\tEpoch 2 complete! \tAverage Loss:  0.006740905529162141\n",
      "\tEpoch 3 complete! \tAverage Loss:  0.006678439953775484\n",
      "\tEpoch 4 complete! \tAverage Loss:  0.006666744267865857\n",
      "\tEpoch 5 complete! \tAverage Loss:  0.006663902720281565\n",
      "\tEpoch 6 complete! \tAverage Loss:  0.006662460369691411\n",
      "\tEpoch 7 complete! \tAverage Loss:  0.006661857978732728\n",
      "\tEpoch 8 complete! \tAverage Loss:  0.006661565399476523\n",
      "\tEpoch 9 complete! \tAverage Loss:  0.00666085856635052\n",
      "\tEpoch 10 complete! \tAverage Loss:  0.006660559983141641\n",
      "\tEpoch 11 complete! \tAverage Loss:  0.006660111014173229\n",
      "\tEpoch 12 complete! \tAverage Loss:  0.00666015369813643\n",
      "\tEpoch 13 complete! \tAverage Loss:  0.006659462181195966\n",
      "\tEpoch 14 complete! \tAverage Loss:  0.0066595402782532705\n",
      "\tEpoch 15 complete! \tAverage Loss:  0.006658761970587631\n",
      "\tEpoch 16 complete! \tAverage Loss:  0.006659068954564425\n",
      "\tEpoch 17 complete! \tAverage Loss:  0.006658729261109061\n",
      "\tEpoch 18 complete! \tAverage Loss:  0.0066590185032915205\n",
      "\tEpoch 19 complete! \tAverage Loss:  0.006659006292838405\n",
      "\tEpoch 20 complete! \tAverage Loss:  0.006658656175123222\n"
     ]
    },
    {
     "name": "stderr",
     "output_type": "stream",
     "text": [
      " 10%|█         | 7/68 [14:26<2:42:15, 159.60s/it]"
     ]
    },
    {
     "name": "stdout",
     "output_type": "stream",
     "text": [
      "MNIST_SMLLAE_0.01_128_20_1.pth\n",
      "\tEpoch 1 complete! \tAverage Loss:  0.0075174807868739054\n",
      "\tEpoch 2 complete! \tAverage Loss:  0.007156756362998918\n",
      "\tEpoch 3 complete! \tAverage Loss:  0.00695778059163518\n",
      "\tEpoch 4 complete! \tAverage Loss:  0.006794732149396496\n",
      "\tEpoch 5 complete! \tAverage Loss:  0.006727197299848424\n",
      "\tEpoch 6 complete! \tAverage Loss:  0.006702699803753194\n",
      "\tEpoch 7 complete! \tAverage Loss:  0.006687859197391439\n",
      "\tEpoch 8 complete! \tAverage Loss:  0.006676424041525451\n",
      "\tEpoch 9 complete! \tAverage Loss:  0.006666805067939608\n",
      "\tEpoch 10 complete! \tAverage Loss:  0.006660216665669863\n",
      "\tEpoch 11 complete! \tAverage Loss:  0.006654769420496691\n",
      "\tEpoch 12 complete! \tAverage Loss:  0.006648996162778343\n",
      "\tEpoch 13 complete! \tAverage Loss:  0.0066440402448717465\n",
      "\tEpoch 14 complete! \tAverage Loss:  0.006640320918810711\n",
      "\tEpoch 15 complete! \tAverage Loss:  0.006638182557499739\n",
      "\tEpoch 16 complete! \tAverage Loss:  0.006636505173062529\n",
      "\tEpoch 17 complete! \tAverage Loss:  0.006635390896238943\n",
      "\tEpoch 18 complete! \tAverage Loss:  0.006634376413905735\n",
      "\tEpoch 19 complete! \tAverage Loss:  0.006633489532694062\n",
      "\tEpoch 20 complete! \tAverage Loss:  0.006632694731285768\n"
     ]
    },
    {
     "name": "stderr",
     "output_type": "stream",
     "text": [
      " 12%|█▏        | 8/68 [17:00<2:37:44, 157.75s/it]"
     ]
    },
    {
     "name": "stdout",
     "output_type": "stream",
     "text": [
      "MNIST_SMLLAE_0.001_128_20_1.pth\n",
      "\tEpoch 1 complete! \tAverage Loss:  0.013923359738944817\n",
      "\tEpoch 2 complete! \tAverage Loss:  0.013381644184869935\n",
      "\tEpoch 3 complete! \tAverage Loss:  0.013359250480940601\n",
      "\tEpoch 4 complete! \tAverage Loss:  0.013351790211808833\n",
      "\tEpoch 5 complete! \tAverage Loss:  0.013350434403723554\n"
     ]
    },
    {
     "name": "stderr",
     "output_type": "stream",
     "text": [
      " 13%|█▎        | 9/68 [18:01<2:05:17, 127.42s/it]"
     ]
    },
    {
     "name": "stdout",
     "output_type": "stream",
     "text": [
      "MNIST_SMLLAE_0.01_64_5_2.pth\n",
      "\tEpoch 1 complete! \tAverage Loss:  0.014521742497743574\n",
      "\tEpoch 2 complete! \tAverage Loss:  0.013553963543207788\n",
      "\tEpoch 3 complete! \tAverage Loss:  0.013429796106732094\n",
      "\tEpoch 4 complete! \tAverage Loss:  0.013376718257933157\n",
      "\tEpoch 5 complete! \tAverage Loss:  0.01334023198434539\n"
     ]
    },
    {
     "name": "stderr",
     "output_type": "stream",
     "text": [
      " 15%|█▍        | 10/68 [19:02<1:43:31, 107.09s/it]"
     ]
    },
    {
     "name": "stdout",
     "output_type": "stream",
     "text": [
      "MNIST_SMLLAE_0.001_64_5_2.pth\n",
      "\tEpoch 1 complete! \tAverage Loss:  0.007128109783132765\n",
      "\tEpoch 2 complete! \tAverage Loss:  0.006743482846234526\n",
      "\tEpoch 3 complete! \tAverage Loss:  0.0066839733472796896\n",
      "\tEpoch 4 complete! \tAverage Loss:  0.006668673577045263\n",
      "\tEpoch 5 complete! \tAverage Loss:  0.0066651310731988475\n"
     ]
    },
    {
     "name": "stderr",
     "output_type": "stream",
     "text": [
      " 16%|█▌        | 11/68 [19:41<1:22:00, 86.33s/it] "
     ]
    },
    {
     "name": "stdout",
     "output_type": "stream",
     "text": [
      "MNIST_SMLLAE_0.01_128_5_2.pth\n",
      "\tEpoch 1 complete! \tAverage Loss:  0.007528818107204143\n",
      "\tEpoch 2 complete! \tAverage Loss:  0.006906906490339272\n",
      "\tEpoch 3 complete! \tAverage Loss:  0.006798897343657927\n",
      "\tEpoch 4 complete! \tAverage Loss:  0.006770161533557467\n",
      "\tEpoch 5 complete! \tAverage Loss:  0.00673644801280074\n"
     ]
    },
    {
     "name": "stderr",
     "output_type": "stream",
     "text": [
      " 18%|█▊        | 12/68 [20:21<1:07:15, 72.07s/it]"
     ]
    },
    {
     "name": "stdout",
     "output_type": "stream",
     "text": [
      "MNIST_SMLLAE_0.001_128_5_2.pth\n",
      "\tEpoch 1 complete! \tAverage Loss:  0.013923359738944817\n",
      "\tEpoch 2 complete! \tAverage Loss:  0.013381644184869935\n",
      "\tEpoch 3 complete! \tAverage Loss:  0.013359250480940601\n",
      "\tEpoch 4 complete! \tAverage Loss:  0.013351790211808833\n",
      "\tEpoch 5 complete! \tAverage Loss:  0.013350434403723554\n",
      "\tEpoch 6 complete! \tAverage Loss:  0.01334933557613159\n",
      "\tEpoch 7 complete! \tAverage Loss:  0.013348161112834841\n",
      "\tEpoch 8 complete! \tAverage Loss:  0.013347780301189943\n",
      "\tEpoch 9 complete! \tAverage Loss:  0.013346511683960968\n",
      "\tEpoch 10 complete! \tAverage Loss:  0.013346625014400875\n",
      "\tEpoch 11 complete! \tAverage Loss:  0.013346293730649359\n",
      "\tEpoch 12 complete! \tAverage Loss:  0.013346044350661702\n",
      "\tEpoch 13 complete! \tAverage Loss:  0.01334598576570593\n",
      "\tEpoch 14 complete! \tAverage Loss:  0.013346131669599682\n",
      "\tEpoch 15 complete! \tAverage Loss:  0.01334526686907323\n",
      "\tEpoch 16 complete! \tAverage Loss:  0.01334590484886599\n",
      "\tEpoch 17 complete! \tAverage Loss:  0.013345168951128337\n",
      "\tEpoch 18 complete! \tAverage Loss:  0.013346027288990996\n",
      "\tEpoch 19 complete! \tAverage Loss:  0.013344685299826393\n",
      "\tEpoch 20 complete! \tAverage Loss:  0.01334509044103245\n"
     ]
    },
    {
     "name": "stderr",
     "output_type": "stream",
     "text": [
      " 19%|█▉        | 13/68 [24:22<1:52:59, 123.26s/it]"
     ]
    },
    {
     "name": "stdout",
     "output_type": "stream",
     "text": [
      "MNIST_SMLLAE_0.01_64_20_2.pth\n",
      "\tEpoch 1 complete! \tAverage Loss:  0.014521742497743574\n",
      "\tEpoch 2 complete! \tAverage Loss:  0.013553963543207788\n",
      "\tEpoch 3 complete! \tAverage Loss:  0.013429796106732094\n",
      "\tEpoch 4 complete! \tAverage Loss:  0.013376718257933157\n",
      "\tEpoch 5 complete! \tAverage Loss:  0.01334023198434539\n",
      "\tEpoch 6 complete! \tAverage Loss:  0.013322263793237428\n",
      "\tEpoch 7 complete! \tAverage Loss:  0.013313832766275163\n",
      "\tEpoch 8 complete! \tAverage Loss:  0.013307635209707817\n",
      "\tEpoch 9 complete! \tAverage Loss:  0.013301979553804341\n",
      "\tEpoch 10 complete! \tAverage Loss:  0.013295987678536856\n",
      "\tEpoch 11 complete! \tAverage Loss:  0.013287452873644799\n",
      "\tEpoch 12 complete! \tAverage Loss:  0.013277230792240038\n",
      "\tEpoch 13 complete! \tAverage Loss:  0.013271699511587048\n",
      "\tEpoch 14 complete! \tAverage Loss:  0.013267663130755109\n",
      "\tEpoch 15 complete! \tAverage Loss:  0.01326467340160757\n",
      "\tEpoch 16 complete! \tAverage Loss:  0.013262714680308091\n",
      "\tEpoch 17 complete! \tAverage Loss:  0.013261037379272901\n",
      "\tEpoch 18 complete! \tAverage Loss:  0.013259395928199549\n",
      "\tEpoch 19 complete! \tAverage Loss:  0.013258469204650696\n",
      "\tEpoch 20 complete! \tAverage Loss:  0.013257474127187849\n"
     ]
    },
    {
     "name": "stderr",
     "output_type": "stream",
     "text": [
      " 21%|██        | 14/68 [28:23<2:23:03, 158.95s/it]"
     ]
    },
    {
     "name": "stdout",
     "output_type": "stream",
     "text": [
      "MNIST_SMLLAE_0.001_64_20_2.pth\n",
      "\tEpoch 1 complete! \tAverage Loss:  0.007128109783132765\n",
      "\tEpoch 2 complete! \tAverage Loss:  0.006743482846234526\n",
      "\tEpoch 3 complete! \tAverage Loss:  0.0066839733472796896\n",
      "\tEpoch 4 complete! \tAverage Loss:  0.006668673577045263\n",
      "\tEpoch 5 complete! \tAverage Loss:  0.0066651310731988475\n",
      "\tEpoch 6 complete! \tAverage Loss:  0.006663801486113432\n",
      "\tEpoch 7 complete! \tAverage Loss:  0.006662922117040991\n",
      "\tEpoch 8 complete! \tAverage Loss:  0.006662284672411202\n",
      "\tEpoch 9 complete! \tAverage Loss:  0.00666121681576281\n",
      "\tEpoch 10 complete! \tAverage Loss:  0.0066596827487638\n",
      "\tEpoch 11 complete! \tAverage Loss:  0.00665938122662654\n",
      "\tEpoch 12 complete! \tAverage Loss:  0.006658686064819156\n",
      "\tEpoch 13 complete! \tAverage Loss:  0.0066587284112027455\n",
      "\tEpoch 14 complete! \tAverage Loss:  0.0066583433400974595\n",
      "\tEpoch 15 complete! \tAverage Loss:  0.006658484945808456\n",
      "\tEpoch 16 complete! \tAverage Loss:  0.006658219356042172\n",
      "\tEpoch 17 complete! \tAverage Loss:  0.006657715798464856\n",
      "\tEpoch 18 complete! \tAverage Loss:  0.006657630169410695\n",
      "\tEpoch 19 complete! \tAverage Loss:  0.006657816912494362\n",
      "\tEpoch 20 complete! \tAverage Loss:  0.006657459929998495\n"
     ]
    },
    {
     "name": "stderr",
     "output_type": "stream",
     "text": [
      " 22%|██▏       | 15/68 [30:59<2:19:24, 157.82s/it]"
     ]
    },
    {
     "name": "stdout",
     "output_type": "stream",
     "text": [
      "MNIST_SMLLAE_0.01_128_20_2.pth\n",
      "\tEpoch 1 complete! \tAverage Loss:  0.007528818107204143\n",
      "\tEpoch 2 complete! \tAverage Loss:  0.006906906490339272\n",
      "\tEpoch 3 complete! \tAverage Loss:  0.006798897343657927\n",
      "\tEpoch 4 complete! \tAverage Loss:  0.006770161533557467\n",
      "\tEpoch 5 complete! \tAverage Loss:  0.00673644801280074\n",
      "\tEpoch 6 complete! \tAverage Loss:  0.0067150550139849505\n",
      "\tEpoch 7 complete! \tAverage Loss:  0.006693414285350074\n",
      "\tEpoch 8 complete! \tAverage Loss:  0.006677281029069665\n",
      "\tEpoch 9 complete! \tAverage Loss:  0.006666139078967925\n",
      "\tEpoch 10 complete! \tAverage Loss:  0.006658859145857378\n",
      "\tEpoch 11 complete! \tAverage Loss:  0.0066541385874628765\n",
      "\tEpoch 12 complete! \tAverage Loss:  0.006651105066296706\n",
      "\tEpoch 13 complete! \tAverage Loss:  0.006649100542394147\n",
      "\tEpoch 14 complete! \tAverage Loss:  0.006647030636271053\n",
      "\tEpoch 15 complete! \tAverage Loss:  0.006645378817532108\n",
      "\tEpoch 16 complete! \tAverage Loss:  0.00664373867606907\n",
      "\tEpoch 17 complete! \tAverage Loss:  0.006642258082673366\n",
      "\tEpoch 18 complete! \tAverage Loss:  0.006640390551555703\n",
      "\tEpoch 19 complete! \tAverage Loss:  0.006638058812728823\n",
      "\tEpoch 20 complete! \tAverage Loss:  0.006635222079625516\n"
     ]
    },
    {
     "name": "stderr",
     "output_type": "stream",
     "text": [
      " 24%|██▎       | 16/68 [33:33<2:15:54, 156.82s/it]"
     ]
    },
    {
     "name": "stdout",
     "output_type": "stream",
     "text": [
      "MNIST_SMLLAE_0.001_128_20_2.pth\n",
      "\tEpoch 1 complete! \tAverage Loss:  0.01404481735636494\n",
      "\tEpoch 2 complete! \tAverage Loss:  0.013386585297924814\n",
      "\tEpoch 3 complete! \tAverage Loss:  0.01336554453662559\n",
      "\tEpoch 4 complete! \tAverage Loss:  0.013358125252637274\n",
      "\tEpoch 5 complete! \tAverage Loss:  0.013355930065756033\n"
     ]
    },
    {
     "name": "stderr",
     "output_type": "stream",
     "text": [
      " 25%|██▌       | 17/68 [34:34<1:48:52, 128.08s/it]"
     ]
    },
    {
     "name": "stdout",
     "output_type": "stream",
     "text": [
      "MNIST_SMLLAE_0.01_64_5_3.pth\n",
      "\tEpoch 1 complete! \tAverage Loss:  0.014717728616411624\n",
      "\tEpoch 2 complete! \tAverage Loss:  0.013693687724453936\n",
      "\tEpoch 3 complete! \tAverage Loss:  0.013446104550944653\n",
      "\tEpoch 4 complete! \tAverage Loss:  0.01338917277018621\n",
      "\tEpoch 5 complete! \tAverage Loss:  0.01336253014232304\n"
     ]
    },
    {
     "name": "stderr",
     "output_type": "stream",
     "text": [
      " 26%|██▋       | 18/68 [35:35<1:29:58, 107.97s/it]"
     ]
    },
    {
     "name": "stdout",
     "output_type": "stream",
     "text": [
      "MNIST_SMLLAE_0.001_64_5_3.pth\n",
      "\tEpoch 1 complete! \tAverage Loss:  0.007266542625063454\n",
      "\tEpoch 2 complete! \tAverage Loss:  0.00678092165431107\n",
      "\tEpoch 3 complete! \tAverage Loss:  0.0066915021718803374\n",
      "\tEpoch 4 complete! \tAverage Loss:  0.006670213722463038\n",
      "\tEpoch 5 complete! \tAverage Loss:  0.006663954504993933\n"
     ]
    },
    {
     "name": "stderr",
     "output_type": "stream",
     "text": [
      " 28%|██▊       | 19/68 [36:15<1:11:24, 87.43s/it] "
     ]
    },
    {
     "name": "stdout",
     "output_type": "stream",
     "text": [
      "MNIST_SMLLAE_0.01_128_5_3.pth\n",
      "\tEpoch 1 complete! \tAverage Loss:  0.007526669676091943\n",
      "\tEpoch 2 complete! \tAverage Loss:  0.007129180543958696\n",
      "\tEpoch 3 complete! \tAverage Loss:  0.006862399920916506\n",
      "\tEpoch 4 complete! \tAverage Loss:  0.006765948293774303\n",
      "\tEpoch 5 complete! \tAverage Loss:  0.006721909473668029\n"
     ]
    },
    {
     "name": "stderr",
     "output_type": "stream",
     "text": [
      " 29%|██▉       | 20/68 [36:54<58:22, 72.97s/it]  "
     ]
    },
    {
     "name": "stdout",
     "output_type": "stream",
     "text": [
      "MNIST_SMLLAE_0.001_128_5_3.pth\n",
      "\tEpoch 1 complete! \tAverage Loss:  0.01404481735636494\n",
      "\tEpoch 2 complete! \tAverage Loss:  0.013386585297924814\n",
      "\tEpoch 3 complete! \tAverage Loss:  0.01336554453662559\n",
      "\tEpoch 4 complete! \tAverage Loss:  0.013358125252637274\n",
      "\tEpoch 5 complete! \tAverage Loss:  0.013355930065756033\n",
      "\tEpoch 6 complete! \tAverage Loss:  0.01335246759607816\n",
      "\tEpoch 7 complete! \tAverage Loss:  0.013351549766759183\n",
      "\tEpoch 8 complete! \tAverage Loss:  0.013349086546631002\n",
      "\tEpoch 9 complete! \tAverage Loss:  0.013348809674755532\n",
      "\tEpoch 10 complete! \tAverage Loss:  0.013348076793390996\n",
      "\tEpoch 11 complete! \tAverage Loss:  0.013348405753800483\n",
      "\tEpoch 12 complete! \tAverage Loss:  0.013346798084517405\n",
      "\tEpoch 13 complete! \tAverage Loss:  0.013348165712853485\n",
      "\tEpoch 14 complete! \tAverage Loss:  0.013347077238033894\n",
      "\tEpoch 15 complete! \tAverage Loss:  0.01334680377769826\n",
      "\tEpoch 16 complete! \tAverage Loss:  0.01334695657417337\n",
      "\tEpoch 17 complete! \tAverage Loss:  0.013347325587410853\n",
      "\tEpoch 18 complete! \tAverage Loss:  0.013346698397258197\n",
      "\tEpoch 19 complete! \tAverage Loss:  0.013345961348771224\n",
      "\tEpoch 20 complete! \tAverage Loss:  0.013346699863743743\n"
     ]
    },
    {
     "name": "stderr",
     "output_type": "stream",
     "text": [
      " 31%|███       | 21/68 [40:56<1:36:52, 123.66s/it]"
     ]
    },
    {
     "name": "stdout",
     "output_type": "stream",
     "text": [
      "MNIST_SMLLAE_0.01_64_20_3.pth\n",
      "\tEpoch 1 complete! \tAverage Loss:  0.014717728616411624\n",
      "\tEpoch 2 complete! \tAverage Loss:  0.013693687724453936\n",
      "\tEpoch 3 complete! \tAverage Loss:  0.013446104550944653\n",
      "\tEpoch 4 complete! \tAverage Loss:  0.01338917277018621\n",
      "\tEpoch 5 complete! \tAverage Loss:  0.01336253014232304\n",
      "\tEpoch 6 complete! \tAverage Loss:  0.013338830075792667\n",
      "\tEpoch 7 complete! \tAverage Loss:  0.013317811025826852\n",
      "\tEpoch 8 complete! \tAverage Loss:  0.013303299055202429\n",
      "\tEpoch 9 complete! \tAverage Loss:  0.013295027448225822\n",
      "\tEpoch 10 complete! \tAverage Loss:  0.013289963825544251\n",
      "\tEpoch 11 complete! \tAverage Loss:  0.01328585505374332\n",
      "\tEpoch 12 complete! \tAverage Loss:  0.013283440031047696\n",
      "\tEpoch 13 complete! \tAverage Loss:  0.013280467773630802\n",
      "\tEpoch 14 complete! \tAverage Loss:  0.013278485045456557\n",
      "\tEpoch 15 complete! \tAverage Loss:  0.01327643823573616\n",
      "\tEpoch 16 complete! \tAverage Loss:  0.013274768614637127\n",
      "\tEpoch 17 complete! \tAverage Loss:  0.013273410202224434\n",
      "\tEpoch 18 complete! \tAverage Loss:  0.0132722855924861\n",
      "\tEpoch 19 complete! \tAverage Loss:  0.013271902562744582\n",
      "\tEpoch 20 complete! \tAverage Loss:  0.013270798676422856\n"
     ]
    },
    {
     "name": "stderr",
     "output_type": "stream",
     "text": [
      " 32%|███▏      | 22/68 [44:58<2:01:54, 159.02s/it]"
     ]
    },
    {
     "name": "stdout",
     "output_type": "stream",
     "text": [
      "MNIST_SMLLAE_0.001_64_20_3.pth\n",
      "\tEpoch 1 complete! \tAverage Loss:  0.007266542625063454\n",
      "\tEpoch 2 complete! \tAverage Loss:  0.00678092165431107\n",
      "\tEpoch 3 complete! \tAverage Loss:  0.0066915021718803374\n",
      "\tEpoch 4 complete! \tAverage Loss:  0.006670213722463038\n",
      "\tEpoch 5 complete! \tAverage Loss:  0.006663954504993933\n",
      "\tEpoch 6 complete! \tAverage Loss:  0.0066620229250952\n",
      "\tEpoch 7 complete! \tAverage Loss:  0.006660168655891853\n",
      "\tEpoch 8 complete! \tAverage Loss:  0.006659526169411282\n",
      "\tEpoch 9 complete! \tAverage Loss:  0.006658213584423701\n",
      "\tEpoch 10 complete! \tAverage Loss:  0.006658056228638076\n",
      "\tEpoch 11 complete! \tAverage Loss:  0.006657559313436053\n",
      "\tEpoch 12 complete! \tAverage Loss:  0.006657184879067165\n",
      "\tEpoch 13 complete! \tAverage Loss:  0.006657074604715619\n",
      "\tEpoch 14 complete! \tAverage Loss:  0.006657127360465811\n",
      "\tEpoch 15 complete! \tAverage Loss:  0.006656887963898718\n",
      "\tEpoch 16 complete! \tAverage Loss:  0.006656191014905157\n",
      "\tEpoch 17 complete! \tAverage Loss:  0.006656318711343287\n",
      "\tEpoch 18 complete! \tAverage Loss:  0.006656195100611334\n",
      "\tEpoch 19 complete! \tAverage Loss:  0.006655850640333283\n",
      "\tEpoch 20 complete! \tAverage Loss:  0.006656040184334842\n"
     ]
    },
    {
     "name": "stderr",
     "output_type": "stream",
     "text": [
      " 34%|███▍      | 23/68 [47:32<1:58:17, 157.72s/it]"
     ]
    },
    {
     "name": "stdout",
     "output_type": "stream",
     "text": [
      "MNIST_SMLLAE_0.01_128_20_3.pth\n",
      "\tEpoch 1 complete! \tAverage Loss:  0.007526669676091943\n",
      "\tEpoch 2 complete! \tAverage Loss:  0.007129180543958696\n",
      "\tEpoch 3 complete! \tAverage Loss:  0.006862399920916506\n",
      "\tEpoch 4 complete! \tAverage Loss:  0.006765948293774303\n",
      "\tEpoch 5 complete! \tAverage Loss:  0.006721909473668029\n",
      "\tEpoch 6 complete! \tAverage Loss:  0.006699072000489179\n",
      "\tEpoch 7 complete! \tAverage Loss:  0.006684755486473918\n",
      "\tEpoch 8 complete! \tAverage Loss:  0.006674145271918222\n",
      "\tEpoch 9 complete! \tAverage Loss:  0.006666190188521071\n",
      "\tEpoch 10 complete! \tAverage Loss:  0.006659881065863727\n",
      "\tEpoch 11 complete! \tAverage Loss:  0.006655336162055543\n",
      "\tEpoch 12 complete! \tAverage Loss:  0.006650205354081161\n",
      "\tEpoch 13 complete! \tAverage Loss:  0.006644472882930023\n",
      "\tEpoch 14 complete! \tAverage Loss:  0.0066401227973083825\n",
      "\tEpoch 15 complete! \tAverage Loss:  0.006637251109822091\n",
      "\tEpoch 16 complete! \tAverage Loss:  0.006635074969381094\n",
      "\tEpoch 17 complete! \tAverage Loss:  0.006633695720363337\n",
      "\tEpoch 18 complete! \tAverage Loss:  0.006632505035373384\n",
      "\tEpoch 19 complete! \tAverage Loss:  0.006631365000232577\n",
      "\tEpoch 20 complete! \tAverage Loss:  0.006630595536159872\n"
     ]
    },
    {
     "name": "stderr",
     "output_type": "stream",
     "text": [
      " 35%|███▌      | 24/68 [50:08<1:55:06, 156.97s/it]"
     ]
    },
    {
     "name": "stdout",
     "output_type": "stream",
     "text": [
      "MNIST_SMLLAE_0.001_128_20_3.pth\n",
      "\tEpoch 1 complete! \tAverage Loss:  0.01391412727217049\n",
      "\tEpoch 2 complete! \tAverage Loss:  0.013436063997018566\n",
      "\tEpoch 3 complete! \tAverage Loss:  0.013376562770749969\n",
      "\tEpoch 4 complete! \tAverage Loss:  0.013366346217707785\n",
      "\tEpoch 5 complete! \tAverage Loss:  0.013361999714401548\n"
     ]
    },
    {
     "name": "stderr",
     "output_type": "stream",
     "text": [
      " 37%|███▋      | 25/68 [51:09<1:31:53, 128.21s/it]"
     ]
    },
    {
     "name": "stdout",
     "output_type": "stream",
     "text": [
      "MNIST_SMLLAE_0.01_64_5_4.pth\n",
      "\tEpoch 1 complete! \tAverage Loss:  0.014377051853199504\n",
      "\tEpoch 2 complete! \tAverage Loss:  0.013512781122202938\n",
      "\tEpoch 3 complete! \tAverage Loss:  0.013400144494776087\n",
      "\tEpoch 4 complete! \tAverage Loss:  0.013349439117755654\n",
      "\tEpoch 5 complete! \tAverage Loss:  0.013319728205969402\n"
     ]
    },
    {
     "name": "stderr",
     "output_type": "stream",
     "text": [
      " 38%|███▊      | 26/68 [52:10<1:15:42, 108.16s/it]"
     ]
    },
    {
     "name": "stdout",
     "output_type": "stream",
     "text": [
      "MNIST_SMLLAE_0.001_64_5_4.pth\n",
      "\tEpoch 1 complete! \tAverage Loss:  0.007190725767115222\n",
      "\tEpoch 2 complete! \tAverage Loss:  0.00675023056125876\n",
      "\tEpoch 3 complete! \tAverage Loss:  0.0066801606357764845\n",
      "\tEpoch 4 complete! \tAverage Loss:  0.00666625525500538\n",
      "\tEpoch 5 complete! \tAverage Loss:  0.006662661204738086\n"
     ]
    },
    {
     "name": "stderr",
     "output_type": "stream",
     "text": [
      " 40%|███▉      | 27/68 [52:49<59:45, 87.46s/it]   "
     ]
    },
    {
     "name": "stdout",
     "output_type": "stream",
     "text": [
      "MNIST_SMLLAE_0.01_128_5_4.pth\n",
      "\tEpoch 1 complete! \tAverage Loss:  0.00748489843979319\n",
      "\tEpoch 2 complete! \tAverage Loss:  0.006885871741928653\n",
      "\tEpoch 3 complete! \tAverage Loss:  0.0067617408891540096\n",
      "\tEpoch 4 complete! \tAverage Loss:  0.006719181147306713\n",
      "\tEpoch 5 complete! \tAverage Loss:  0.006695649964905687\n"
     ]
    },
    {
     "name": "stderr",
     "output_type": "stream",
     "text": [
      " 41%|████      | 28/68 [53:28<48:38, 72.97s/it]"
     ]
    },
    {
     "name": "stdout",
     "output_type": "stream",
     "text": [
      "MNIST_SMLLAE_0.001_128_5_4.pth\n",
      "\tEpoch 1 complete! \tAverage Loss:  0.01391412727217049\n",
      "\tEpoch 2 complete! \tAverage Loss:  0.013436063997018566\n",
      "\tEpoch 3 complete! \tAverage Loss:  0.013376562770749969\n",
      "\tEpoch 4 complete! \tAverage Loss:  0.013366346217707785\n",
      "\tEpoch 5 complete! \tAverage Loss:  0.013361999714401548\n",
      "\tEpoch 6 complete! \tAverage Loss:  0.013359892700336128\n",
      "\tEpoch 7 complete! \tAverage Loss:  0.013357244081485437\n",
      "\tEpoch 8 complete! \tAverage Loss:  0.013357081209251812\n",
      "\tEpoch 9 complete! \tAverage Loss:  0.013356173400090002\n",
      "\tEpoch 10 complete! \tAverage Loss:  0.013355251994412908\n",
      "\tEpoch 11 complete! \tAverage Loss:  0.013355406436092182\n",
      "\tEpoch 12 complete! \tAverage Loss:  0.01335399281352695\n",
      "\tEpoch 13 complete! \tAverage Loss:  0.013353991917948097\n",
      "\tEpoch 14 complete! \tAverage Loss:  0.013352991948559531\n",
      "\tEpoch 15 complete! \tAverage Loss:  0.013354125171542358\n",
      "\tEpoch 16 complete! \tAverage Loss:  0.013353716880917105\n",
      "\tEpoch 17 complete! \tAverage Loss:  0.013353280273319753\n",
      "\tEpoch 18 complete! \tAverage Loss:  0.013352879655680485\n",
      "\tEpoch 19 complete! \tAverage Loss:  0.013352661207914035\n",
      "\tEpoch 20 complete! \tAverage Loss:  0.013352749380729854\n"
     ]
    },
    {
     "name": "stderr",
     "output_type": "stream",
     "text": [
      " 43%|████▎     | 29/68 [57:40<1:22:12, 126.46s/it]"
     ]
    },
    {
     "name": "stdout",
     "output_type": "stream",
     "text": [
      "MNIST_SMLLAE_0.01_64_20_4.pth\n",
      "\tEpoch 1 complete! \tAverage Loss:  0.014377051853199504\n",
      "\tEpoch 2 complete! \tAverage Loss:  0.013512781122202938\n",
      "\tEpoch 3 complete! \tAverage Loss:  0.013400144494776087\n",
      "\tEpoch 4 complete! \tAverage Loss:  0.013349439117755654\n",
      "\tEpoch 5 complete! \tAverage Loss:  0.013319728205969402\n",
      "\tEpoch 6 complete! \tAverage Loss:  0.013296603543886435\n",
      "\tEpoch 7 complete! \tAverage Loss:  0.01327786815644645\n",
      "\tEpoch 8 complete! \tAverage Loss:  0.013271228816392007\n",
      "\tEpoch 9 complete! \tAverage Loss:  0.013267569254829623\n",
      "\tEpoch 10 complete! \tAverage Loss:  0.013264783328450692\n",
      "\tEpoch 11 complete! \tAverage Loss:  0.013262489758956152\n",
      "\tEpoch 12 complete! \tAverage Loss:  0.013260561130893255\n",
      "\tEpoch 13 complete! \tAverage Loss:  0.013259280635826369\n",
      "\tEpoch 14 complete! \tAverage Loss:  0.013258199093303382\n",
      "\tEpoch 15 complete! \tAverage Loss:  0.013257411103060187\n",
      "\tEpoch 16 complete! \tAverage Loss:  0.013256430862221256\n",
      "\tEpoch 17 complete! \tAverage Loss:  0.013255760821301355\n",
      "\tEpoch 18 complete! \tAverage Loss:  0.013255234963612071\n",
      "\tEpoch 19 complete! \tAverage Loss:  0.013254468749239565\n",
      "\tEpoch 20 complete! \tAverage Loss:  0.013254054552956876\n"
     ]
    },
    {
     "name": "stderr",
     "output_type": "stream",
     "text": [
      " 44%|████▍     | 30/68 [1:01:47<1:43:00, 162.66s/it]"
     ]
    },
    {
     "name": "stdout",
     "output_type": "stream",
     "text": [
      "MNIST_SMLLAE_0.001_64_20_4.pth\n",
      "\tEpoch 1 complete! \tAverage Loss:  0.007190725767115222\n",
      "\tEpoch 2 complete! \tAverage Loss:  0.00675023056125876\n",
      "\tEpoch 3 complete! \tAverage Loss:  0.0066801606357764845\n",
      "\tEpoch 4 complete! \tAverage Loss:  0.00666625525500538\n",
      "\tEpoch 5 complete! \tAverage Loss:  0.006662661204738086\n",
      "\tEpoch 6 complete! \tAverage Loss:  0.006661542431155501\n",
      "\tEpoch 7 complete! \tAverage Loss:  0.006660503873438723\n",
      "\tEpoch 8 complete! \tAverage Loss:  0.006660562769166315\n",
      "\tEpoch 9 complete! \tAverage Loss:  0.006659372222186851\n",
      "\tEpoch 10 complete! \tAverage Loss:  0.006659471866752166\n",
      "\tEpoch 11 complete! \tAverage Loss:  0.006659363882977571\n",
      "\tEpoch 12 complete! \tAverage Loss:  0.0066592071973867635\n",
      "\tEpoch 13 complete! \tAverage Loss:  0.006658721755919998\n",
      "\tEpoch 14 complete! \tAverage Loss:  0.00665832741626862\n",
      "\tEpoch 15 complete! \tAverage Loss:  0.0066580660601478145\n",
      "\tEpoch 16 complete! \tAverage Loss:  0.006657962593982723\n",
      "\tEpoch 17 complete! \tAverage Loss:  0.0066575314303530435\n",
      "\tEpoch 18 complete! \tAverage Loss:  0.006657498168832521\n",
      "\tEpoch 19 complete! \tAverage Loss:  0.006657537798693122\n",
      "\tEpoch 20 complete! \tAverage Loss:  0.006657189377811926\n"
     ]
    },
    {
     "name": "stderr",
     "output_type": "stream",
     "text": [
      " 46%|████▌     | 31/68 [1:04:28<1:40:04, 162.28s/it]"
     ]
    },
    {
     "name": "stdout",
     "output_type": "stream",
     "text": [
      "MNIST_SMLLAE_0.01_128_20_4.pth\n",
      "\tEpoch 1 complete! \tAverage Loss:  0.00748489843979319\n",
      "\tEpoch 2 complete! \tAverage Loss:  0.006885871741928653\n",
      "\tEpoch 3 complete! \tAverage Loss:  0.0067617408891540096\n",
      "\tEpoch 4 complete! \tAverage Loss:  0.006719181147306713\n",
      "\tEpoch 5 complete! \tAverage Loss:  0.006695649964905687\n",
      "\tEpoch 6 complete! \tAverage Loss:  0.006681848885312772\n",
      "\tEpoch 7 complete! \tAverage Loss:  0.006672086936832745\n",
      "\tEpoch 8 complete! \tAverage Loss:  0.006663112913065755\n",
      "\tEpoch 9 complete! \tAverage Loss:  0.006654698399703767\n",
      "\tEpoch 10 complete! \tAverage Loss:  0.006649073192488347\n",
      "\tEpoch 11 complete! \tAverage Loss:  0.006642439933831313\n",
      "\tEpoch 12 complete! \tAverage Loss:  0.006637844355351953\n",
      "\tEpoch 13 complete! \tAverage Loss:  0.006634996804807868\n",
      "\tEpoch 14 complete! \tAverage Loss:  0.0066331971142846126\n",
      "\tEpoch 15 complete! \tAverage Loss:  0.0066315725173697925\n",
      "\tEpoch 16 complete! \tAverage Loss:  0.006630342306771766\n",
      "\tEpoch 17 complete! \tAverage Loss:  0.006629671446724868\n",
      "\tEpoch 18 complete! \tAverage Loss:  0.00662895518619178\n",
      "\tEpoch 19 complete! \tAverage Loss:  0.006628132347803888\n",
      "\tEpoch 20 complete! \tAverage Loss:  0.006627654186142152\n"
     ]
    },
    {
     "name": "stderr",
     "output_type": "stream",
     "text": [
      " 47%|████▋     | 32/68 [1:07:08<1:36:57, 161.60s/it]"
     ]
    },
    {
     "name": "stdout",
     "output_type": "stream",
     "text": [
      "MNIST_SMLLAE_0.001_128_20_4.pth\n",
      "\tEpoch 1 complete! \tAverage Loss:  0.027454067893822987\n"
     ]
    },
    {
     "name": "stderr",
     "output_type": "stream",
     "text": [
      " 49%|████▊     | 33/68 [1:07:30<1:09:43, 119.54s/it]"
     ]
    },
    {
     "name": "stdout",
     "output_type": "stream",
     "text": [
      "MNIST_SMLLAE_0.01_32_1_3.pth\n",
      "\tEpoch 1 complete! \tAverage Loss:  0.028649589363733928\n"
     ]
    },
    {
     "name": "stderr",
     "output_type": "stream",
     "text": [
      " 50%|█████     | 34/68 [1:07:52<51:10, 90.30s/it]   "
     ]
    },
    {
     "name": "stdout",
     "output_type": "stream",
     "text": [
      "MNIST_SMLLAE_0.001_32_1_3.pth\n",
      "\tEpoch 1 complete! \tAverage Loss:  0.03173647263844808\n"
     ]
    },
    {
     "name": "stderr",
     "output_type": "stream",
     "text": [
      " 51%|█████▏    | 35/68 [1:08:13<38:19, 69.69s/it]"
     ]
    },
    {
     "name": "stdout",
     "output_type": "stream",
     "text": [
      "MNIST_SMLLAE_0.0001_32_1_3.pth\n",
      "\tEpoch 1 complete! \tAverage Loss:  0.01404481735636494\n"
     ]
    },
    {
     "name": "stderr",
     "output_type": "stream",
     "text": [
      " 53%|█████▎    | 36/68 [1:08:27<28:09, 52.79s/it]"
     ]
    },
    {
     "name": "stdout",
     "output_type": "stream",
     "text": [
      "MNIST_SMLLAE_0.01_64_1_3.pth\n",
      "\tEpoch 1 complete! \tAverage Loss:  0.014717728616411624\n"
     ]
    },
    {
     "name": "stderr",
     "output_type": "stream",
     "text": [
      " 54%|█████▍    | 37/68 [1:08:39<21:04, 40.79s/it]"
     ]
    },
    {
     "name": "stdout",
     "output_type": "stream",
     "text": [
      "MNIST_SMLLAE_0.001_64_1_3.pth\n",
      "\tEpoch 1 complete! \tAverage Loss:  0.01703710093605779\n"
     ]
    },
    {
     "name": "stderr",
     "output_type": "stream",
     "text": [
      " 56%|█████▌    | 38/68 [1:08:52<16:11, 32.39s/it]"
     ]
    },
    {
     "name": "stdout",
     "output_type": "stream",
     "text": [
      "MNIST_SMLLAE_0.0001_64_1_3.pth\n",
      "\tEpoch 1 complete! \tAverage Loss:  0.007266542625063454\n"
     ]
    },
    {
     "name": "stderr",
     "output_type": "stream",
     "text": [
      " 57%|█████▋    | 39/68 [1:09:01<12:12, 25.25s/it]"
     ]
    },
    {
     "name": "stdout",
     "output_type": "stream",
     "text": [
      "MNIST_SMLLAE_0.01_128_1_3.pth\n",
      "\tEpoch 1 complete! \tAverage Loss:  0.007526669676091943\n"
     ]
    },
    {
     "name": "stderr",
     "output_type": "stream",
     "text": [
      " 59%|█████▉    | 40/68 [1:09:09<09:25, 20.21s/it]"
     ]
    },
    {
     "name": "stdout",
     "output_type": "stream",
     "text": [
      "MNIST_SMLLAE_0.001_128_1_3.pth\n",
      "\tEpoch 1 complete! \tAverage Loss:  0.00950174984126997\n"
     ]
    },
    {
     "name": "stderr",
     "output_type": "stream",
     "text": [
      " 60%|██████    | 41/68 [1:09:18<07:30, 16.68s/it]"
     ]
    },
    {
     "name": "stdout",
     "output_type": "stream",
     "text": [
      "MNIST_SMLLAE_0.0001_128_1_3.pth\n",
      "\tEpoch 1 complete! \tAverage Loss:  0.027454067893822987\n",
      "\tEpoch 2 complete! \tAverage Loss:  0.026831529101729392\n",
      "\tEpoch 3 complete! \tAverage Loss:  0.026811624216039977\n",
      "\tEpoch 4 complete! \tAverage Loss:  0.026806506638725597\n",
      "\tEpoch 5 complete! \tAverage Loss:  0.026803672764698663\n",
      "\tEpoch 6 complete! \tAverage Loss:  0.026803912051518757\n",
      "\tEpoch 7 complete! \tAverage Loss:  0.026797309777140618\n",
      "\tEpoch 8 complete! \tAverage Loss:  0.026796994694073994\n",
      "\tEpoch 9 complete! \tAverage Loss:  0.026795483962694804\n",
      "\tEpoch 10 complete! \tAverage Loss:  0.026794185261925063\n"
     ]
    },
    {
     "name": "stderr",
     "output_type": "stream",
     "text": [
      " 62%|██████▏   | 42/68 [1:12:40<31:18, 72.27s/it]"
     ]
    },
    {
     "name": "stdout",
     "output_type": "stream",
     "text": [
      "MNIST_SMLLAE_0.01_32_10_3.pth\n",
      "\tEpoch 1 complete! \tAverage Loss:  0.028649589363733928\n",
      "\tEpoch 2 complete! \tAverage Loss:  0.026906486244996388\n",
      "\tEpoch 3 complete! \tAverage Loss:  0.026753301899631817\n",
      "\tEpoch 4 complete! \tAverage Loss:  0.026641209758321443\n",
      "\tEpoch 5 complete! \tAverage Loss:  0.026585692855715753\n",
      "\tEpoch 6 complete! \tAverage Loss:  0.026567875307798385\n",
      "\tEpoch 7 complete! \tAverage Loss:  0.026551405408978462\n",
      "\tEpoch 8 complete! \tAverage Loss:  0.02654039367934068\n",
      "\tEpoch 9 complete! \tAverage Loss:  0.02653295478026072\n",
      "\tEpoch 10 complete! \tAverage Loss:  0.026528906763593357\n"
     ]
    },
    {
     "name": "stderr",
     "output_type": "stream",
     "text": [
      " 63%|██████▎   | 43/68 [1:15:59<45:59, 110.40s/it]"
     ]
    },
    {
     "name": "stdout",
     "output_type": "stream",
     "text": [
      "MNIST_SMLLAE_0.001_32_10_3.pth\n",
      "\tEpoch 1 complete! \tAverage Loss:  0.03173647263844808\n",
      "\tEpoch 2 complete! \tAverage Loss:  0.02886401378015677\n",
      "\tEpoch 3 complete! \tAverage Loss:  0.028587549089392025\n",
      "\tEpoch 4 complete! \tAverage Loss:  0.027565429803729058\n",
      "\tEpoch 5 complete! \tAverage Loss:  0.027165669505794843\n",
      "\tEpoch 6 complete! \tAverage Loss:  0.02697430467903614\n",
      "\tEpoch 7 complete! \tAverage Loss:  0.026871254283189774\n",
      "\tEpoch 8 complete! \tAverage Loss:  0.026795387203494708\n",
      "\tEpoch 9 complete! \tAverage Loss:  0.026741917686661086\n",
      "\tEpoch 10 complete! \tAverage Loss:  0.026709992335240046\n"
     ]
    },
    {
     "name": "stderr",
     "output_type": "stream",
     "text": [
      " 65%|██████▍   | 44/68 [1:19:15<54:24, 136.01s/it]"
     ]
    },
    {
     "name": "stdout",
     "output_type": "stream",
     "text": [
      "MNIST_SMLLAE_0.0001_32_10_3.pth\n",
      "\tEpoch 1 complete! \tAverage Loss:  0.01404481735636494\n",
      "\tEpoch 2 complete! \tAverage Loss:  0.013386585297924814\n",
      "\tEpoch 3 complete! \tAverage Loss:  0.01336554453662559\n",
      "\tEpoch 4 complete! \tAverage Loss:  0.013358125252637274\n",
      "\tEpoch 5 complete! \tAverage Loss:  0.013355930065756033\n",
      "\tEpoch 6 complete! \tAverage Loss:  0.01335246759607816\n",
      "\tEpoch 7 complete! \tAverage Loss:  0.013351549766759183\n",
      "\tEpoch 8 complete! \tAverage Loss:  0.013349086546631002\n",
      "\tEpoch 9 complete! \tAverage Loss:  0.013348809674755532\n",
      "\tEpoch 10 complete! \tAverage Loss:  0.013348076793390996\n"
     ]
    },
    {
     "name": "stderr",
     "output_type": "stream",
     "text": [
      " 66%|██████▌   | 45/68 [1:21:17<50:34, 131.91s/it]"
     ]
    },
    {
     "name": "stdout",
     "output_type": "stream",
     "text": [
      "MNIST_SMLLAE_0.01_64_10_3.pth\n",
      "\tEpoch 1 complete! \tAverage Loss:  0.014717728616411624\n",
      "\tEpoch 2 complete! \tAverage Loss:  0.013693687724453936\n",
      "\tEpoch 3 complete! \tAverage Loss:  0.013446104550944653\n",
      "\tEpoch 4 complete! \tAverage Loss:  0.01338917277018621\n",
      "\tEpoch 5 complete! \tAverage Loss:  0.01336253014232304\n",
      "\tEpoch 6 complete! \tAverage Loss:  0.013338830075792667\n",
      "\tEpoch 7 complete! \tAverage Loss:  0.013317811025826852\n",
      "\tEpoch 8 complete! \tAverage Loss:  0.013303299055202429\n",
      "\tEpoch 9 complete! \tAverage Loss:  0.013295027448225822\n",
      "\tEpoch 10 complete! \tAverage Loss:  0.013289963825544251\n"
     ]
    },
    {
     "name": "stderr",
     "output_type": "stream",
     "text": [
      " 68%|██████▊   | 46/68 [1:23:19<47:18, 129.01s/it]"
     ]
    },
    {
     "name": "stdout",
     "output_type": "stream",
     "text": [
      "MNIST_SMLLAE_0.001_64_10_3.pth\n",
      "\tEpoch 1 complete! \tAverage Loss:  0.01703710093605779\n",
      "\tEpoch 2 complete! \tAverage Loss:  0.01449135983529598\n",
      "\tEpoch 3 complete! \tAverage Loss:  0.014445639359377531\n",
      "\tEpoch 4 complete! \tAverage Loss:  0.014414341943556947\n",
      "\tEpoch 5 complete! \tAverage Loss:  0.014290309015677365\n",
      "\tEpoch 6 complete! \tAverage Loss:  0.01393809658326288\n",
      "\tEpoch 7 complete! \tAverage Loss:  0.01374096487031213\n",
      "\tEpoch 8 complete! \tAverage Loss:  0.013627873918315622\n",
      "\tEpoch 9 complete! \tAverage Loss:  0.013548263607781007\n",
      "\tEpoch 10 complete! \tAverage Loss:  0.01349251566113217\n"
     ]
    },
    {
     "name": "stderr",
     "output_type": "stream",
     "text": [
      " 69%|██████▉   | 47/68 [1:25:24<44:42, 127.76s/it]"
     ]
    },
    {
     "name": "stdout",
     "output_type": "stream",
     "text": [
      "MNIST_SMLLAE_0.0001_64_10_3.pth\n",
      "\tEpoch 1 complete! \tAverage Loss:  0.007266542625063454\n",
      "\tEpoch 2 complete! \tAverage Loss:  0.00678092165431107\n",
      "\tEpoch 3 complete! \tAverage Loss:  0.0066915021718803374\n",
      "\tEpoch 4 complete! \tAverage Loss:  0.006670213722463038\n",
      "\tEpoch 5 complete! \tAverage Loss:  0.006663954504993933\n",
      "\tEpoch 6 complete! \tAverage Loss:  0.0066620229250952\n",
      "\tEpoch 7 complete! \tAverage Loss:  0.006660168655891853\n",
      "\tEpoch 8 complete! \tAverage Loss:  0.006659526169411282\n",
      "\tEpoch 9 complete! \tAverage Loss:  0.006658213584423701\n",
      "\tEpoch 10 complete! \tAverage Loss:  0.006658056228638076\n"
     ]
    },
    {
     "name": "stderr",
     "output_type": "stream",
     "text": [
      " 71%|███████   | 48/68 [1:26:44<37:50, 113.50s/it]"
     ]
    },
    {
     "name": "stdout",
     "output_type": "stream",
     "text": [
      "MNIST_SMLLAE_0.01_128_10_3.pth\n",
      "\tEpoch 1 complete! \tAverage Loss:  0.007526669676091943\n",
      "\tEpoch 2 complete! \tAverage Loss:  0.007129180543958696\n",
      "\tEpoch 3 complete! \tAverage Loss:  0.006862399920916506\n",
      "\tEpoch 4 complete! \tAverage Loss:  0.006765948293774303\n",
      "\tEpoch 5 complete! \tAverage Loss:  0.006721909473668029\n",
      "\tEpoch 6 complete! \tAverage Loss:  0.006699072000489179\n",
      "\tEpoch 7 complete! \tAverage Loss:  0.006684755486473918\n",
      "\tEpoch 8 complete! \tAverage Loss:  0.006674145271918222\n",
      "\tEpoch 9 complete! \tAverage Loss:  0.006666190188521071\n",
      "\tEpoch 10 complete! \tAverage Loss:  0.006659881065863727\n"
     ]
    },
    {
     "name": "stderr",
     "output_type": "stream",
     "text": [
      " 72%|███████▏  | 49/68 [1:28:05<32:49, 103.64s/it]"
     ]
    },
    {
     "name": "stdout",
     "output_type": "stream",
     "text": [
      "MNIST_SMLLAE_0.001_128_10_3.pth\n",
      "\tEpoch 1 complete! \tAverage Loss:  0.00950174984126997\n",
      "\tEpoch 2 complete! \tAverage Loss:  0.007386878294659767\n",
      "\tEpoch 3 complete! \tAverage Loss:  0.007251438246900911\n",
      "\tEpoch 4 complete! \tAverage Loss:  0.00723170671564366\n",
      "\tEpoch 5 complete! \tAverage Loss:  0.007222511460071307\n",
      "\tEpoch 6 complete! \tAverage Loss:  0.007213867470018391\n",
      "\tEpoch 7 complete! \tAverage Loss:  0.007201985078754583\n",
      "\tEpoch 8 complete! \tAverage Loss:  0.0071807878910065456\n",
      "\tEpoch 9 complete! \tAverage Loss:  0.0071292876669052825\n",
      "\tEpoch 10 complete! \tAverage Loss:  0.007031703357900511\n"
     ]
    },
    {
     "name": "stderr",
     "output_type": "stream",
     "text": [
      " 74%|███████▎  | 50/68 [1:29:27<29:05, 96.98s/it] "
     ]
    },
    {
     "name": "stdout",
     "output_type": "stream",
     "text": [
      "MNIST_SMLLAE_0.0001_128_10_3.pth\n",
      "\tEpoch 1 complete! \tAverage Loss:  0.027467248126864432\n"
     ]
    },
    {
     "name": "stderr",
     "output_type": "stream",
     "text": [
      " 75%|███████▌  | 51/68 [1:29:50<21:13, 74.92s/it]"
     ]
    },
    {
     "name": "stdout",
     "output_type": "stream",
     "text": [
      "MNIST_SMLLAE_0.01_32_1_4.pth\n",
      "\tEpoch 1 complete! \tAverage Loss:  0.027989606668551763\n"
     ]
    },
    {
     "name": "stderr",
     "output_type": "stream",
     "text": [
      " 76%|███████▋  | 52/68 [1:30:12<15:43, 58.99s/it]"
     ]
    },
    {
     "name": "stdout",
     "output_type": "stream",
     "text": [
      "MNIST_SMLLAE_0.001_32_1_4.pth\n",
      "\tEpoch 1 complete! \tAverage Loss:  0.03149251182675362\n"
     ]
    },
    {
     "name": "stderr",
     "output_type": "stream",
     "text": [
      " 78%|███████▊  | 53/68 [1:30:33<11:55, 47.69s/it]"
     ]
    },
    {
     "name": "stdout",
     "output_type": "stream",
     "text": [
      "MNIST_SMLLAE_0.0001_32_1_4.pth\n",
      "\tEpoch 1 complete! \tAverage Loss:  0.01391412727217049\n"
     ]
    },
    {
     "name": "stderr",
     "output_type": "stream",
     "text": [
      " 79%|███████▉  | 54/68 [1:30:46<08:41, 37.22s/it]"
     ]
    },
    {
     "name": "stdout",
     "output_type": "stream",
     "text": [
      "MNIST_SMLLAE_0.01_64_1_4.pth\n",
      "\tEpoch 1 complete! \tAverage Loss:  0.014377051853199504\n"
     ]
    },
    {
     "name": "stderr",
     "output_type": "stream",
     "text": [
      " 81%|████████  | 55/68 [1:30:59<06:28, 29.88s/it]"
     ]
    },
    {
     "name": "stdout",
     "output_type": "stream",
     "text": [
      "MNIST_SMLLAE_0.001_64_1_4.pth\n",
      "\tEpoch 1 complete! \tAverage Loss:  0.01683956883482333\n"
     ]
    },
    {
     "name": "stderr",
     "output_type": "stream",
     "text": [
      " 82%|████████▏ | 56/68 [1:31:11<04:56, 24.73s/it]"
     ]
    },
    {
     "name": "stdout",
     "output_type": "stream",
     "text": [
      "MNIST_SMLLAE_0.0001_64_1_4.pth\n",
      "\tEpoch 1 complete! \tAverage Loss:  0.007190725767115222\n"
     ]
    },
    {
     "name": "stderr",
     "output_type": "stream",
     "text": [
      " 84%|████████▍ | 57/68 [1:31:20<03:38, 19.89s/it]"
     ]
    },
    {
     "name": "stdout",
     "output_type": "stream",
     "text": [
      "MNIST_SMLLAE_0.01_128_1_4.pth\n",
      "\tEpoch 1 complete! \tAverage Loss:  0.00748489843979319\n"
     ]
    },
    {
     "name": "stderr",
     "output_type": "stream",
     "text": [
      " 85%|████████▌ | 58/68 [1:31:29<02:45, 16.53s/it]"
     ]
    },
    {
     "name": "stdout",
     "output_type": "stream",
     "text": [
      "MNIST_SMLLAE_0.001_128_1_4.pth\n",
      "\tEpoch 1 complete! \tAverage Loss:  0.009374442009894705\n"
     ]
    },
    {
     "name": "stderr",
     "output_type": "stream",
     "text": [
      " 87%|████████▋ | 59/68 [1:31:37<02:07, 14.21s/it]"
     ]
    },
    {
     "name": "stdout",
     "output_type": "stream",
     "text": [
      "MNIST_SMLLAE_0.0001_128_1_4.pth\n",
      "\tEpoch 1 complete! \tAverage Loss:  0.027467248126864432\n",
      "\tEpoch 2 complete! \tAverage Loss:  0.02684157291750113\n",
      "\tEpoch 3 complete! \tAverage Loss:  0.026813610881567\n",
      "\tEpoch 4 complete! \tAverage Loss:  0.026807075793544452\n",
      "\tEpoch 5 complete! \tAverage Loss:  0.026806024954716366\n",
      "\tEpoch 6 complete! \tAverage Loss:  0.02680357968211174\n",
      "\tEpoch 7 complete! \tAverage Loss:  0.02680332838992278\n",
      "\tEpoch 8 complete! \tAverage Loss:  0.02680427881081899\n",
      "\tEpoch 9 complete! \tAverage Loss:  0.026805119377374648\n",
      "\tEpoch 10 complete! \tAverage Loss:  0.02680271965165933\n"
     ]
    },
    {
     "name": "stderr",
     "output_type": "stream",
     "text": [
      " 88%|████████▊ | 60/68 [1:35:06<09:40, 72.61s/it]"
     ]
    },
    {
     "name": "stdout",
     "output_type": "stream",
     "text": [
      "MNIST_SMLLAE_0.01_32_10_4.pth\n",
      "\tEpoch 1 complete! \tAverage Loss:  0.027989606668551763\n",
      "\tEpoch 2 complete! \tAverage Loss:  0.026807100077470145\n",
      "\tEpoch 3 complete! \tAverage Loss:  0.026670848566293717\n",
      "\tEpoch 4 complete! \tAverage Loss:  0.026590073439478876\n",
      "\tEpoch 5 complete! \tAverage Loss:  0.026566647137204805\n",
      "\tEpoch 6 complete! \tAverage Loss:  0.026555790369709332\n",
      "\tEpoch 7 complete! \tAverage Loss:  0.02654871385594209\n",
      "\tEpoch 8 complete! \tAverage Loss:  0.026543216965595882\n",
      "\tEpoch 9 complete! \tAverage Loss:  0.02653994532128175\n",
      "\tEpoch 10 complete! \tAverage Loss:  0.026537012592951457\n"
     ]
    },
    {
     "name": "stderr",
     "output_type": "stream",
     "text": [
      " 90%|████████▉ | 61/68 [1:38:35<13:14, 113.52s/it]"
     ]
    },
    {
     "name": "stdout",
     "output_type": "stream",
     "text": [
      "MNIST_SMLLAE_0.001_32_10_4.pth\n",
      "\tEpoch 1 complete! \tAverage Loss:  0.03149251182675362\n",
      "\tEpoch 2 complete! \tAverage Loss:  0.0282554923504591\n",
      "\tEpoch 3 complete! \tAverage Loss:  0.02745947249432405\n",
      "\tEpoch 4 complete! \tAverage Loss:  0.027162082609534264\n",
      "\tEpoch 5 complete! \tAverage Loss:  0.027011254115899403\n",
      "\tEpoch 6 complete! \tAverage Loss:  0.02691289305090904\n",
      "\tEpoch 7 complete! \tAverage Loss:  0.026840431077281634\n",
      "\tEpoch 8 complete! \tAverage Loss:  0.026787269205848376\n",
      "\tEpoch 9 complete! \tAverage Loss:  0.026747838108738264\n",
      "\tEpoch 10 complete! \tAverage Loss:  0.02671565698583921\n"
     ]
    },
    {
     "name": "stderr",
     "output_type": "stream",
     "text": [
      " 91%|█████████ | 62/68 [1:41:56<13:58, 139.81s/it]"
     ]
    },
    {
     "name": "stdout",
     "output_type": "stream",
     "text": [
      "MNIST_SMLLAE_0.0001_32_10_4.pth\n",
      "\tEpoch 1 complete! \tAverage Loss:  0.01391412727217049\n",
      "\tEpoch 2 complete! \tAverage Loss:  0.013436063997018566\n",
      "\tEpoch 3 complete! \tAverage Loss:  0.013376562770749969\n",
      "\tEpoch 4 complete! \tAverage Loss:  0.013366346217707785\n",
      "\tEpoch 5 complete! \tAverage Loss:  0.013361999714401548\n",
      "\tEpoch 6 complete! \tAverage Loss:  0.013359892700336128\n",
      "\tEpoch 7 complete! \tAverage Loss:  0.013357244081485437\n",
      "\tEpoch 8 complete! \tAverage Loss:  0.013357081209251812\n",
      "\tEpoch 9 complete! \tAverage Loss:  0.013356173400090002\n",
      "\tEpoch 10 complete! \tAverage Loss:  0.013355251994412908\n"
     ]
    },
    {
     "name": "stderr",
     "output_type": "stream",
     "text": [
      " 93%|█████████▎| 63/68 [1:43:56<11:08, 133.75s/it]"
     ]
    },
    {
     "name": "stdout",
     "output_type": "stream",
     "text": [
      "MNIST_SMLLAE_0.01_64_10_4.pth\n",
      "\tEpoch 1 complete! \tAverage Loss:  0.014377051853199504\n",
      "\tEpoch 2 complete! \tAverage Loss:  0.013512781122202938\n",
      "\tEpoch 3 complete! \tAverage Loss:  0.013400144494776087\n",
      "\tEpoch 4 complete! \tAverage Loss:  0.013349439117755654\n",
      "\tEpoch 5 complete! \tAverage Loss:  0.013319728205969402\n",
      "\tEpoch 6 complete! \tAverage Loss:  0.013296603543886435\n",
      "\tEpoch 7 complete! \tAverage Loss:  0.01327786815644645\n",
      "\tEpoch 8 complete! \tAverage Loss:  0.013271228816392007\n",
      "\tEpoch 9 complete! \tAverage Loss:  0.013267569254829623\n",
      "\tEpoch 10 complete! \tAverage Loss:  0.013264783328450692\n"
     ]
    },
    {
     "name": "stderr",
     "output_type": "stream",
     "text": [
      " 94%|█████████▍| 64/68 [1:45:58<08:41, 130.29s/it]"
     ]
    },
    {
     "name": "stdout",
     "output_type": "stream",
     "text": [
      "MNIST_SMLLAE_0.001_64_10_4.pth\n",
      "\tEpoch 1 complete! \tAverage Loss:  0.01683956883482333\n",
      "\tEpoch 2 complete! \tAverage Loss:  0.014429507977656846\n",
      "\tEpoch 3 complete! \tAverage Loss:  0.01421829554707066\n",
      "\tEpoch 4 complete! \tAverage Loss:  0.013919128451559907\n",
      "\tEpoch 5 complete! \tAverage Loss:  0.013722611110665396\n",
      "\tEpoch 6 complete! \tAverage Loss:  0.013619092191809784\n",
      "\tEpoch 7 complete! \tAverage Loss:  0.013552690168092055\n",
      "\tEpoch 8 complete! \tAverage Loss:  0.013505488462341049\n",
      "\tEpoch 9 complete! \tAverage Loss:  0.013471202542588337\n",
      "\tEpoch 10 complete! \tAverage Loss:  0.013444786058313875\n"
     ]
    },
    {
     "name": "stderr",
     "output_type": "stream",
     "text": [
      " 96%|█████████▌| 65/68 [1:48:01<06:23, 127.88s/it]"
     ]
    },
    {
     "name": "stdout",
     "output_type": "stream",
     "text": [
      "MNIST_SMLLAE_0.0001_64_10_4.pth\n",
      "\tEpoch 1 complete! \tAverage Loss:  0.007190725767115222\n",
      "\tEpoch 2 complete! \tAverage Loss:  0.00675023056125876\n",
      "\tEpoch 3 complete! \tAverage Loss:  0.0066801606357764845\n",
      "\tEpoch 4 complete! \tAverage Loss:  0.00666625525500538\n",
      "\tEpoch 5 complete! \tAverage Loss:  0.006662661204738086\n",
      "\tEpoch 6 complete! \tAverage Loss:  0.006661542431155501\n",
      "\tEpoch 7 complete! \tAverage Loss:  0.006660503873438723\n",
      "\tEpoch 8 complete! \tAverage Loss:  0.006660562769166315\n",
      "\tEpoch 9 complete! \tAverage Loss:  0.006659372222186851\n",
      "\tEpoch 10 complete! \tAverage Loss:  0.006659471866752166\n"
     ]
    },
    {
     "name": "stderr",
     "output_type": "stream",
     "text": [
      " 97%|█████████▋| 66/68 [1:49:18<03:45, 112.90s/it]"
     ]
    },
    {
     "name": "stdout",
     "output_type": "stream",
     "text": [
      "MNIST_SMLLAE_0.01_128_10_4.pth\n",
      "\tEpoch 1 complete! \tAverage Loss:  0.00748489843979319\n",
      "\tEpoch 2 complete! \tAverage Loss:  0.006885871741928653\n",
      "\tEpoch 3 complete! \tAverage Loss:  0.0067617408891540096\n",
      "\tEpoch 4 complete! \tAverage Loss:  0.006719181147306713\n",
      "\tEpoch 5 complete! \tAverage Loss:  0.006695649964905687\n",
      "\tEpoch 6 complete! \tAverage Loss:  0.006681848885312772\n",
      "\tEpoch 7 complete! \tAverage Loss:  0.006672086936832745\n",
      "\tEpoch 8 complete! \tAverage Loss:  0.006663112913065755\n",
      "\tEpoch 9 complete! \tAverage Loss:  0.006654698399703767\n",
      "\tEpoch 10 complete! \tAverage Loss:  0.006649073192488347\n"
     ]
    },
    {
     "name": "stderr",
     "output_type": "stream",
     "text": [
      " 99%|█████████▊| 67/68 [1:50:39<01:43, 103.11s/it]"
     ]
    },
    {
     "name": "stdout",
     "output_type": "stream",
     "text": [
      "MNIST_SMLLAE_0.001_128_10_4.pth\n",
      "\tEpoch 1 complete! \tAverage Loss:  0.009374442009894705\n",
      "\tEpoch 2 complete! \tAverage Loss:  0.007340980528879649\n",
      "\tEpoch 3 complete! \tAverage Loss:  0.0072259333586371915\n",
      "\tEpoch 4 complete! \tAverage Loss:  0.007187414782316382\n",
      "\tEpoch 5 complete! \tAverage Loss:  0.007134252504856665\n",
      "\tEpoch 6 complete! \tAverage Loss:  0.0070492568751499216\n",
      "\tEpoch 7 complete! \tAverage Loss:  0.006963831557234975\n",
      "\tEpoch 8 complete! \tAverage Loss:  0.00689666945117909\n",
      "\tEpoch 9 complete! \tAverage Loss:  0.006850970373836471\n",
      "\tEpoch 10 complete! \tAverage Loss:  0.006820131329569354\n"
     ]
    },
    {
     "name": "stderr",
     "output_type": "stream",
     "text": [
      "100%|██████████| 68/68 [1:52:00<00:00, 98.83s/it] "
     ]
    },
    {
     "name": "stdout",
     "output_type": "stream",
     "text": [
      "MNIST_SMLLAE_0.0001_128_10_4.pth\n"
     ]
    },
    {
     "name": "stderr",
     "output_type": "stream",
     "text": [
      "\n"
     ]
    }
   ],
   "source": [
    "import os\n",
    "import torch\n",
    "import torchvision.transforms as transforms\n",
    "from torch.optim import Adam\n",
    "from torch.optim.lr_scheduler import ReduceLROnPlateau\n",
    "from utils.dataloaders.dataloader_mnist_single import DataLoaderMNIST\n",
    "from models.definitions.PocketAutoencoder import PocketAutoencoder\n",
    "import pandas as pd\n",
    "from tqdm import tqdm\n",
    "import itertools\n",
    "\n",
    "os.chdir('/Users/federicoferoggio/Documents/vs_code/latent-communication')\n",
    "\n"
   ]
  },
  {
   "cell_type": "code",
   "execution_count": null,
   "metadata": {},
   "outputs": [],
   "source": [
    "\n",
    "\n",
    "# Initialize DataFrame with additional columns\n",
    "loss_dataset = pd.DataFrame(columns=['Dataset', 'Model', 'Seed', 'Epochs', 'Learning Rate', 'Batch Size', 'Loss'])\n",
    "\n",
    "datasets_list = ['MNIST']\n",
    "seeds = [1, 2, 3, 4]\n",
    "paths = ['models/checkpoints/SMALLAE/MNIST/']\n",
    "dataloader_l = [DataLoaderMNIST]\n",
    "epochs = [5, 20]\n",
    "batch_sizes = [64, 128]\n",
    "learning_rates = [0.01, 0.001]\n",
    "\n",
    "combinations1 = [datasets_list, seeds, paths, dataloader_l, epochs, batch_sizes, learning_rates]\n",
    "combinations1 = list(itertools.product(*combinations1))\n",
    "\n",
    "datasets_list = ['MNIST']\n",
    "seeds = [3, 4]\n",
    "paths = ['models/checkpoints/SMALLAE/MNIST/']\n",
    "dataloader_l = [DataLoaderMNIST]\n",
    "epochs = [1, 10]\n",
    "batch_sizes = [32, 64, 128]\n",
    "learning_rates = [0.01, 0.001, 0.0001]\n",
    "\n",
    "combinations2 = [datasets_list, seeds, paths, dataloader_l, epochs, batch_sizes, learning_rates]\n",
    "combinations2 = list(itertools.product(*combinations2))\n",
    "\n",
    "combinations = combinations1 + combinations2\n",
    "\n",
    "DEVICE = torch.device(\"mps\")\n",
    "augmentations = [transforms.ToTensor(), transforms.Normalize((0.5,), (0.5,))]\n",
    "print(len(combinations))\n",
    "\n",
    "for dataset, seed, paths, dataloader, epochs, batch_size, learning_rate in tqdm(combinations):\n",
    "    dataloader = dataloader(batch_size=batch_size, transformation=augmentations, seed=seed)\n",
    "    test_loader = dataloader.get_test_loader()\n",
    "    train_loader = dataloader.get_train_loader()\n",
    "    config = {\n",
    "        'model_name': 'SMLLAE',\n",
    "        'dataset': dataset,\n",
    "        'weight_var': 1,\n",
    "        'weight_mean': 0,\n",
    "        'seed': seed,\n",
    "        'batch_size': batch_size,\n",
    "        'num_epochs': epochs,\n",
    "        'learning_rate': learning_rate,\n",
    "        'path': paths\n",
    "    }\n",
    "    \n",
    "    torch.manual_seed(config['seed'])\n",
    "    model = PocketAutoencoder()\n",
    "    model.to(DEVICE)\n",
    "    optimizer = Adam(model.parameters(), lr=config['learning_rate'], weight_decay=1e-4)\n",
    "    scheduler = ReduceLROnPlateau(optimizer, mode='min', factor=0.1, patience=5, verbose=True)\n",
    "    \n",
    "    for epoch in range(config['num_epochs']):\n",
    "        overall_loss = 0\n",
    "        model.train()  # Set the model to training mode\n",
    "        \n",
    "        for batch_idx, (x, _) in enumerate(train_loader):\n",
    "            x = x.to(DEVICE)\n",
    "            optimizer.zero_grad()\n",
    "            loss = model.training_step(x)\n",
    "            overall_loss += loss.item()\n",
    "            loss.backward()\n",
    "            optimizer.step()\n",
    "        \n",
    "        avg_loss = overall_loss / (len(train_loader) * batch_size)\n",
    "        new_row = pd.DataFrame({'Dataset': [config['dataset']],\n",
    "                                'Model': [config['model_name']],\n",
    "                                'Seed': [config['seed']],\n",
    "                                'Epochs': [epoch],\n",
    "                                'Learning Rate': [config['learning_rate']],\n",
    "                                'Batch Size': [config['batch_size']],\n",
    "                                'Loss': [avg_loss]})\n",
    "        loss_dataset = pd.concat([loss_dataset, new_row], ignore_index=True)\n",
    "        print(\"\\tEpoch\", epoch + 1, \"complete!\", \"\\tAverage Loss: \", avg_loss)\n",
    "    \n",
    "    model.eval()  # Set the model to evaluation mode\n",
    "    with torch.no_grad():  # Disable gradient calculation\n",
    "        test_loss = 0\n",
    "        for x_test, _ in test_loader:\n",
    "            x_test = x_test.to(DEVICE)\n",
    "            test_loss += model.validation_step(x_test).item()\n",
    "        \n",
    "        avg_test_loss = test_loss / (len(test_loader) * batch_size)\n",
    "        scheduler.step(avg_test_loss)  # Update the learning rate based on the test loss\n",
    "        new_row = pd.DataFrame({'Dataset': [config['dataset']],\n",
    "                                'Model': [config['model_name']],\n",
    "                                'Seed': [config['seed']],\n",
    "                                'Epochs': ['Test'],\n",
    "                                'Learning Rate': [config['learning_rate']],\n",
    "                                'Batch Size': [config['batch_size']],\n",
    "                                'Loss': [avg_test_loss]})\n",
    "        loss_dataset = pd.concat([loss_dataset, new_row], ignore_index=True)\n",
    "    \n",
    "    \n",
    "    # Save the model\n",
    "    name = f\"{config['dataset']}_{config['model_name']}_{config['learning_rate']}_{config['batch_size']}_{config['num_epochs']}_{config['seed']}.pth\"\n",
    "    print(name)\n",
    "    path = config['path'] + name\n",
    "    torch.save(model.state_dict(), path)\n",
    "\n",
    "loss_dataset.to_csv('models/checkpoints/SMALLAE/losses.csv', index=False)\n"
   ]
  },
  {
   "cell_type": "code",
   "execution_count": 2,
   "metadata": {},
   "outputs": [
    {
     "ename": "NameError",
     "evalue": "name 'pd' is not defined",
     "output_type": "error",
     "traceback": [
      "\u001b[0;31m---------------------------------------------------------------------------\u001b[0m",
      "\u001b[0;31mNameError\u001b[0m                                 Traceback (most recent call last)",
      "Cell \u001b[0;32mIn[2], line 15\u001b[0m\n\u001b[1;32m     11\u001b[0m os\u001b[38;5;241m.\u001b[39mchdir(\u001b[38;5;124m\"\u001b[39m\u001b[38;5;124m/Users/federicoferoggio/Documents/vs_code/latent-communication\u001b[39m\u001b[38;5;124m\"\u001b[39m)\n\u001b[1;32m     13\u001b[0m \u001b[38;5;66;03m# Assuming you have already defined and initialized test_loader and DEVICE\u001b[39;00m\n\u001b[0;32m---> 15\u001b[0m losses_per_class \u001b[38;5;241m=\u001b[39m \u001b[43mpd\u001b[49m\u001b[38;5;241m.\u001b[39mDataFrame(columns\u001b[38;5;241m=\u001b[39m[\u001b[38;5;124m\"\u001b[39m\u001b[38;5;124mModel\u001b[39m\u001b[38;5;124m\"\u001b[39m, \u001b[38;5;124m\"\u001b[39m\u001b[38;5;124mClass\u001b[39m\u001b[38;5;124m\"\u001b[39m, \u001b[38;5;124m\"\u001b[39m\u001b[38;5;124mLoss\u001b[39m\u001b[38;5;124m\"\u001b[39m])\n\u001b[1;32m     17\u001b[0m DataLoaders \u001b[38;5;241m=\u001b[39m DataLoaderMNIST\n\u001b[1;32m     18\u001b[0m batch_size \u001b[38;5;241m=\u001b[39m \u001b[38;5;241m64\u001b[39m\n",
      "\u001b[0;31mNameError\u001b[0m: name 'pd' is not defined"
     ]
    }
   ],
   "source": [
    "import os\n",
    "import torch\n",
    "import torchvision.transforms as transforms\n",
    "from torch.optim import Adam\n",
    "from utils.dataloaders.dataloader_mnist_single import DataLoaderMNIST\n",
    "from models.definitions.PocketAutoencoder import PocketAutoencoder\n",
    "from models.definitions.PocketAutoencoder import PocketAutoencoder\n",
    "\n",
    "import os\n",
    "\n",
    "os.chdir(\"/Users/federicoferoggio/Documents/vs_code/latent-communication\")\n",
    "\n",
    "# Assuming you have already defined and initialized test_loader and DEVICE\n",
    "\n",
    "losses_per_class = pd.DataFrame(columns=[\"Model\", \"Class\", \"Loss\"])\n",
    "\n",
    "DataLoaders = DataLoaderMNIST\n",
    "batch_size = 64\n",
    "augmentations = [transforms.ToTensor(), transforms.Normalize((0.5,), (0.5,))]\n",
    "\n",
    "dataloader = DataLoaders(batch_size=batch_size, transformation=augmentations, seed=seed)\n",
    "\n",
    "test_loader = dataloader.get_test_loader()\n",
    "train_loader = dataloader.get_train_loader()\n",
    "\n",
    "for file in os.listdir(\"models/checkpoints/SMALLAE/MNIST/\"):\n",
    "    if file.endswith(\".pth\"):  # Check if the file is a PyTorch model file\n",
    "        # Load the model\n",
    "        model = PocketAutoencoder()\n",
    "        model.load_state_dict(torch.load(\"models/checkpoints/SMALLAE/MNIST/\" + file))\n",
    "        print(\"Model loaded:\", file)\n",
    "\n",
    "        # Iterate through each class (0 to 9)\n",
    "        for n in range(10):\n",
    "            desired_class = n  # Specify the class you want to filter\n",
    "            filtered_samples = []\n",
    "\n",
    "            # Filter samples from the test loader based on the desired class\n",
    "            for data, label in test_loader:\n",
    "                indices = torch.nonzero(label == desired_class, as_tuple=False)\n",
    "                if indices.numel() > 0:\n",
    "                    for idx in indices:\n",
    "                        filtered_samples.append((data[idx], label[idx]))\n",
    "\n",
    "            test_loss_filtered = 0  # Initialize test loss for the current class\n",
    "\n",
    "            with torch.no_grad():  # Disable gradient calculation\n",
    "                for x_test, _ in filtered_samples:\n",
    "                    test_loss_filtered += model.validation_step(x_test).item()\n",
    "\n",
    "            # Calculate average reconstruction loss for the current class\n",
    "            if len(filtered_samples) > 0:\n",
    "                avg_loss = test_loss_filtered / len(filtered_samples)\n",
    "            else:\n",
    "                avg_loss = (\n",
    "                    0  # Handle the case when there are no samples for the current class\n",
    "                )\n",
    "\n",
    "            print(\"\\tTest Loss for class\", n, \":\", avg_loss)\n",
    "            # Concatenate the results to the DataFrame\n",
    "            losses_per_class = pd.concat(\n",
    "                [\n",
    "                    losses_per_class,\n",
    "                    pd.DataFrame({\"Model\": [file], \"Class\": [n], \"Loss\": [avg_loss]}),\n",
    "                ],\n",
    "                ignore_index=True,\n",
    "            )\n",
    "\n",
    "# Save the results to a CSV file\n",
    "losses_per_class.to_csv(\"models/checkpoints/SMALLAE/losses_per_class.csv\", index=False)"
   ]
  },
  {
   "cell_type": "code",
   "execution_count": null,
   "metadata": {},
   "outputs": [
    {
     "name": "stdout",
     "output_type": "stream",
     "text": [
      "Model loaded: MNIST_SMLLAE_0.001_128_5_4.pth\n",
      "\tMetrics for class 0 - MSE: 0.8369951843607183, SSIM: -0.16097904340033933, PSNR: 0.7779342676748042\n"
     ]
    },
    {
     "name": "stderr",
     "output_type": "stream",
     "text": [
      "/var/folders/tp/9l7ncvh137x08kdlp_fvr1nw0000gn/T/ipykernel_36666/2432785473.py:82: FutureWarning: The behavior of DataFrame concatenation with empty or all-NA entries is deprecated. In a future version, this will no longer exclude empty or all-NA columns when determining the result dtypes. To retain the old behavior, exclude the relevant entries before the concat operation.\n",
      "  losses_per_class = pd.concat(\n"
     ]
    },
    {
     "name": "stdout",
     "output_type": "stream",
     "text": [
      "\tMetrics for class 1 - MSE: 1.0395673592710284, SSIM: -0.23371325305179277, PSNR: -0.16037558986774278\n",
      "\tMetrics for class 2 - MSE: 0.8835762621935948, SSIM: -0.1835876184230727, PSNR: 0.5506155197559055\n",
      "\tMetrics for class 3 - MSE: 0.90332203318577, SSIM: -0.22636077990095746, PSNR: 0.45570925101892745\n",
      "\tMetrics for class 4 - MSE: 0.9446686668939843, SSIM: -0.2258157755824825, PSNR: 0.2597230016664452\n",
      "\tMetrics for class 5 - MSE: 0.9084933037982393, SSIM: -0.25572115042537275, PSNR: 0.4295579999674039\n",
      "\tMetrics for class 6 - MSE: 0.9010694963324791, SSIM: -0.18473424473568056, PSNR: 0.46948514602135094\n",
      "\tMetrics for class 7 - MSE: 0.9728489723998749, SSIM: -0.26055974667325466, PSNR: 0.1288607795634047\n",
      "\tMetrics for class 8 - MSE: 0.9085603426124526, SSIM: -0.19359579711920039, PSNR: 0.42806539692316664\n",
      "\tMetrics for class 9 - MSE: 0.9579845519202906, SSIM: -0.24348689703740048, PSNR: 0.19584358435079216\n",
      "Model loaded: MNIST_SMLLAE_0.001_64_1_4.pth\n",
      "\tMetrics for class 0 - MSE: 0.8535051918151427, SSIM: -0.1088626059637903, PSNR: 0.691187057621989\n",
      "\tMetrics for class 1 - MSE: 1.1341371886530636, SSIM: -0.2138839683103423, PSNR: -0.524168406225394\n",
      "\tMetrics for class 2 - MSE: 0.8849816438994667, SSIM: -0.10438354775506918, PSNR: 0.5409931097467755\n",
      "\tMetrics for class 3 - MSE: 0.9114027115968194, SSIM: -0.15779572283284546, PSNR: 0.42085828472914116\n",
      "\tMetrics for class 4 - MSE: 1.0410608597054258, SSIM: -0.2060851818914914, PSNR: -0.14902836842005934\n",
      "\tMetrics for class 5 - MSE: 0.9213952331264992, SSIM: -0.18692437243713952, PSNR: 0.37208587053353276\n",
      "\tMetrics for class 6 - MSE: 0.8881338302178273, SSIM: -0.1273075449784274, PSNR: 0.525310860905056\n",
      "\tMetrics for class 7 - MSE: 1.0639440165071636, SSIM: -0.23439692121250164, PSNR: -0.25036463564434575\n",
      "\tMetrics for class 8 - MSE: 0.930900601023766, SSIM: -0.14348559048731396, PSNR: 0.3317306762001172\n",
      "\tMetrics for class 9 - MSE: 1.0597810556205696, SSIM: -0.22564460001834596, PSNR: -0.23375828411515018\n",
      "Model loaded: MNIST_SMLLAE_0.001_128_10_4.pth\n",
      "\tMetrics for class 0 - MSE: 0.8180816660730206, SSIM: -0.1935454439793066, PSNR: 0.8751101374496216\n",
      "\tMetrics for class 1 - MSE: 0.9219500009708993, SSIM: -0.19003955464246666, PSNR: 0.3557507299890601\n",
      "\tMetrics for class 2 - MSE: 0.8408882555573486, SSIM: -0.14489251168874118, PSNR: 0.7563145899143062\n",
      "\tMetrics for class 3 - MSE: 0.8446189732244699, SSIM: -0.17078677484484453, PSNR: 0.7375248178767132\n",
      "\tMetrics for class 4 - MSE: 0.8657511937642535, SSIM: -0.16414989093480978, PSNR: 0.6293407324451743\n",
      "\tMetrics for class 5 - MSE: 0.8562793686250935, SSIM: -0.20534179785439838, PSNR: 0.6783350542428239\n",
      "\tMetrics for class 6 - MSE: 0.846779545874088, SSIM: -0.1489065459604036, PSNR: 0.7261732173770847\n",
      "\tMetrics for class 7 - MSE: 0.8737939178131897, SSIM: -0.19673123671528167, PSNR: 0.5892205638652502\n",
      "\tMetrics for class 8 - MSE: 0.8376600490825622, SSIM: -0.12469663105199183, PSNR: 0.7726053684237709\n",
      "\tMetrics for class 9 - MSE: 0.8601232528450231, SSIM: -0.1736047581995527, PSNR: 0.6572540799346597\n",
      "Model loaded: MNIST_SMLLAE_0.001_64_5_1.pth\n",
      "\tMetrics for class 0 - MSE: 0.8220376456270413, SSIM: -0.19372132940294773, PSNR: 0.8545344489692859\n",
      "\tMetrics for class 1 - MSE: 0.9407662076571964, SSIM: -0.20528655850167535, PSNR: 0.27028337539031594\n",
      "\tMetrics for class 2 - MSE: 0.8477202243814173, SSIM: -0.14474498805137545, PSNR: 0.7213927264089904\n",
      "\tMetrics for class 3 - MSE: 0.8506593840547128, SSIM: -0.1771054195575443, PSNR: 0.7069904570254211\n",
      "\tMetrics for class 4 - MSE: 0.872819787615914, SSIM: -0.17292459741740984, PSNR: 0.5949080524508232\n",
      "\tMetrics for class 5 - MSE: 0.86465500582494, SSIM: -0.21319839079322028, PSNR: 0.6373612413645259\n",
      "\tMetrics for class 6 - MSE: 0.8527286782518558, SSIM: -0.15654122156072278, PSNR: 0.6968038996948673\n",
      "\tMetrics for class 7 - MSE: 0.8821630401949938, SSIM: -0.20433915269219002, PSNR: 0.5487664089461001\n",
      "\tMetrics for class 8 - MSE: 0.8439358448345803, SSIM: -0.12444209329597494, PSNR: 0.7403471530836252\n",
      "\tMetrics for class 9 - MSE: 0.8663072624457012, SSIM: -0.17660976530705114, PSNR: 0.6267027655553548\n",
      "Model loaded: MNIST_SMLLAE_0.0001_128_1_3.pth\n",
      "\tMetrics for class 0 - MSE: 1.2243093555070916, SSIM: -0.012886752941051526, PSNR: -0.8315522286333313\n",
      "\tMetrics for class 1 - MSE: 1.7682833103356383, SSIM: -0.015628788920873077, PSNR: -2.4701664758334774\n",
      "\tMetrics for class 2 - MSE: 1.495804976931838, SSIM: -0.012753304769251503, PSNR: -1.7073076851239544\n",
      "\tMetrics for class 3 - MSE: 1.452108106754794, SSIM: -0.019374601730045328, PSNR: -1.5671149976687742\n",
      "\tMetrics for class 4 - MSE: 1.6441850736282022, SSIM: -0.014442363811046638, PSNR: -2.1451228089233223\n",
      "\tMetrics for class 5 - MSE: 1.4891640990304305, SSIM: -0.016792253897422706, PSNR: -1.6736567417359312\n",
      "\tMetrics for class 6 - MSE: 1.595498592968027, SSIM: -0.012391631057842908, PSNR: -2.00527136708925\n",
      "\tMetrics for class 7 - MSE: 1.661400025456796, SSIM: -0.028843148185354245, PSNR: -2.1940092786211203\n",
      "\tMetrics for class 8 - MSE: 1.5236616635224658, SSIM: -0.013355628904127318, PSNR: -1.7943440457419362\n",
      "\tMetrics for class 9 - MSE: 1.6493084843024035, SSIM: -0.015228703027957402, PSNR: -2.162965458462945\n",
      "Model loaded: MNIST_SMLLAE_0.001_128_1_3.pth\n",
      "\tMetrics for class 0 - MSE: 1.1315888834242918, SSIM: -0.03269988725215886, PSNR: -0.4840081324483762\n",
      "\tMetrics for class 1 - MSE: 1.4388188981799828, SSIM: -0.03951494814907424, PSNR: -1.5773855638307734\n",
      "\tMetrics for class 2 - MSE: 1.327129594923914, SSIM: -0.040738365982074504, PSNR: -1.2180174722469952\n",
      "\tMetrics for class 3 - MSE: 1.3056167273828299, SSIM: -0.04684792595399595, PSNR: -1.1393753371463797\n",
      "\tMetrics for class 4 - MSE: 1.3438310901162096, SSIM: -0.04998320717690913, PSNR: -1.2783874839139056\n",
      "\tMetrics for class 5 - MSE: 1.3385898694730125, SSIM: -0.04699986037328377, PSNR: -1.2405496277678443\n",
      "\tMetrics for class 6 - MSE: 1.356453284839001, SSIM: -0.04859449440951513, PSNR: -1.318759819903978\n",
      "\tMetrics for class 7 - MSE: 1.3604813081281195, SSIM: -0.05915958135754871, PSNR: -1.330482861830664\n",
      "\tMetrics for class 8 - MSE: 1.3116673589731878, SSIM: -0.050880995968898564, PSNR: -1.1708742756496329\n",
      "\tMetrics for class 9 - MSE: 1.326004762420333, SSIM: -0.05861747959512786, PSNR: -1.2200743822129296\n",
      "Model loaded: MNIST_SMLLAE_0.001_64_5_3.pth\n",
      "\tMetrics for class 0 - MSE: 0.8208023659428771, SSIM: -0.17822462395620384, PSNR: 0.8605535112847795\n",
      "\tMetrics for class 1 - MSE: 0.9246537111929335, SSIM: -0.1557435868191645, PSNR: 0.3425256538673229\n",
      "\tMetrics for class 2 - MSE: 0.8458372132722721, SSIM: -0.12123703930253817, PSNR: 0.730301442919105\n",
      "\tMetrics for class 3 - MSE: 0.8480822030860599, SSIM: -0.1530390185578185, PSNR: 0.7195054288004733\n",
      "\tMetrics for class 4 - MSE: 0.8688031746996396, SSIM: -0.13978221506789776, PSNR: 0.6137244701561345\n",
      "\tMetrics for class 5 - MSE: 0.860110936678044, SSIM: -0.18097186168851798, PSNR: 0.658593529369803\n",
      "\tMetrics for class 6 - MSE: 0.8494917156178667, SSIM: -0.13439279081993888, PSNR: 0.711916824607459\n",
      "\tMetrics for class 7 - MSE: 0.8780145250869632, SSIM: -0.15917339558851407, PSNR: 0.5678904656376842\n",
      "\tMetrics for class 8 - MSE: 0.8417218264490672, SSIM: -0.11148788361021267, PSNR: 0.7515923995971463\n",
      "\tMetrics for class 9 - MSE: 0.8646306126157876, SSIM: -0.1442835170645833, PSNR: 0.634311285676561\n",
      "Model loaded: MNIST_SMLLAE_0.01_32_1_3.pth\n",
      "\tMetrics for class 0 - MSE: 0.8232681983587693, SSIM: -0.1809166142837159, PSNR: 0.8480033467420556\n",
      "\tMetrics for class 1 - MSE: 0.9255039910387888, SSIM: -0.18800841742637325, PSNR: 0.33898591706331516\n",
      "\tMetrics for class 2 - MSE: 0.8485526260017424, SSIM: -0.13425896284696096, PSNR: 0.716932314021696\n",
      "\tMetrics for class 3 - MSE: 0.8517535317652296, SSIM: -0.16050299812111635, PSNR: 0.7010240892978762\n",
      "\tMetrics for class 4 - MSE: 0.8728462080727284, SSIM: -0.16930436899530935, PSNR: 0.5944178750840478\n",
      "\tMetrics for class 5 - MSE: 0.8650890233939004, SSIM: -0.19992791804311547, PSNR: 0.6344622310742735\n",
      "\tMetrics for class 6 - MSE: 0.8532281571489784, SSIM: -0.1350226811846598, PSNR: 0.6931815165109935\n",
      "\tMetrics for class 7 - MSE: 0.883235699993627, SSIM: -0.19296856649715247, PSNR: 0.54289938563308\n",
      "\tMetrics for class 8 - MSE: 0.8446748021691731, SSIM: -0.12213736263193378, PSNR: 0.7364732540383617\n",
      "\tMetrics for class 9 - MSE: 0.8678539693650925, SSIM: -0.1759319408605368, PSNR: 0.6187986360589364\n",
      "Model loaded: MNIST_SMLLAE_0.01_128_10_4.pth\n",
      "\tMetrics for class 0 - MSE: 0.820663063380183, SSIM: -0.19102113563619486, PSNR: 0.8613585040119955\n",
      "\tMetrics for class 1 - MSE: 0.9457820989486929, SSIM: -0.21494471695564166, PSNR: 0.24807342603669374\n",
      "\tMetrics for class 2 - MSE: 0.8453311787326206, SSIM: -0.1486996806178775, PSNR: 0.733440570365096\n",
      "\tMetrics for class 3 - MSE: 0.8478484619371962, SSIM: -0.17369605324545054, PSNR: 0.7213601438651965\n",
      "\tMetrics for class 4 - MSE: 0.868763897848712, SSIM: -0.1746435756532241, PSNR: 0.6148003646164293\n",
      "\tMetrics for class 5 - MSE: 0.8602242366882717, SSIM: -0.2075271127818209, PSNR: 0.6588465685382944\n",
      "\tMetrics for class 6 - MSE: 0.8506329832345807, SSIM: -0.1477671134933902, PSNR: 0.7064497615147792\n",
      "\tMetrics for class 7 - MSE: 0.8768131214009185, SSIM: -0.1988972822276272, PSNR: 0.5746200453021874\n",
      "\tMetrics for class 8 - MSE: 0.8409178905663304, SSIM: -0.12213501493858918, PSNR: 0.7554529410893428\n",
      "\tMetrics for class 9 - MSE: 0.863224446891675, SSIM: -0.1749984024933143, PSNR: 0.6419049058160322\n",
      "Model loaded: MNIST_SMLLAE_0.001_64_5_2.pth\n",
      "\tMetrics for class 0 - MSE: 0.8182674462697944, SSIM: -0.21408762501241688, PSNR: 0.874923205674978\n",
      "\tMetrics for class 1 - MSE: 0.9304552021005605, SSIM: -0.2009681811646357, PSNR: 0.3167007505074553\n",
      "\tMetrics for class 2 - MSE: 0.8429504592520322, SSIM: -0.15613534062792575, PSNR: 0.7461673271499506\n",
      "\tMetrics for class 3 - MSE: 0.8471521637817421, SSIM: -0.1861437775455884, PSNR: 0.7253505408420127\n",
      "\tMetrics for class 4 - MSE: 0.8702416676732042, SSIM: -0.17316815262230084, PSNR: 0.6074923174089599\n",
      "\tMetrics for class 5 - MSE: 0.861296328327581, SSIM: -0.22062268894890938, PSNR: 0.653971830766143\n",
      "\tMetrics for class 6 - MSE: 0.8492982044100512, SSIM: -0.15248460150210835, PSNR: 0.7138284691695183\n",
      "\tMetrics for class 7 - MSE: 0.8773147687026035, SSIM: -0.2031862327551438, PSNR: 0.5722728743953416\n",
      "\tMetrics for class 8 - MSE: 0.8403797732853546, SSIM: -0.13715273299892333, PSNR: 0.7593456923272138\n",
      "\tMetrics for class 9 - MSE: 0.8638162357719732, SSIM: -0.18089443674227126, PSNR: 0.63919493758391\n",
      "Model loaded: MNIST_SMLLAE_0.0001_128_1_4.pth\n",
      "\tMetrics for class 0 - MSE: 1.0229824284509736, SSIM: -0.028945871548436475, PSNR: -0.09154142524924774\n",
      "\tMetrics for class 1 - MSE: 1.6698696755102553, SSIM: -0.06315849672694628, PSNR: -2.192081337351192\n",
      "\tMetrics for class 2 - MSE: 1.2159966102173163, SSIM: -0.040640574029305196, PSNR: -0.7790718951482399\n",
      "\tMetrics for class 3 - MSE: 1.3413085004480758, SSIM: -0.06493991142328046, PSNR: -1.1979496835645684\n",
      "\tMetrics for class 4 - MSE: 1.6194218341299085, SSIM: -0.04606255236188147, PSNR: -2.052176736710044\n",
      "\tMetrics for class 5 - MSE: 1.2888748673179224, SSIM: -0.06323016459861287, PSNR: -1.0296284252599837\n",
      "\tMetrics for class 6 - MSE: 1.3527625447648552, SSIM: -0.04623406503850671, PSNR: -1.2257173359647335\n",
      "\tMetrics for class 7 - MSE: 1.594826931039647, SSIM: -0.060160261509442335, PSNR: -1.983784972925557\n",
      "\tMetrics for class 8 - MSE: 1.4327655254693001, SSIM: -0.06565718855825842, PSNR: -1.5025804396095992\n",
      "\tMetrics for class 9 - MSE: 1.6271810491446579, SSIM: -0.0646121676410448, PSNR: -2.0844497641078488\n",
      "Model loaded: MNIST_SMLLAE_0.001_128_5_2.pth\n",
      "\tMetrics for class 0 - MSE: 0.84831748805484, SSIM: -0.17553407565398083, PSNR: 0.7218474038974314\n",
      "\tMetrics for class 1 - MSE: 1.02833809306443, SSIM: -0.22549407180225745, PSNR: -0.11513174551122708\n",
      "\tMetrics for class 2 - MSE: 0.9050321099023486, SSIM: -0.1879326249061563, PSNR: 0.4443348197432311\n",
      "\tMetrics for class 3 - MSE: 0.8960578554927713, SSIM: -0.19719701660548222, PSNR: 0.49014982036924676\n",
      "\tMetrics for class 4 - MSE: 0.9676727811576392, SSIM: -0.22348829952382424, PSNR: 0.15022902502253438\n",
      "\tMetrics for class 5 - MSE: 0.9174268290467327, SSIM: -0.23224809022070175, PSNR: 0.39118479851120036\n",
      "\tMetrics for class 6 - MSE: 0.9270033246540078, SSIM: -0.19311052957607572, PSNR: 0.3409928797869587\n",
      "\tMetrics for class 7 - MSE: 0.9814134196084761, SSIM: -0.25139849254343805, PSNR: 0.08912631536330948\n",
      "\tMetrics for class 8 - MSE: 0.9096654526262068, SSIM: -0.1744776230261709, PSNR: 0.42196498022906653\n",
      "\tMetrics for class 9 - MSE: 0.9659810545305076, SSIM: -0.2285764529279204, PSNR: 0.15764077039837282\n",
      "Model loaded: MNIST_SMLLAE_0.001_128_10_3.pth\n",
      "\tMetrics for class 0 - MSE: 0.8201028724105991, SSIM: -0.18979163178926456, PSNR: 0.8640911735437459\n",
      "\tMetrics for class 1 - MSE: 0.9264748466172408, SSIM: -0.19685602303091856, PSNR: 0.3350364411365672\n",
      "\tMetrics for class 2 - MSE: 0.843000685579555, SSIM: -0.14368218759819984, PSNR: 0.7451147674377603\n",
      "\tMetrics for class 3 - MSE: 0.8464941499256852, SSIM: -0.16624280451124843, PSNR: 0.7276362662029957\n",
      "\tMetrics for class 4 - MSE: 0.8668072556283954, SSIM: -0.16045459408453205, PSNR: 0.6239649155158326\n",
      "\tMetrics for class 5 - MSE: 0.8589391618833414, SSIM: -0.1952276297485362, PSNR: 0.6647313095738566\n",
      "\tMetrics for class 6 - MSE: 0.8487218543109416, SSIM: -0.1460089971522016, PSNR: 0.7160252211929584\n",
      "\tMetrics for class 7 - MSE: 0.8750792317933146, SSIM: -0.1929211924098041, PSNR: 0.5827766151607359\n",
      "\tMetrics for class 8 - MSE: 0.840739676594979, SSIM: -0.1209849470896212, PSNR: 0.7564018300192679\n",
      "\tMetrics for class 9 - MSE: 0.8618434202092136, SSIM: -0.16682952968803708, PSNR: 0.6484231270519856\n",
      "Model loaded: MNIST_SMLLAE_0.001_64_1_3.pth\n",
      "\tMetrics for class 0 - MSE: 0.9287018972391985, SSIM: -0.0759848556293363, PSNR: 0.33387187143696284\n",
      "\tMetrics for class 1 - MSE: 1.1374622586015037, SSIM: -0.14245768430096525, PSNR: -0.5520427118820451\n",
      "\tMetrics for class 2 - MSE: 1.0322383215376574, SSIM: -0.09068098781894458, PSNR: -0.12317879411862971\n",
      "\tMetrics for class 3 - MSE: 0.9634122153319935, SSIM: -0.06323375296923328, PSNR: 0.17654285025165867\n",
      "\tMetrics for class 4 - MSE: 1.0964924500090527, SSIM: -0.11668186605697793, PSNR: -0.39322310955790496\n",
      "\tMetrics for class 5 - MSE: 1.007814369460927, SSIM: -0.07639009543652527, PSNR: -0.0065295026214494175\n",
      "\tMetrics for class 6 - MSE: 1.044607987856815, SSIM: -0.10999808943317785, PSNR: -0.17618050564520318\n",
      "\tMetrics for class 7 - MSE: 1.0984008151037683, SSIM: -0.14052778003362734, PSNR: -0.39946833905233003\n",
      "\tMetrics for class 8 - MSE: 0.9812592251467264, SSIM: -0.07110232922704385, PSNR: 0.09851098006719064\n",
      "\tMetrics for class 9 - MSE: 1.0736905820187777, SSIM: -0.13331870214711475, PSNR: -0.30047690740489297\n",
      "Model loaded: MNIST_SMLLAE_0.001_128_5_3.pth\n",
      "\tMetrics for class 0 - MSE: 0.8369696050274129, SSIM: -0.1474480285745937, PSNR: 0.7758193491660315\n",
      "\tMetrics for class 1 - MSE: 0.9998142831125973, SSIM: -0.22938834697002242, PSNR: 0.006420930844056426\n",
      "\tMetrics for class 2 - MSE: 0.8727984751264254, SSIM: -0.17209530248068544, PSNR: 0.5978848086306285\n",
      "\tMetrics for class 3 - MSE: 0.8854266842403035, SSIM: -0.20531740844783522, PSNR: 0.535373328500983\n",
      "\tMetrics for class 4 - MSE: 0.9053937370932515, SSIM: -0.19597786576068635, PSNR: 0.43801653458592676\n",
      "\tMetrics for class 5 - MSE: 0.8948312490643942, SSIM: -0.22489341667167365, PSNR: 0.49132018478009043\n",
      "\tMetrics for class 6 - MSE: 0.8707164575759951, SSIM: -0.15956670242538112, PSNR: 0.608688939448871\n",
      "\tMetrics for class 7 - MSE: 0.9270457774980523, SSIM: -0.23882026950907592, PSNR: 0.33592380659014104\n",
      "\tMetrics for class 8 - MSE: 0.8779479077342109, SSIM: -0.15630041268127898, PSNR: 0.5721582162262396\n",
      "\tMetrics for class 9 - MSE: 0.906517861442358, SSIM: -0.21159120971643705, PSNR: 0.4322408885269385\n",
      "Model loaded: MNIST_SMLLAE_0.001_128_5_1.pth\n",
      "\tMetrics for class 0 - MSE: 0.8427006335891023, SSIM: -0.16195076336582112, PSNR: 0.7476937100041364\n",
      "\tMetrics for class 1 - MSE: 1.0375770573574015, SSIM: -0.23592390692086893, PSNR: -0.15277105569617724\n",
      "\tMetrics for class 2 - MSE: 0.8993771227524262, SSIM: -0.18424658736393992, PSNR: 0.4683973732207854\n",
      "\tMetrics for class 3 - MSE: 0.9133829501595827, SSIM: -0.222512992092883, PSNR: 0.4011242017805901\n",
      "\tMetrics for class 4 - MSE: 0.9418989614775127, SSIM: -0.2150157168885481, PSNR: 0.26730438815391316\n",
      "\tMetrics for class 5 - MSE: 0.9135382470127713, SSIM: -0.23682882222342244, PSNR: 0.4011576554191982\n",
      "\tMetrics for class 6 - MSE: 0.9113256778871341, SSIM: -0.1850626689969161, PSNR: 0.4111140582351365\n",
      "\tMetrics for class 7 - MSE: 0.9590663641459283, SSIM: -0.2518621765875435, PSNR: 0.18975797294414148\n",
      "\tMetrics for class 8 - MSE: 0.9066729046236074, SSIM: -0.16814801557198417, PSNR: 0.4317014951262903\n",
      "\tMetrics for class 9 - MSE: 0.9371636247020528, SSIM: -0.23151216895488266, PSNR: 0.28898373780662334\n",
      "Model loaded: MNIST_SMLLAE_0.01_128_10_3.pth\n",
      "\tMetrics for class 0 - MSE: 0.8259830999739316, SSIM: -0.17394955689347258, PSNR: 0.8323542494633387\n",
      "\tMetrics for class 1 - MSE: 0.9258539903531515, SSIM: -0.19015545241021206, PSNR: 0.3376994113614373\n",
      "\tMetrics for class 2 - MSE: 0.846601762570614, SSIM: -0.13399176303933427, PSNR: 0.7260620520876235\n",
      "\tMetrics for class 3 - MSE: 0.848767483765536, SSIM: -0.1618625142626063, PSNR: 0.7156341683940477\n",
      "\tMetrics for class 4 - MSE: 0.8693410472568815, SSIM: -0.1820898560725974, PSNR: 0.6122275502067294\n",
      "\tMetrics for class 5 - MSE: 0.8602082262258358, SSIM: -0.1945947477928872, PSNR: 0.6580995264684232\n",
      "\tMetrics for class 6 - MSE: 0.850748472335692, SSIM: -0.14177523306105896, PSNR: 0.7052726138134623\n",
      "\tMetrics for class 7 - MSE: 0.8785267046105537, SSIM: -0.20866420574681177, PSNR: 0.5663035613745508\n",
      "\tMetrics for class 8 - MSE: 0.8441412213279481, SSIM: -0.10883042956779344, PSNR: 0.737951872586899\n",
      "\tMetrics for class 9 - MSE: 0.8638014464359454, SSIM: -0.18734817823503122, PSNR: 0.6390398838979632\n",
      "Model loaded: MNIST_SMLLAE_0.001_64_5_4.pth\n",
      "\tMetrics for class 0 - MSE: 0.8195487087478444, SSIM: -0.19211565839237585, PSNR: 0.8673171543882405\n",
      "\tMetrics for class 1 - MSE: 0.9268846549651696, SSIM: -0.19641483982794472, PSNR: 0.3330989732318177\n",
      "\tMetrics for class 2 - MSE: 0.8422761981108392, SSIM: -0.14199776104459114, PSNR: 0.7488979902564996\n",
      "\tMetrics for class 3 - MSE: 0.8454497825981366, SSIM: -0.1695916858781954, PSNR: 0.7331517204147695\n",
      "\tMetrics for class 4 - MSE: 0.8668185859736502, SSIM: -0.16089162107652, PSNR: 0.6238453142679801\n",
      "\tMetrics for class 5 - MSE: 0.8572584968644942, SSIM: -0.2035480331183185, PSNR: 0.673394632750322\n",
      "\tMetrics for class 6 - MSE: 0.8486986643710565, SSIM: -0.14396250077373574, PSNR: 0.7160535235185563\n",
      "\tMetrics for class 7 - MSE: 0.8748587180900202, SSIM: -0.19352454001388886, PSNR: 0.5839418225454818\n",
      "\tMetrics for class 8 - MSE: 0.8392797444145782, SSIM: -0.12597564197316233, PSNR: 0.7640513869805189\n",
      "\tMetrics for class 9 - MSE: 0.8619637564341542, SSIM: -0.1723673994585296, PSNR: 0.6478825097007043\n",
      "Model loaded: MNIST_SMLLAE_0.01_32_1_4.pth\n",
      "\tMetrics for class 0 - MSE: 0.8267525684468601, SSIM: -0.17692334628991999, PSNR: 0.8294675629043159\n",
      "\tMetrics for class 1 - MSE: 0.9311875731409384, SSIM: -0.1870840246521269, PSNR: 0.31323358364294723\n",
      "\tMetrics for class 2 - MSE: 0.851764747396458, SSIM: -0.1279496018791634, PSNR: 0.7002764469940654\n",
      "\tMetrics for class 3 - MSE: 0.8531248485687936, SSIM: -0.15646632610570424, PSNR: 0.6939839666797537\n",
      "\tMetrics for class 4 - MSE: 0.8756491774332742, SSIM: -0.1593748840410634, PSNR: 0.5803795090731086\n",
      "\tMetrics for class 5 - MSE: 0.8653192666480359, SSIM: -0.19053646873977814, PSNR: 0.6330280039416746\n",
      "\tMetrics for class 6 - MSE: 0.8569372663418287, SSIM: -0.14203179809565275, PSNR: 0.6746321848144046\n",
      "\tMetrics for class 7 - MSE: 0.8803481300749204, SSIM: -0.18231788649678182, PSNR: 0.5567120310886162\n",
      "\tMetrics for class 8 - MSE: 0.8467429826147013, SSIM: -0.12051089378504315, PSNR: 0.7258937092906667\n",
      "\tMetrics for class 9 - MSE: 0.8685924363561617, SSIM: -0.16655867686067666, PSNR: 0.6148236560998306\n",
      "Model loaded: MNIST_SMLLAE_0.001_128_1_4.pth\n",
      "\tMetrics for class 0 - MSE: 0.9459323074136462, SSIM: -0.08841649104544087, PSNR: 0.2535471751986786\n",
      "\tMetrics for class 1 - MSE: 1.3222151903328916, SSIM: -0.1783145679707834, PSNR: -1.1959700036776744\n",
      "\tMetrics for class 2 - MSE: 1.1121139841717342, SSIM: -0.1396319782283983, PSNR: -0.43072072708073766\n",
      "\tMetrics for class 3 - MSE: 1.1530404269105137, SSIM: -0.17227075402728817, PSNR: -0.5965467069266335\n",
      "\tMetrics for class 4 - MSE: 1.216186422558763, SSIM: -0.1539154157682362, PSNR: -0.8282288137711242\n",
      "\tMetrics for class 5 - MSE: 1.1685689515329798, SSIM: -0.17371284405017556, PSNR: -0.6436690296241306\n",
      "\tMetrics for class 6 - MSE: 1.1547601193127404, SSIM: -0.15344388769882183, PSNR: -0.591392371660815\n",
      "\tMetrics for class 7 - MSE: 1.207728100657927, SSIM: -0.19477203824082873, PSNR: -0.8016824090262533\n",
      "\tMetrics for class 8 - MSE: 1.1706784102583814, SSIM: -0.1336781977054819, PSNR: -0.6638389640849254\n",
      "\tMetrics for class 9 - MSE: 1.1977278965315805, SSIM: -0.18434952471986613, PSNR: -0.7664665610818526\n",
      "Model loaded: MNIST_SMLLAE_0.0001_32_10_3.pth\n",
      "\tMetrics for class 0 - MSE: 0.8172449772455255, SSIM: -0.19602354768593055, PSNR: 0.8801229308205196\n",
      "\tMetrics for class 1 - MSE: 0.9218730976928173, SSIM: -0.18386924017840076, PSNR: 0.3559560176680841\n",
      "\tMetrics for class 2 - MSE: 0.8430172966201176, SSIM: -0.13686578508258257, PSNR: 0.7451653992712394\n",
      "\tMetrics for class 3 - MSE: 0.8460265883714846, SSIM: -0.17009988102148893, PSNR: 0.7304999172601221\n",
      "\tMetrics for class 4 - MSE: 0.866853411899322, SSIM: -0.15592028550962828, PSNR: 0.6236854433610353\n",
      "\tMetrics for class 5 - MSE: 0.8594589942372968, SSIM: -0.19489558982559713, PSNR: 0.6623194707683919\n",
      "\tMetrics for class 6 - MSE: 0.8490030972718695, SSIM: -0.13902950083027774, PSNR: 0.7146714604318452\n",
      "\tMetrics for class 7 - MSE: 0.874760700570934, SSIM: -0.18742177560590367, PSNR: 0.5842845750479685\n"
     ]
    }
   ],
   "source": [
    "import os\n",
    "import torch\n",
    "import pandas as pd\n",
    "import torchvision.transforms as transforms\n",
    "from skimage.metrics import structural_similarity as ssim\n",
    "from skimage.metrics import peak_signal_noise_ratio as psnr\n",
    "from models.definitions.PocketAutoencoder import PocketAutoencoder\n",
    "\n",
    "# Assuming you have already defined and initialized test_loader and DEVICE\n",
    "\n",
    "os.chdir(\"/Users/federicoferoggio/Documents/vs_code/latent-communication\")\n",
    "losses_per_class = pd.DataFrame(columns=[\"Model\", \"Class\", \"MSE\", \"SSIM\", \"PSNR\"])\n",
    "\n",
    "\n",
    "# Function to calculate SSIM and PSNR\n",
    "def calculate_ssim_psnr(original, reconstructed, data_range=1.0):\n",
    "    original_np = original.cpu().numpy().squeeze()\n",
    "    reconstructed_np = reconstructed.cpu().numpy().squeeze()\n",
    "    ssim_value = ssim(original_np, reconstructed_np, data_range=data_range)\n",
    "    psnr_value = psnr(original_np, reconstructed_np, data_range=data_range)\n",
    "    return ssim_value, psnr_value\n",
    "\n",
    "\n",
    "# Iterate through each model file in the specified directory\n",
    "for file in os.listdir(\"models/checkpoints/SMALLAE/MNIST/\"):\n",
    "    if file.endswith(\".pth\"):  # Check if the file is a PyTorch model file\n",
    "        # Load the model\n",
    "        model = PocketAutoencoder()\n",
    "        model.load_state_dict(\n",
    "            torch.load(\"models/checkpoints/SMALLAE/MNIST/\" + file, map_location=DEVICE),\n",
    "            strict=False,\n",
    "        )\n",
    "        model.to(DEVICE)\n",
    "        print(\"Model loaded:\", file)\n",
    "\n",
    "        # Iterate through each class (0 to 9)\n",
    "        for n in range(10):\n",
    "            desired_class = n  # Specify the class you want to filter\n",
    "            filtered_samples = []\n",
    "\n",
    "            # Filter samples from the test loader based on the desired class\n",
    "            for data, label in test_loader:\n",
    "                indices = torch.nonzero(label == desired_class, as_tuple=False)\n",
    "                if indices.numel() > 0:\n",
    "                    for idx in indices:\n",
    "                        filtered_samples.append((data[idx], label[idx]))\n",
    "\n",
    "            mse_loss_filtered = 0  # Initialize MSE loss for the current class\n",
    "            ssim_loss_filtered = 0  # Initialize SSIM loss for the current class\n",
    "            psnr_loss_filtered = 0  # Initialize PSNR loss for the current class\n",
    "\n",
    "            with torch.no_grad():  # Disable gradient calculation\n",
    "                for x_test, _ in filtered_samples:\n",
    "                    x_test = x_test.to(DEVICE)\n",
    "                    x_reconstructed = model(x_test)\n",
    "                    mse_loss_filtered += torch.nn.functional.mse_loss(\n",
    "                        x_reconstructed, x_test\n",
    "                    ).item()\n",
    "                    ssim_value, psnr_value = calculate_ssim_psnr(\n",
    "                        x_test, x_reconstructed\n",
    "                    )\n",
    "                    ssim_loss_filtered += ssim_value\n",
    "                    psnr_loss_filtered += psnr_value\n",
    "\n",
    "            # Calculate average losses for the current class\n",
    "            num_samples = len(filtered_samples)\n",
    "            if num_samples > 0:\n",
    "                avg_mse_loss = mse_loss_filtered / num_samples\n",
    "                avg_ssim_loss = ssim_loss_filtered / num_samples\n",
    "                avg_psnr_loss = psnr_loss_filtered / num_samples\n",
    "            else:\n",
    "                avg_mse_loss = (\n",
    "                    0  # Handle the case when there are no samples for the current class\n",
    "                )\n",
    "                avg_ssim_loss = 0\n",
    "                avg_psnr_loss = 0\n",
    "\n",
    "            print(\n",
    "                f\"\\tMetrics for class {n} - MSE: {avg_mse_loss}, SSIM: {avg_ssim_loss}, PSNR: {avg_psnr_loss}\"\n",
    "            )\n",
    "            # Concatenate the results to the DataFrame\n",
    "            losses_per_class = pd.concat(\n",
    "                [\n",
    "                    losses_per_class,\n",
    "                    pd.DataFrame(\n",
    "                        {\n",
    "                            \"Model\": [file],\n",
    "                            \"Class\": [n],\n",
    "                            \"MSE\": [avg_mse_loss],\n",
    "                            \"SSIM\": [avg_ssim_loss],\n",
    "                            \"PSNR\": [avg_psnr_loss],\n",
    "                        }\n",
    "                    ),\n",
    "                ],\n",
    "                ignore_index=True,\n",
    "            )\n",
    "\n",
    "# Save the results to a CSV file\n",
    "losses_per_class.to_csv(\"models/checkpoints/SMALLAE/MNIST/more_metrics.csv\", index=False)"
   ]
  },
  {
   "cell_type": "code",
   "execution_count": 3,
   "metadata": {},
   "outputs": [
    {
     "ename": "NameError",
     "evalue": "name 'tqdm' is not defined",
     "output_type": "error",
     "traceback": [
      "\u001b[0;31m---------------------------------------------------------------------------\u001b[0m",
      "\u001b[0;31mNameError\u001b[0m                                 Traceback (most recent call last)",
      "Cell \u001b[0;32mIn[3], line 5\u001b[0m\n\u001b[1;32m      1\u001b[0m order_check \u001b[38;5;241m=\u001b[39m []\n\u001b[1;32m      3\u001b[0m pth_files \u001b[38;5;241m=\u001b[39m [file \u001b[38;5;28;01mfor\u001b[39;00m file \u001b[38;5;129;01min\u001b[39;00m os\u001b[38;5;241m.\u001b[39mlistdir(\u001b[38;5;124m'\u001b[39m\u001b[38;5;124mmodels/checkpoints/SMALLAE/MNIST/\u001b[39m\u001b[38;5;124m'\u001b[39m) \u001b[38;5;28;01mif\u001b[39;00m os\u001b[38;5;241m.\u001b[39mpath\u001b[38;5;241m.\u001b[39misfile(os\u001b[38;5;241m.\u001b[39mpath\u001b[38;5;241m.\u001b[39mjoin(\u001b[38;5;124m'\u001b[39m\u001b[38;5;124mmodels/checkpoints/SMALLAE/MNIST/\u001b[39m\u001b[38;5;124m'\u001b[39m, file)) \u001b[38;5;129;01mand\u001b[39;00m file\u001b[38;5;241m.\u001b[39mendswith(\u001b[38;5;124m'\u001b[39m\u001b[38;5;124m.pth\u001b[39m\u001b[38;5;124m'\u001b[39m)]\n\u001b[0;32m----> 5\u001b[0m \u001b[38;5;28;01mfor\u001b[39;00m file \u001b[38;5;129;01min\u001b[39;00m \u001b[43mtqdm\u001b[49m(pth_files):\n\u001b[1;32m      6\u001b[0m     model_order \u001b[38;5;241m=\u001b[39m []\n\u001b[1;32m      7\u001b[0m     latent_space_dict \u001b[38;5;241m=\u001b[39m {}\n",
      "\u001b[0;31mNameError\u001b[0m: name 'tqdm' is not defined"
     ]
    }
   ],
   "source": [
    "order_check = []\n",
    "\n",
    "pth_files = [file for file in os.listdir('models/checkpoints/SMALLAE/MNIST/') if os.path.isfile(os.path.join('models/checkpoints/SMALLAE/MNIST/', file)) and file.endswith('.pth')]\n",
    "\n",
    "for file in tqdm(pth_files):\n",
    "    model_order = []\n",
    "    latent_space_dict = {}\n",
    "    model1 = PocketAutoencoder()\n",
    "    model1.load_state_dict(torch.load(f'models/checkpoints/SMALLAE/MNIST/{file}'))\n",
    "    model1.to(DEVICE)\n",
    "    model1.eval()\n",
    "    \n",
    "    DataLoaders = DataLoaderMNIST\n",
    "    indices = range(60000)  # Assuming you want to use the first 40,000 images\n",
    "    data_loader = DataLoaderMNIST(128, augmentations, indices=indices, seed=0)\n",
    "    train_loader = data_loader.get_train_loader()\n",
    "\n",
    "    # Get all images from test_loader and convert them to latent space\n",
    "    for batch_idx, (images, labels) in enumerate(train_loader):\n",
    "        if batch_idx == len(train_loader) - 1:\n",
    "            break  # Skip the last batch\n",
    "        images = images.to(DEVICE)\n",
    "        with torch.no_grad():\n",
    "            latent_space = model1.get_latent_space(images)\n",
    "\n",
    "        # Convert tensor to numpy array\n",
    "        latent_space_np = latent_space.detach().cpu().numpy()\n",
    "        labels_np = labels.detach().cpu().numpy()\n",
    "        \n",
    "        # Store in dictionary\n",
    "        for numm, idx in enumerate(range(batch_idx*128, (batch_idx+1)*128)):\n",
    "            latent_space_dict[idx] = (latent_space_np[numm], labels_np[numm])\n",
    "            model_order.append(labels_np[numm])\n",
    "    order_check.append(model_order)\n",
    "    torch.save(latent_space_dict, 'models/checkpoints/SMALLAE/MNIST/LATENTS/' + str(file).replace('.pth', '_latent_space.pth'))\n",
    "\n",
    "## Check they are in the same order\n",
    "for i in range(len(order_check)-1):\n",
    "    if order_check[i] != order_check[i+1]:\n",
    "        print('Order is not the same')\n",
    "        break\n",
    "\n",
    "print(len(order_check))"
   ]
  },
  {
   "cell_type": "code",
   "execution_count": null,
   "metadata": {},
   "outputs": [],
   "source": []
  }
 ],
 "metadata": {
  "kernelspec": {
   "display_name": ".zeroshot",
   "language": "python",
   "name": "python3"
  },
  "language_info": {
   "codemirror_mode": {
    "name": "ipython",
    "version": 3
   },
   "file_extension": ".py",
   "mimetype": "text/x-python",
   "name": "python",
   "nbconvert_exporter": "python",
   "pygments_lexer": "ipython3",
   "version": "3.9.6"
  }
 },
 "nbformat": 4,
 "nbformat_minor": 2
}
