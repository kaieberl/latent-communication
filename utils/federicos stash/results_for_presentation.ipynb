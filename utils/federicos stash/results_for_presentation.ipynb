{
 "cells": [
  {
   "cell_type": "code",
   "execution_count": 10,
   "metadata": {},
   "outputs": [],
   "source": [
    "import numpy as np\n",
    "import matplotlib.pyplot as plt\n",
    "from matplotlib.animation import FuncAnimation\n",
    "from sklearn.decomposition import PCA\n",
    "from pathlib import Path\n",
    "import os\n",
    "import sys\n",
    "import hydra\n",
    "import hydra.core.global_hydra\n",
    "import pandas as pd\n",
    "import torch\n",
    "import torch.nn as nn\n",
    "from omegaconf import DictConfig\n",
    "from tqdm import tqdm\n",
    "from IPython.display import HTML\n",
    "\n",
    "# Define the project root directory name\n",
    "PROJECT_ROOT_DIR = \"latent-communication\"\n",
    "\n",
    "current_dir = os.getcwd()\n",
    "\n",
    "# Find the project root by walking up the directory tree\n",
    "while current_dir:\n",
    "    if os.path.basename(current_dir) == PROJECT_ROOT_DIR:\n",
    "        break  # Found the project root!\n",
    "    current_dir = os.path.dirname(current_dir)\n",
    "else:\n",
    "    raise FileNotFoundError(f\"Project root '{PROJECT_ROOT_DIR}' not found in the directory tree.\")\n",
    "\n",
    "os.chdir(current_dir)\n",
    "# Add the project root and any necessary subdirectories to sys.path\n",
    "sys.path.insert(0, current_dir) \n",
    "sys.path.insert(0, os.path.join(current_dir, \"utils\"))  # Add the utils directory if needed\n",
    "\n",
    "from utils.dataloaders.get_dataloaders import define_dataloader\n",
    "from utils.get_mapping import load_mapping\n",
    "from utils.model import load_model\n",
    "import matplotlib as mpl\n",
    "\n",
    "DEVICE = (\n",
    "    torch.device(\"cuda\")\n",
    "    if torch.cuda.is_available()\n",
    "    else torch.device(\"mps\") if torch.backends.mps.is_available() else \"cpu\"\n",
    ")\n",
    "hydra.core.global_hydra.GlobalHydra.instance().clear()"
   ]
  },
  {
   "cell_type": "code",
   "execution_count": 12,
   "metadata": {},
   "outputs": [
    {
     "name": "stdout",
     "output_type": "stream",
     "text": [
      "/Users/federicoferoggio/Documents/vs_code/latent-communication\n",
      "FMNIST_VAE_8_3 0.08275162428617477\n",
      "FMNIST_VAE_8_2 0.08261602371931076\n",
      "FMNIST_VAE_64_1 0.07893422991037369\n",
      "FMNIST_VAE_64_3 0.07954147458076477\n",
      "FMNIST_VAE_8_1 0.08291251957416534\n",
      "FMNIST_VAE_64_2 0.07903110980987549\n",
      "FMNIST_VAE_32_3 0.0804511308670044\n",
      "FMNIST_VAE_16_2 0.08289296180009842\n",
      "FMNIST_VAE_16_3 0.08091039210557938\n",
      "FMNIST_VAE_32_2 0.07916295528411865\n",
      "FMNIST_VAE_16_1 0.07920797914266586\n",
      "FMNIST_VAE_32_1 0.08049789071083069\n"
     ]
    }
   ],
   "source": [
    "dict_losses = pd.DataFrame(columns=[])\n",
    "\n",
    "print(os.getcwd())\n",
    "\n",
    "for file in os.listdir(\"models/checkpoints/VAE/FMNIST\"):\n",
    "    file = file[:-4]\n",
    "    name_dataset1, name_model1, size_of_the_latent1, seed1 = file.split(\"_\")\n",
    "    images, labels, n_classes = define_dataloader(name_dataset1, name_model1, seed=seed1, use_test_set=False)\n",
    "    name_dataset2, name_model2, size_of_the_latent2, seed2 = file.split(\"_\")\n",
    "\n",
    "    filepath = f\"models/checkpoints/VAE/FMNIST/{name_dataset2}_{name_model2}_{size_of_the_latent2}_{seed2}.pth\"\n",
    "    model2 = load_model(\n",
    "        model_name=name_model2,\n",
    "        name_dataset=name_dataset2,\n",
    "        latent_size=size_of_the_latent2,\n",
    "        seed=seed2,\n",
    "        model_path=filepath,\n",
    "    ).to(DEVICE)\n",
    "    model2.eval()\n",
    "    reconstructed = model2(images.to(DEVICE).float())\n",
    "    loss = nn.MSELoss()\n",
    "    loss_value = loss(reconstructed, images.to(DEVICE).float())\n",
    "    print(file, loss_value.item())\n",
    "    "
   ]
  },
  {
   "cell_type": "code",
   "execution_count": null,
   "metadata": {},
   "outputs": [],
   "source": []
  }
 ],
 "metadata": {
  "kernelspec": {
   "display_name": ".zeroshot",
   "language": "python",
   "name": "python3"
  },
  "language_info": {
   "name": "python",
   "version": "3.12.2"
  }
 },
 "nbformat": 4,
 "nbformat_minor": 2
}
