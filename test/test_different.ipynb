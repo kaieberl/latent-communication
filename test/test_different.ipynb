{
 "cells": [
  {
   "cell_type": "code",
   "execution_count": null,
   "metadata": {},
   "outputs": [],
   "source": [
    "import os\n",
    "import sys \n",
    "\n",
    "PROJECT_ROOT_DIR = \"latent-communication\"\n",
    "\n",
    "current_dir = os.getcwd()\n",
    "\n",
    "# Find the project root by walking up the directory tree\n",
    "while current_dir:\n",
    "    if os.path.basename(current_dir) == PROJECT_ROOT_DIR:\n",
    "        break  # Found the project root!\n",
    "    current_dir = os.path.dirname(current_dir)\n",
    "else:\n",
    "    raise FileNotFoundError(f\"Project root '{PROJECT_ROOT_DIR}' not found in the directory tree.\")\n",
    "\n",
    "os.chdir(current_dir)\n",
    "# Add the project root and any necessary subdirectories to sys.path\n",
    "sys.path.insert(0, current_dir) \n",
    "sys.path.insert(0, os.path.join(current_dir, \"utils\"))  # Add the utils directory if needed\n",
    "\n",
    "print(os.getcwd())\n",
    "\n",
    "from pathlib import Path\n",
    "import torch.nn as nn\n",
    "\n",
    "import itertools\n",
    "import torch\n",
    "import numpy as np\n",
    "from tqdm import tqdm\n",
    "from torchvision.datasets import MNIST\n",
    "from torchvision.transforms import transforms\n",
    "from sklearn.decomposition import PCA\n",
    "import matplotlib.pyplot as plt\n",
    "import seaborn as sns\n",
    "import pandas as pd\n",
    "import logging\n",
    "\n",
    "from utils.dataloaders.full_dataloaders import DataLoaderMNIST, DataLoaderFashionMNIST, DataLoaderCIFAR10, DataLoaderCIFAR100\n",
    "from utils.visualization import (\n",
    "    visualize_latent_space,\n",
    ")\n",
    "\n",
    "from utils.get_mapping import load_mapping\n",
    "from utils.model import load_model, get_transformations\n",
    "\n",
    "\n",
    "DEVICE = torch.device(\"cuda\" if torch.cuda.is_available() else \"cpu\")"
   ]
  },
  {
   "cell_type": "code",
   "execution_count": null,
   "metadata": {},
   "outputs": [],
   "source": [
    "PATH1 = \"results/transformations/calculations_databases/PCKTAE_class.csv\"\n",
    "\n",
    "results = pd.read_csv(os.path.join(current_dir, PATH1), sep='#')\n",
    "\n",
    "results = results[results['latent_dim'] == 50]\n",
    "\n"
   ]
  }
 ],
 "metadata": {
  "language_info": {
   "name": "python"
  }
 },
 "nbformat": 4,
 "nbformat_minor": 2
}
