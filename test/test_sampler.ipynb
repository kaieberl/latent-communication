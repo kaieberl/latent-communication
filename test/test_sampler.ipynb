{
 "cells": [
  {
   "cell_type": "markdown",
   "metadata": {},
   "source": [
    "## Sampler Test\n",
    "Beforehand the models should be defined as well the checkpoint files should be available"
   ]
  },
  {
   "cell_type": "code",
   "execution_count": 23,
   "metadata": {},
   "outputs": [],
   "source": [
    "from utils.sampler import *\n",
    "from models.definitions.ae import *\n",
    "from models.definitions.vae import *\n",
    "from models.definitions.resnet import *\n",
    "from utils.sampler import *\n",
    "import torch\n",
    "from utils.dataloaders.dataloader_mnist_single import DataLoaderMNIST\n",
    "\n",
    "\n"
   ]
  },
  {
   "cell_type": "markdown",
   "metadata": {},
   "source": [
    "#### Loading all Models "
   ]
  },
  {
   "cell_type": "code",
   "execution_count": 24,
   "metadata": {},
   "outputs": [
    {
     "data": {
      "text/plain": [
       "<All keys matched successfully>"
      ]
     },
     "execution_count": 24,
     "metadata": {},
     "output_type": "execute_result"
    }
   ],
   "source": [
    "# Autoencoer model\n",
    "model1 = LightningAutoencoder()\n",
    "model1.load_state_dict(torch.load('../models/checkpoints/AE/MNIST/MNIST_AE_1_5.pth'))\n"
   ]
  },
  {
   "cell_type": "code",
   "execution_count": null,
   "metadata": {},
   "outputs": [],
   "source": [
    "sample = sample_equally_per_class(100, )"
   ]
  }
 ],
 "metadata": {
  "kernelspec": {
   "display_name": "relreps",
   "language": "python",
   "name": "python3"
  },
  "language_info": {
   "codemirror_mode": {
    "name": "ipython",
    "version": 3
   },
   "file_extension": ".py",
   "mimetype": "text/x-python",
   "name": "python",
   "nbconvert_exporter": "python",
   "pygments_lexer": "ipython3",
   "version": "3.8.19"
  }
 },
 "nbformat": 4,
 "nbformat_minor": 2
}
